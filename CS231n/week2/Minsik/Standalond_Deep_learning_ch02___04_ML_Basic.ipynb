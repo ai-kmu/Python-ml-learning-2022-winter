{
  "nbformat": 4,
  "nbformat_minor": 0,
  "metadata": {
    "colab": {
      "name": "Standalond Deep_learning  ch02 ~ 04. ML Basic",
      "provenance": [],
      "collapsed_sections": [],
      "machine_shape": "hm"
    },
    "kernelspec": {
      "display_name": "Python 3",
      "name": "python3"
    },
    "accelerator": "GPU"
  },
  "cells": [
    {
      "cell_type": "markdown",
      "metadata": {
        "id": "V28Z69PUIWqp"
      },
      "source": [
        "## Chapter 02. ML Basic(Lecture)\n",
        "\n",
        "#### - ML 정의 \n",
        "\n",
        "Q. What is Machine Learning? <br>\n",
        "A. \"A Field of study that gives computer the ability to learn without being explicity programmed\" (Arthur Samuel, 1959)\n",
        "\n",
        "<br>\n",
        "\n",
        "#### - DL, ML AI의 관계도 \n",
        "Deep Learning < Representation Learning(ex.shallow neural network) < Machine Learning(ex.logistic regression) < Artificial Intelligence(automated Planneing)"
      ]
    },
    {
      "cell_type": "markdown",
      "source": [
        "#### - Categories of ML Problems\n",
        "\n",
        "|           | Supervised Learning | Unsupervised Learning    |  Reinforecement Learning     | \n",
        "| ------    | ------------------- | ------------------------ | ---------------------------- | \n",
        "| Discrete  |   Classification    |        Clustring         | Discrete Action space Agent  | \n",
        "| Continuous|   Regression        | Dimensionality Reduction | Continuous Action space Agent| \n",
        "\n",
        "(1) row 방향: output space <br>\n",
        "(2) coclumn 방향: 학습 방법 <br>\n",
        "(3) Semi-Supervised Learning -> Supervised Learning + Unsupervised Learning\n",
        "\n",
        "<br>  \n",
        "\n",
        "### 1. Supervised Learnig \n",
        "- input data(x)와 target(y, label) 둘 다 존재\n",
        "\n",
        "#### [1] Regression\n",
        "\n",
        "-> Fit the prediction function f(x) to the traning data to predict continuous real value(continuous space) <br>\n",
        "-> type: Linear(선형), Nonlinear(비선형)\n",
        "\n",
        "#### [2] Classification\n",
        "\n",
        "-> identifying which of a set of categories a new instance belongs <br>\n",
        "-> Decision Boundary(ex: Linear Classification) <br>\n",
        "-> type: Binary(단일 분류), Multi-class(다중 분류)\n",
        "\n",
        "<br>  \n",
        "\n",
        "### 2. Unsupervised Learning\n",
        "- target(y, label)이 존재하지 않음\n",
        "\n",
        "#### [3] Clustring problem\n",
        "-> Automatic grouping of instances, such that the instances that belong to the same clusters are more similar to each other than to those in the other groups <br>\n",
        "-> Instances Similarity <br>\n",
        "-> feature selection / feature extraction 활용\n",
        "\n",
        "#### [4] Dimensionality Reduction\n",
        "-> Reduce the dimension of input data, to avoid the effect of the curse of dimensionality <br> \n",
        "-> curse of dimensionatlity(차원의 저주), Reduce unnecessary representation axis <br>\n",
        "-> PCA <br>\n",
        "-> Other Algorithm using(feature & Data Represetation: CNN ) \n",
        "\n",
        "<br>\n",
        "\n",
        "#### 참고자료\n",
        "-> 우리가 풀고자하는 Domain 영역이 위의 내용 중에서 결정하는 "
      ],
      "metadata": {
        "id": "2HKjouq4wyvf"
      }
    },
    {
      "cell_type": "markdown",
      "source": [
        "## Chapter 03. LInear Regression + How to minimize cost(Lecture)\n",
        "\n",
        "### 1. Hypothesis(Simplified): $f(x) = wx + b$\n",
        "\n",
        "### 2. Cost(loss) Function [모델의 정량적 평가]\n",
        "-  How fit the line to our trainging data(which hypothesis is better?) <br>\n",
        "-  Basic principle: $f(x) - y $\n",
        "\n",
        "<br> \n",
        "\n",
        "#### 2-1. Regression cost (input: Hypothesis -> Goal: Minimize cost\n",
        "- $ cost(W,b) = {1 \\over m } {\\sum_{k=1}^m (f(x^{i}) - y^{i})^2  } $  -> Minimize cost(w,b)\n",
        "\n",
        "<br>\n",
        "\n",
        "#### 2.2 How to reduce cost function(Updata Algorithm) \n",
        "- 간단한 Hypothesis의 경우는 Cost function 시각화 가능 <br> \n",
        "- Deep Learning의 경우 수 많은 parameter 존재 -> Cost function 시각화 불가 \n",
        "- convex function(초기 Initialization에 따라 결과가 달라질 수 있음)\n",
        " -> Random experiment 후 결과값 평균 내는 방식 \n",
        "<br>\n",
        "<br>\n",
        "\n",
        "[1] Start with initial guesses \n",
        "- Start at 0 or any other value <br>\n",
        "- Keeping changing parameters(W and b) a little bit to try and reduce cost\n",
        "\n",
        "[2] Each time you change the parameters, you select the gradient which reduces cost(W,b) most possible\n",
        "- Gradient: Cost Differential(- $f \\prime $)\n",
        "- Formal definition(Gradient Updata / Optimization): $ W := W - \\alpha {\\partial f \\over \\partial W}cost(W) $ \n",
        "\n",
        "[3] Repeat [2]\n",
        "\n",
        "[4] Do so until you converge to a local minimum\n",
        "\n",
        "[5] Has an interesting property\n",
        "- Where you start can determine which minimum you end up\n",
        "\n",
        "#### 2.3 Multivariable linear regression\n",
        "- Hypothesis using Matrx\n",
        " -> $$ f(x) = y(x,w) = w_{1}x_{1} + w_{2}x_{2} + \\cdots + w_{n}x_{n} = \\begin{bmatrix} w_{1} & \\cdots & w_{n} \\end{bmatrix}  \\begin{bmatrix} x_{1} \\\\ \\vdots \\\\  x_{n} \\end{bmatrix} = w^Tx  = xw $$\n",
        "\n",
        " -> coding 간에는 Matrix x(미지수 행렬) dot Matrix w(계수 행렬)   \n"
      ],
      "metadata": {
        "id": "Gcv6BZnoJeMb"
      }
    },
    {
      "cell_type": "markdown",
      "source": [
        "## Chapter 04. Linear Regression Pratice(Lab)\n",
        "\n",
        "### 1. Data Generation(prepration)\n",
        "- Linear Rgression 실습: 공부 시간(h)과 성적\n",
        "- 해당 데이터(x, y) 2D 평면 상의 시각화"
      ],
      "metadata": {
        "id": "pT8mjjdEWjWf"
      }
    },
    {
      "cell_type": "code",
      "source": [
        "# data generation(simple data)\n",
        "x = [i for i in range(10)]          # 공부 시간(x)\n",
        "y = [1, 1, 2, 4, 5, 7, 8, 9, 9, 10] # 성적(y)\n",
        "\n",
        "# data visualization\n",
        "import matplotlib.pyplot as plt     # x, y 값을 가지고 line 그래프 그리기\n",
        "#plt.plot(x, y)\n",
        "plt.scatter(x, y) "
      ],
      "metadata": {
        "colab": {
          "base_uri": "https://localhost:8080/",
          "height": 282
        },
        "id": "A7Be9FHtJe6T",
        "outputId": "ecbb5e38-e245-463a-a237-5456fcd0cc4a"
      },
      "execution_count": 1,
      "outputs": [
        {
          "output_type": "execute_result",
          "data": {
            "text/plain": [
              "<matplotlib.collections.PathCollection at 0x7f1496ae04d0>"
            ]
          },
          "metadata": {},
          "execution_count": 1
        },
        {
          "output_type": "display_data",
          "data": {
            "image/png": "[encoded data removed]",
            "text/plain": [
              "<Figure size 432x288 with 1 Axes>"
            ]
          },
          "metadata": {
            "needs_background": "light"
          }
        }
      ]
    },
    {
      "cell_type": "markdown",
      "source": [
        "### 2. Hyppthesis Define \n",
        "- Linear Regression 활용하는 $ f(x) = WX + B $\n",
        "- 여기서는 b(편향)이 없는 $ f(x) = WX $라는 모델(Hypothesis) 표현 \n",
        "\n",
        "### 3. Cost function Define \n",
        "- Regression Problem 에서의 Cost Function을 작성(앞선 hypothesis가 얼마나 좋고 혹은 나쁜지 판단, cost function)"
      ],
      "metadata": {
        "id": "MWujjkdgsmus"
      }
    },
    {
      "cell_type": "code",
      "source": [
        "# Hyperthosis definition\n",
        "class H(): # 일종의 template(model parameter w를 input으로 받음)\n",
        "    def __init__(self, w): # intialization(input data) / Class의 Method에서 반드시 self 정의\n",
        "      self.w = w           # Class에서 변수 정의하기 위해서 반드시 self 정의 \n",
        "\n",
        "    def forward(self, x):  # forward 함수 사용, instance(sample) x가 input 들어오면 예측하는 값(linear regression)\n",
        "        return self.w * x  \n",
        "\n",
        "# cost function defintion \n",
        "def cost(h, X, Y):          \n",
        "    error =  0              # error 초기화\n",
        "    for i in range(len(X)): # input data 각각을 error \n",
        "        error += (h.forward(x[i]) - y[i]) ** 2  # cost function: MSE \n",
        "\n",
        "    error = error / len(x)  # error 평균(총 error / data 개수)\n",
        "    return error\n",
        "\n",
        "h = H(4)                                              # w = 1 -> H(1) 모델 생성\n",
        "pred_y = h.forward(5)                                 # x = 5 -> instance(sample)이 input이 들어올 때\n",
        "print('value of f(5) :', pred_y)                      # y = x (x = 5 일 때)\n",
        "print('value of w :', h.w)                            # w(weight) 값 \n",
        "print(\"The reuslt of Cost function:\", cost(h, x, y))  # 모델이 관측한 dataset에 대해서 222.2 cost 가짐"
      ],
      "metadata": {
        "colab": {
          "base_uri": "https://localhost:8080/"
        },
        "id": "ysiRSfJDWGHp",
        "outputId": "c4a1806d-aad5-430f-84d5-cbc4ed8762f8"
      },
      "execution_count": 2,
      "outputs": [
        {
          "output_type": "stream",
          "name": "stdout",
          "text": [
            "value of f(5) : 20\n",
            "value of w : 4\n",
            "The reuslt of Cost function: 222.2\n"
          ]
        }
      ]
    },
    {
      "cell_type": "code",
      "source": [
        "# 위의 코드 발전된 새로운 코드\n",
        "# 위의 코드의 단점: cost caculation 할 때 cost function 내에 H(x)를 계산하여 개별적으로 구함\n",
        "# 일반적: cost(loss) function는 true_y와 pred_y 각각 list만 받아서 구함(H(x) 적용하는 게 x) \n",
        "\n",
        "def better_cost(pred_y, true_y): \n",
        "    error = 0               # error 초기화\n",
        "    for i in range(len(x)): # input data 각각을 error 구하기\n",
        "        error += (pred_y[i] - true_y[i])**2  # Error function: MSE\n",
        "    error = error / len(x)  # error 평균(총 error / data 개수)\n",
        "    return error\n",
        "\n",
        "pred_y = [ h.forward(x[i]) for i in range(len(x)) ]                      # 미리 모델 h를 통해서 각 x 인스턴스에 대한 y 값을 예측.\n",
        "print('cost value with better code structure :', better_cost(pred_y, y)) # 222.2 라는 값 동일하게 나오는 것을 확인 "
      ],
      "metadata": {
        "colab": {
          "base_uri": "https://localhost:8080/"
        },
        "id": "7QDfjT6X7vGw",
        "outputId": "142f0207-9221-4c9e-b6c7-6cd0a755ecec"
      },
      "execution_count": 3,
      "outputs": [
        {
          "output_type": "stream",
          "name": "stdout",
          "text": [
            "cost value with better code structure : 222.2\n"
          ]
        }
      ]
    },
    {
      "cell_type": "markdown",
      "source": [
        "## 4. Cost Surface Visualization\n",
        "- 위에서 정의한 weight에 대한 cost 확인\n",
        "- w의 변화에 따라서, cost 변화 확인"
      ],
      "metadata": {
        "id": "TPhxM4E60BrR"
      }
    },
    {
      "cell_type": "code",
      "source": [
        "# 앞선 실행한 H를 for 문을 통한 자동화로 H 확인\n",
        "list_c, list_w = [], []    # list_c: cost 저장 list / list_w: weight 저장 list\n",
        "for i in range(-100, 100): \n",
        "    w = i * 0.1\n",
        "    h = H(w)\n",
        "    c = cost(h, x, y)\n",
        "\n",
        "    # 10개의 parameter w의 값과 loss function 보기\n",
        "    if i <= 10 and i >= 0:\n",
        "        print(\"Parameter w의 값: {} - Loss Function: {}\".format(round(w,2), round(c,2)))\n",
        "\n",
        "    # loss function storage\n",
        "    list_w.append(w)\n",
        "    list_c.append(c)\n",
        "\n",
        "# loss function visualization\n",
        "plt.figure(figsize = (5,5))    \n",
        "plt.scatter(list_w, list_c, s = 0.1)\n",
        "plt.xlabel('w')\n",
        "plt.ylabel('cost')"
      ],
      "metadata": {
        "colab": {
          "base_uri": "https://localhost:8080/",
          "height": 542
        },
        "id": "AB3ghhqXYzy4",
        "outputId": "caaee05a-71e7-428e-9767-14647826bc8c"
      },
      "execution_count": 9,
      "outputs": [
        {
          "output_type": "stream",
          "name": "stdout",
          "text": [
            "Parameter w의 값: 0.0 - Loss Function: 42.2\n",
            "Parameter w의 값: 0.1 - Loss Function: 35.59\n",
            "Parameter w의 값: 0.2 - Loss Function: 29.54\n",
            "Parameter w의 값: 0.3 - Loss Function: 24.06\n",
            "Parameter w의 값: 0.4 - Loss Function: 19.16\n",
            "Parameter w의 값: 0.5 - Loss Function: 14.82\n",
            "Parameter w의 값: 0.6 - Loss Function: 11.06\n",
            "Parameter w의 값: 0.7 - Loss Function: 7.86\n",
            "Parameter w의 값: 0.8 - Loss Function: 5.24\n",
            "Parameter w의 값: 0.9 - Loss Function: 3.19\n",
            "Parameter w의 값: 1.0 - Loss Function: 1.7\n"
          ]
        },
        {
          "output_type": "execute_result",
          "data": {
            "text/plain": [
              "Text(0, 0.5, 'cost')"
            ]
          },
          "metadata": {},
          "execution_count": 9
        },
        {
          "output_type": "display_data",
          "data": {
            "image/png": "[encoded data removed]",
            "text/plain": [
              "<Figure size 360x360 with 1 Axes>"
            ]
          },
          "metadata": {
            "needs_background": "light"
          }
        }
      ]
    },
    {
      "cell_type": "code",
      "source": [
        "list_w = []  #weight값 담을 리스트\n",
        "list_c = []  #cost값 담을 리스트\n",
        "for i in range(-20, 20):\n",
        "    w = i * 0.5\n",
        "    h = H(w)\n",
        "    c = cost(h, x, y)\n",
        "    list_w.append(w)\n",
        "    list_c.append(c)\n",
        "    \n",
        "print(list_w) #w값 print\n",
        "print(list_c) #c값 print\n",
        "\n",
        "plt.figure(figsize=(10,5))\n",
        "plt.xlabel('w')\n",
        "plt.ylabel('cost')\n",
        "plt.scatter(list_w, list_c, s=3)"
      ],
      "metadata": {
        "colab": {
          "base_uri": "https://localhost:8080/",
          "height": 406
        },
        "id": "amjeB9XE_jmG",
        "outputId": "6e57799c-10e0-4f91-9505-543bde138517"
      },
      "execution_count": 10,
      "outputs": [
        {
          "output_type": "stream",
          "name": "stdout",
          "text": [
            "[-10.0, -9.5, -9.0, -8.5, -8.0, -7.5, -7.0, -6.5, -6.0, -5.5, -5.0, -4.5, -4.0, -3.5, -3.0, -2.5, -2.0, -1.5, -1.0, -0.5, 0.0, 0.5, 1.0, 1.5, 2.0, 2.5, 3.0, 3.5, 4.0, 4.5, 5.0, 5.5, 6.0, 6.5, 7.0, 7.5, 8.0, 8.5, 9.0, 9.5]\n",
            "[3582.2, 3269.825, 2971.7, 2687.825, 2418.2, 2162.825, 1921.7, 1694.825, 1482.2, 1283.825, 1099.7, 929.825, 774.2, 632.825, 505.7, 392.825, 294.2, 209.825, 139.7, 83.825, 42.2, 14.825, 1.7, 2.825, 18.2, 47.825, 91.7, 149.825, 222.2, 308.825, 409.7, 524.825, 654.2, 797.825, 955.7, 1127.825, 1314.2, 1514.825, 1729.7, 1958.825]\n"
          ]
        },
        {
          "output_type": "execute_result",
          "data": {
            "text/plain": [
              "<matplotlib.collections.PathCollection at 0x7f14901abe50>"
            ]
          },
          "metadata": {},
          "execution_count": 10
        },
        {
          "output_type": "display_data",
          "data": {
            "image/png": "[encoded data removed]",
            "text/plain": [
              "<Figure size 720x360 with 1 Axes>"
            ]
          },
          "metadata": {
            "needs_background": "light"
          }
        }
      ]
    },
    {
      "cell_type": "markdown",
      "source": [
        "### 5. Gradient Descent Algorithm \n",
        "- 특정 w 근방에서의 w에 대한 편미분을 구하기\n",
        "<br>\n",
        "\n",
        "[1] 수치적 \n",
        "- $ w = 4 $ 지점과 $ w = 4 + eps $ 인 지점에서 cost 값을 각각 구한 후 차이를 구해 Gradient 구하는 방식 <br>\n",
        "\n",
        "[2] 편미분 공식 대입(해석적)\n",
        "- cost function을 $w$ 편미분 공식을 통해 바로 특정 $w$에서의 Gradient 구하는 방식"
      ],
      "metadata": {
        "id": "tRVqzlOF6VfR"
      }
    },
    {
      "cell_type": "code",
      "source": [
        "# 1. 수치해석적 Gradient 근사 \n",
        "def cal_grad(w, cost):    # gradient 계산(수치 해석 / 근사)\n",
        "    h = H(w)              # 모델(Hporthesis)을 생성\n",
        "    cost1 = cost(h, x, y) # error 계산(MSE)\n",
        "    eps = 0.00001  \n",
        "    h = H(w + eps)        # w에서 eps 만큼 떨어진 곳에 모델 생성\n",
        "    cost2 = cost(h, x, y) # error 계산\n",
        "    \n",
        "    dcost = cost2 - cost1 # 두 개(w와 w+eps) 사이의 error 계산\n",
        "    dw = eps             \n",
        "\n",
        "    grad = dcost / dw     # gradient 계산\n",
        "    return grad, (cost1 + cost2) / 2\n",
        "\n",
        "# 2. 편미부한 공식에 바로 대입하여 계산\n",
        "def cal_grad2(w, cost): \n",
        "    h = H(w)                # 모델(Hporthesis)을 생성\n",
        "    grad = 0                # gradient 초기화(초기 설정)\n",
        "    for i in range(len(x)): # 편미분 후 grade 계산\n",
        "        grad += 2 * (h.forward(x[i]) - y[i]) * x[i]\n",
        "    grad = grad / len(x)    # gradient 평균 계산\n",
        "    c = cost(h, x, y)       # cost fucntion 통해 cost 값 \n",
        "    return grad, c\n",
        "\n",
        "\n",
        "w1 = 1.4\n",
        "w2 = 1.4\n",
        "lr = 0.01 # Hyperparameter Tunning(problem fitting value selected)\n",
        "\n",
        "# weight와 error(cost)를 저장할 list 정의 \n",
        "list_w1 = []\n",
        "list_c1 = []\n",
        "list_w2 = []\n",
        "list_c2 = []\n",
        "\n",
        "for i in range(100): # 총 100번의 Iteration(반복)을 통해서 학습을 진행\n",
        "    grad, mean_cost = cal_grad(w1, cost)      # 수치해석적 방법으로 cost, grad 계산\n",
        "    grad2, mean_cost2 = cal_grad2(w2, cost)   # 편미분 공식 대입으로 cost, grad 계산\n",
        "\n",
        "    w1 -= lr * grad                           # w1 updata\n",
        "    w2 -= lr * grad2                          # w2 updata\n",
        "    list_w1.append(w1)\n",
        "    list_w2.append(w2)\n",
        "    list_c1.append(mean_cost)\n",
        "    list_c2.append(mean_cost2)\n",
        "    \n",
        "print(w1, mean_cost, w2, mean_cost2) # w1 과 w2 를 출력해보니 둘다 1.21 정도로 비슷한 값으로 수렴\n",
        "  \n",
        "# 매 Iteration에서의 w 값과 cost 값을 그래프 상에 찍어보면 둘이 거의 정확하게 같은 지점을 통과하므로 초록색 동그라미가 파란색 별표를 가리네요\n",
        "plt.scatter(list_w1, list_c1, label='analytic', marker='*')\n",
        "plt.scatter(list_w2, list_c2, label='formula')\n",
        "plt.legend()"
      ],
      "metadata": {
        "id": "mKi4BIKWp_Mq",
        "colab": {
          "base_uri": "https://localhost:8080/",
          "height": 300
        },
        "outputId": "7d8cc9ab-d61e-4b52-f12d-857a31cfe223"
      },
      "execution_count": 13,
      "outputs": [
        {
          "output_type": "stream",
          "name": "stdout",
          "text": [
            "1.2105213157896242 0.43684210597565787 1.2105263157894737 0.43684210526315803\n"
          ]
        },
        {
          "output_type": "execute_result",
          "data": {
            "text/plain": [
              "<matplotlib.legend.Legend at 0x7f149001e550>"
            ]
          },
          "metadata": {},
          "execution_count": 13
        },
        {
          "output_type": "display_data",
          "data": {
            "image/png": "[encoded data removed]",
            "text/plain": [
              "<Figure size 432x288 with 1 Axes>"
            ]
          },
          "metadata": {
            "needs_background": "light"
          }
        }
      ]
    },
    {
      "cell_type": "markdown",
      "source": [
        "#### Compare Training process of Two Models Initialized from Different w value"
      ],
      "metadata": {
        "id": "73uEu9Ka6_px"
      }
    },
    {
      "cell_type": "code",
      "source": [
        "# 서로 다른 parameter에서 시작할 때 어떻게 변하는지 확인\n",
        "w1 = 1.4\n",
        "w2 = 1.1\n",
        "lr = 0.01\n",
        "\n",
        "list_w1 = []\n",
        "list_c1 = []\n",
        "list_w2 = []\n",
        "list_c2 = []\n",
        "\n",
        "for i in range(100): # 총 100번의 Iteration(반복)을 통해서 학습을 진행해봅시다.\n",
        "    grad, mean_cost = cal_grad2(w1, cost)\n",
        "    grad2, mean_cost2 = cal_grad2(w2, cost)\n",
        "\n",
        "    w1 -= lr * grad\n",
        "    w2 -= lr * grad2\n",
        "    list_w1.append(w1)\n",
        "    list_w2.append(w2)\n",
        "    list_c1.append(mean_cost)\n",
        "    list_c2.append(mean_cost2)\n",
        "    \n",
        "print(w1, mean_cost, w2, mean_cost2) # w1 과 w2 를 출력해보니 둘다 1.21 정도로 비슷한 값으로 수렴\n",
        "  \n",
        "# 결론: 서로 다른 지점 시작하더라도, 학습 진행 과정에서 파라미터(w=1.21)로 수렴하는 양상 확인\n",
        "plt.scatter(list_w1, list_c1, label='start from w=1.4', marker='*')\n",
        "plt.scatter(list_w2, list_c2, label='start from w=1.1')\n",
        "plt.legend()"
      ],
      "metadata": {
        "colab": {
          "base_uri": "https://localhost:8080/",
          "height": 300
        },
        "id": "NDdcnXoQshpr",
        "outputId": "f2acadd3-3222-42fc-91ec-2d68b96cc493"
      },
      "execution_count": 14,
      "outputs": [
        {
          "output_type": "stream",
          "name": "stdout",
          "text": [
            "1.2105263157894737 0.43684210526315803 1.2105263157894737 0.43684210526315803\n"
          ]
        },
        {
          "output_type": "execute_result",
          "data": {
            "text/plain": [
              "<matplotlib.legend.Legend at 0x7f148ff7e1d0>"
            ]
          },
          "metadata": {},
          "execution_count": 14
        },
        {
          "output_type": "display_data",
          "data": {
            "image/png": "[encoded data removed]",
            "text/plain": [
              "<Figure size 432x288 with 1 Axes>"
            ]
          },
          "metadata": {
            "needs_background": "light"
          }
        }
      ]
    }
  ]
}