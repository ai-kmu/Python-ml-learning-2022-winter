{
 "cells": [
  {
   "cell_type": "markdown",
   "metadata": {},
   "source": [
    "# lec4"
   ]
  },
  {
   "cell_type": "markdown",
   "metadata": {},
   "source": [
    "# Lab1. Linear Regression (with pure python)  \n",
    "\n",
    "이 실습에서는 Regression Problem에 대해서 Linear Regression Hypothesis를 통해 풀어볼 겁니다. `pytorch`, `numpy`, `pandas` 등을 하나도 안쓰고 구현해보는게 본 실습의 묘미입니다.\n",
    "\n",
    "\n",
    "**이 문서를 구글 Colab에서 쉽게 실행해보는법**  \n",
    "1. [제가 미리 만들어놓은 이 링크](https://colab.research.google.com/github/heartcored98/Standalone-DeepLearning/blob/master/Lec1/Lab1_linear_regression.ipynb)를 눌러 본 .ipynb 파일을 구글 Colab에서 바로 열 수 있습니다. 이때 구글에 로그인을 해야 합니다.\n",
    "2. 아무 셀이나 선택한 후 `Ctrl+Enter`를 눌러 실행해보면 **[경고: 이 노트는 Google에서 작성하지 않았습니다]**라고 뜨는데 `실행 전에 모든 런타임 재설정`을 선택한 채로 `무시하고 계속하기`를 눌러줍니다.  \n",
    "3. **[모든 런타임 재설정]** 이 뜰 텐데 `예`를 눌러줍니다.  \n",
    "4. 잠시 구글 서버의 배치가 되면서 우상단에 `연결중` -> `초기화중` -> `연결됨`이 뜨면서 실행이 가능한 상태가 됩니다.  \n",
    "\n",
    "**이 문서를 구글 Colab에서 어렵게 실행해보는법**  \n",
    "1. 구글 Colab 문서를 하나 만들어줍시다. \n",
    "2. 본 문서에 있는 셀에 있는 코드를 드래그 한 후 `Ctrl+C`를 눌러줍시다.  \n",
    "3. 구글 Colab 문서에 가서 `Ctrl+V`를 눌러줍시다.\n",
    "4. 모든 셀이 다 복사될 때까지 1~3 무한반복!  \n",
    "\n",
    "**구글 Colab에서 실습후 저장하는법**  \n",
    "**쉽게 실행보는법**을 따라오셨다면 Colab에서 임시 노트북으로 열리기 때문에 `파일`->`드라이브로 저장`을 눌러서 여러분의 구글 드라이브에 저장하거나 `파일` -> `.ipynb 다운로드`를 눌러서 다운로드 해줍시다.   \n",
    "\n",
    "*Written by. 조재영(whwodud9@kaist.ac.kr) 2019.01.17 *"
   ]
  },
  {
   "cell_type": "markdown",
   "metadata": {
    "colab_type": "text",
    "id": "23sQEXhSfY4I"
   },
   "source": [
    "# 1. Data Generation  (Preparation)\n",
    "\n",
    "Linear Regression 실습에 사용할 공부한 시간에 따른 성적 데이터를 만들어봅시다."
   ]
  },
  {
   "cell_type": "code",
   "execution_count": 1,
   "metadata": {
    "colab": {},
    "colab_type": "code",
    "id": "Jzbus9xZG11d"
   },
   "outputs": [],
   "source": [
    "X = [0, 1, 2, 3, 4, 5, 6, 7, 8, 9]\n",
    "Y = [1, 1, 2, 4, 5, 7, 8, 9, 9, 10]"
   ]
  },
  {
   "cell_type": "markdown",
   "metadata": {
    "colab_type": "text",
    "id": "8vUTWMXilI0-"
   },
   "source": [
    "X, Y 데이터를 2D 평면 상에 시각화 해볼까요?"
   ]
  },
  {
   "cell_type": "code",
   "execution_count": 12,
   "metadata": {
    "colab": {
     "base_uri": "https://localhost:8080/",
     "height": 365
    },
    "colab_type": "code",
    "id": "rvmGZhJ-HHcB",
    "outputId": "2d3e79e9-d3a5-4518-b91b-357479066570"
   },
   "outputs": [
    {
     "data": {
      "image/png": "[encoded data removed]",
      "text/plain": [
       "<matplotlib.figure.Figure at 0x7f146df09a20>"
      ]
     },
     "metadata": {},
     "output_type": "display_data"
    }
   ],
   "source": [
    "import matplotlib.pyplot as plt\n",
    "plt.scatter(X, Y)\n",
    "plt.show()"
   ]
  },
  {
   "cell_type": "markdown",
   "metadata": {},
   "source": [
    "# _주석\n",
    "\n",
    "scatter -> 점표현\n",
    "\n",
    "plot -> 선표현"
   ]
  },
  {
   "cell_type": "markdown",
   "metadata": {
    "colab_type": "text",
    "id": "lEqtbTROlXuB"
   },
   "source": [
    "# 2. Hypothesis Define (Model Define)  \n",
    "\n",
    "Linear Regression 시에 활용하는 f(x) = Wx + b에서\n",
    "b가 없는 간단한 버전인 f(x) = Wx 라는 모델(가설)을 구현해봅니다."
   ]
  },
  {
   "cell_type": "code",
   "execution_count": 13,
   "metadata": {
    "colab": {
     "base_uri": "https://localhost:8080/",
     "height": 53
    },
    "colab_type": "code",
    "id": "40ht43Q1JpYI",
    "outputId": "2e740bff-a553-4f68-8091-23c77fc6d5be"
   },
   "outputs": [
    {
     "name": "stdout",
     "output_type": "stream",
     "text": [
      "value of f(5) : 20\n",
      "value of w : 4\n"
     ]
    }
   ],
   "source": [
    "class H():\n",
    "  \n",
    "    def __init__(self, w): \n",
    "    # 처음에 모델의 파라미터(학습을 통해 최적화될 값) w를 인풋으로 받아 모델을 만들어줍시다.\n",
    "        self.w = w\n",
    "    \n",
    "    def forward(self, x):\n",
    "    # 인스턴스(샘플) x가 인풋으로 들어왔을 때 모델이 예측하는 y값을 리턴합니다.\n",
    "        return self.w * x\n",
    "    \n",
    "h = H(4) # 이제 f(x) = 4x 라는 모델이 만들어졌습니다.\n",
    "pred_y = h.forward(5) # x=5 라는 인스턴스(샘플)이 인풋으로 들어왔을 때 f(5) = 4 x 5 를 통해서 20 이 정상적으로 출력되는 것을 확인할 수 있습니다.\n",
    "print('value of f(5) :', pred_y)\n",
    "print('value of w :', h.w) # 모델 h의 내부 파라미터를 출력했을 때 4가 정상적으로 출력되는 것도 확인할 수 있습니다."
   ]
  },
  {
   "cell_type": "markdown",
   "metadata": {},
   "source": [
    "# _주석\n",
    "\n",
    "생성할때 모델이 받는 input을 설정해주는 예약어\n",
    "```def __init__(self, w):```\n",
    "object를 만들때 사용\n",
    "\n",
    "method의 첫번쨰 인자는 self를 사용한다 "
   ]
  },
  {
   "cell_type": "markdown",
   "metadata": {
    "colab_type": "text",
    "id": "FgdSvskSotgI"
   },
   "source": [
    "# 3. Cost Function Define (Loss Function Define)  \n",
    "\n",
    "Regression Problem 에서의 Cost Function을 작성해봅시다."
   ]
  },
  {
   "cell_type": "code",
   "execution_count": 14,
   "metadata": {
    "colab": {
     "base_uri": "https://localhost:8080/",
     "height": 53
    },
    "colab_type": "code",
    "id": "yzNkZ_uwnufC",
    "outputId": "d6edd719-7915-4931-e16a-d6d618578da0"
   },
   "outputs": [
    {
     "name": "stdout",
     "output_type": "stream",
     "text": [
      "cost value when w = 4 : 222.2\n",
      "cost value with better code structure : 222.2\n"
     ]
    }
   ],
   "source": [
    "def cost(h, X, Y):\n",
    "    error = 0\n",
    "    for i in range(len(X)):\n",
    "        error += (h.forward(X[i]) - Y[i])**2\n",
    "    error = error / len(X)\n",
    "    return error\n",
    "\n",
    "h = H(4) # 위에서 이미 한번 생성했지만 다시 생성해봅니다.\n",
    "print('cost value when w = 4 :', cost(h, X, Y)) # f(x) = 4 x 인 현재의 모델은 저희가 관측한 데이터셋에 대해서 222.2 라는 cost를 가지네요 (상당히 크죠?)\n",
    "\n",
    "def better_cost(pred_y, true_y):\n",
    "  # 이 코드가 조금 더 나은 버전이라고 할 수 있는데요. 위에 있는 cost(h, X, Y)에서는 cost function 안에서 H(x)를 계산해야 하는 불편함이 있기 때문에\n",
    "  # 일반적으로 코드를 짤 때 cost function(loss function)들은 모델이 예측한 y 값들의 리스트와 실제 y 값들의 리스트만 받아서 계산하는 구조를 취합니다.\n",
    "  \n",
    "    error = 0\n",
    "    for i in range(len(X)):\n",
    "        error += (pred_y[i] - true_y[i])**2\n",
    "    error = error / len(X)\n",
    "    return error\n",
    "\n",
    "pred_y = [ h.forward(X[i]) for i in range(len(X)) ] # 미리 모델 h를 통해서 각 x 인스턴스에 대한 y 값을 예측해봅시다. \n",
    "print('cost value with better code structure :', better_cost(pred_y, Y)) # 위와 같이 똑같이 222.2 라는 값이 나오는 것을 확인할 수 있죠. 잘 작동하는 군요"
   ]
  },
  {
   "cell_type": "markdown",
   "metadata": {
    "colab_type": "text",
    "id": "AdPlElcCw9pq"
   },
   "source": [
    "### Cost Surface Visualization \n",
    "\n",
    "위에서 w=4 인 경우에 대해서 cost를 확인해보았는데요. 이번엔 다양한 w에 따라서 cost 값이 어떻게 바뀌는지 확인해보겠습니다.  \n",
    "w = 1.25 정도 쯤에서 cost 값이 최소가 되는 듯한 양상을 보이네요"
   ]
  },
  {
   "cell_type": "markdown",
   "metadata": {},
   "source": [
    "# _주석\n",
    "\n",
    "```python\n",
    "list_w = []\n",
    "list_c = []\n",
    "```\n",
    "그래프를 그리기위한 list생성\n",
    "\n",
    "```python\n",
    "for i in range(-20, 20):\n",
    "    w = i * 0.5\n",
    "    h = H(w)\n",
    "    c = cost(h, X, Y)\n",
    "    list_w.append(w)\n",
    "    list_c.append(c)\n",
    "```\n",
    "\n",
    "for문을 돌며 H model과 cost함수를 통과한 값 출력"
   ]
  },
  {
   "cell_type": "code",
   "execution_count": 15,
   "metadata": {
    "colab": {
     "base_uri": "https://localhost:8080/",
     "height": 408
    },
    "colab_type": "code",
    "id": "jPV0KwqcMxg4",
    "outputId": "1c9befdc-5eed-430f-ee04-34d580e3440f"
   },
   "outputs": [
    {
     "name": "stdout",
     "output_type": "stream",
     "text": [
      "[-10.0, -9.5, -9.0, -8.5, -8.0, -7.5, -7.0, -6.5, -6.0, -5.5, -5.0, -4.5, -4.0, -3.5, -3.0, -2.5, -2.0, -1.5, -1.0, -0.5, 0.0, 0.5, 1.0, 1.5, 2.0, 2.5, 3.0, 3.5, 4.0, 4.5, 5.0, 5.5, 6.0, 6.5, 7.0, 7.5, 8.0, 8.5, 9.0, 9.5]\n",
      "[3582.2, 3269.825, 2971.7, 2687.825, 2418.2, 2162.825, 1921.7, 1694.825, 1482.2, 1283.825, 1099.7, 929.825, 774.2, 632.825, 505.7, 392.825, 294.2, 209.825, 139.7, 83.825, 42.2, 14.825, 1.7, 2.825, 18.2, 47.825, 91.7, 149.825, 222.2, 308.825, 409.7, 524.825, 654.2, 797.825, 955.7, 1127.825, 1314.2, 1514.825, 1729.7, 1958.825]\n"
     ]
    },
    {
     "data": {
      "text/plain": [
       "<matplotlib.collections.PathCollection at 0x7f146dd35390>"
      ]
     },
     "execution_count": 15,
     "metadata": {},
     "output_type": "execute_result"
    },
    {
     "data": {
      "image/png": "[encoded data removed]",
      "text/plain": [
       "<matplotlib.figure.Figure at 0x7f146dd712e8>"
      ]
     },
     "metadata": {},
     "output_type": "display_data"
    }
   ],
   "source": [
    "list_w = []\n",
    "list_c = []\n",
    "for i in range(-20, 20):\n",
    "    w = i * 0.5\n",
    "    h = H(w)\n",
    "    c = cost(h, X, Y)\n",
    "    list_w.append(w)\n",
    "    list_c.append(c)\n",
    "    \n",
    "print(list_w) # w 값들이 잘 들어갔는지 확인해봅시다.\n",
    "print(list_c) # c 값들이 잘 들어갔는지 확인해봅시다.\n",
    "\n",
    "plt.figure(figsize=(10,5))\n",
    "plt.xlabel('w')\n",
    "plt.ylabel('cost')\n",
    "plt.scatter(list_w, list_c, s=3)"
   ]
  },
  {
   "cell_type": "markdown",
   "metadata": {
    "colab_type": "text",
    "id": "vmkiieK_yoKs"
   },
   "source": [
    "# Gradient Descent Algorithm  \n",
    "\n",
    "이제 특정 w 근방에서의 w에 대한 cost 의 편미분(지금은 변수가 하나라 그냥 미분과 다를바 없지만)을 구해보겠습니다.  \n",
    "\n",
    "여기서는 두가지 방식으로 그라디언트를 구해보겠습니다. \n",
    "\n",
    "첫번째 방식은 수치해석적으로 w=4 인 지점과 w=4 + eps 인 지점에서의 cost 값을 각각 구한 뒤 두 값의 차이를 통해 그라이디언트를 구하는 방식입니다.   \n",
    "\n",
    "두번째 방식은 cost function을 w로 편미분한 공식을 통해 바로 특정 w 에서의 그라디언트를 구하는 방식입니다."
   ]
  },
  {
   "cell_type": "markdown",
   "metadata": {
    "colab_type": "text",
    "id": "lorGQ6Y843bE"
   },
   "source": [
    "### Compare two approach in order to compute Gradient (Analytic, Formula)"
   ]
  },
  {
   "cell_type": "code",
   "execution_count": 16,
   "metadata": {
    "colab": {
     "base_uri": "https://localhost:8080/",
     "height": 383
    },
    "colab_type": "code",
    "id": "etNOpxQbRC9H",
    "outputId": "dfa4ffcf-ca04-4f86-b1aa-6715ba4511e9"
   },
   "outputs": [
    {
     "name": "stdout",
     "output_type": "stream",
     "text": [
      "1.2105213157896242 0.43684210597565787 1.2105263157894737 0.43684210526315803\n"
     ]
    },
    {
     "data": {
      "text/plain": [
       "<matplotlib.legend.Legend at 0x7f146dcab3c8>"
      ]
     },
     "execution_count": 16,
     "metadata": {},
     "output_type": "execute_result"
    },
    {
     "data": {
      "image/png": "[encoded data removed]",
      "text/plain": [
       "<matplotlib.figure.Figure at 0x7f146def3710>"
      ]
     },
     "metadata": {},
     "output_type": "display_data"
    }
   ],
   "source": [
    "def cal_grad(w, cost): # 수치해석적으로 그라디언트를 근사해봅니다.\n",
    "    h = H(w)\n",
    "    cost1 = cost(h, X, Y)\n",
    "    eps = 0.00001 \n",
    "    h = H(w+eps) # w에서 epsilon 만큼 떨어진 부분에서도 cost를 구해줍니다.\n",
    "    cost2 = cost(h, X, Y)\n",
    "    dcost = cost2 - cost1\n",
    "    dw = eps\n",
    "    grad = dcost / dw\n",
    "    return grad, (cost1+cost2)*0.5\n",
    "\n",
    "def cal_grad2(w, cost): # 편미분한 공식에 바로 대입하여 그라디언트를 근사해봅니다. \n",
    "    h = H(w)\n",
    "    grad = 0\n",
    "    for i in range(len(X)):\n",
    "        grad += 2 * (h.forward(X[i]) - Y[i]) * X[i]\n",
    "    grad = grad / len(X)\n",
    "    c = cost(h, X, Y)\n",
    "    return grad, c\n",
    "\n",
    "\n",
    "# 두 방식을 이용해서 w = 1.4 라는 지점에서 모델을 각각 초기화한 뒤에 Gradient Descent Algorithm 을 통해 내려갔을 때 거의 같은 결과가 나오는지 확인해봅시다.\n",
    "w1 = 1.4\n",
    "w2 = 1.4\n",
    "lr = 0.01\n",
    "\n",
    "list_w1 = []\n",
    "list_c1 = []\n",
    "list_w2 = []\n",
    "list_c2 = []\n",
    "\n",
    "for i in range(100): # 총 100번의 Iteration(반복)을 통해서 학습을 진행해봅시다.\n",
    "    grad, mean_cost = cal_grad(w1, cost)\n",
    "    grad2, mean_cost2 = cal_grad2(w2, cost)\n",
    "\n",
    "    w1 -= lr * grad\n",
    "    w2 -= lr * grad2\n",
    "    list_w1.append(w1)\n",
    "    list_w2.append(w2)\n",
    "    list_c1.append(mean_cost)\n",
    "    list_c2.append(mean_cost2)\n",
    "    \n",
    "print(w1, mean_cost, w2, mean_cost2) # 100번의 학습이 끝난 뒤에 w1 과 w2 를 출력해보니 둘다 1.21 정도로 비슷한 값으로 수렴한 것을 확인할 수 있습니다.\n",
    "  \n",
    "# 매 Iteration에서의 w 값과 cost 값을 그래프 상에 찍어보면 둘이 거의 정확하게 같은 지점을 통과하므로 초록색 동그라미가 파란색 별표를 가리네요\n",
    "plt.scatter(list_w1, list_c1, label='analytic', marker='*')\n",
    "plt.scatter(list_w2, list_c2, label='formula')\n",
    "plt.legend()\n"
   ]
  },
  {
   "cell_type": "markdown",
   "metadata": {
    "colab_type": "text",
    "id": "Hx6tZ8iA5F32"
   },
   "source": [
    "### Compare Training process of Two Models Initialized from Different w value"
   ]
  },
  {
   "cell_type": "code",
   "execution_count": 17,
   "metadata": {
    "colab": {
     "base_uri": "https://localhost:8080/",
     "height": 383
    },
    "colab_type": "code",
    "id": "9ziMc84B34B2",
    "outputId": "cab00ebc-d9d9-4832-caeb-4fe95faa992a"
   },
   "outputs": [
    {
     "name": "stdout",
     "output_type": "stream",
     "text": [
      "1.2105263157894737 0.43684210526315803 1.2105263157894737 0.43684210526315803\n"
     ]
    },
    {
     "data": {
      "text/plain": [
       "<matplotlib.legend.Legend at 0x7f146dc0a2e8>"
      ]
     },
     "execution_count": 17,
     "metadata": {},
     "output_type": "execute_result"
    },
    {
     "data": {
      "image/png": "[encoded data removed]",
      "text/plain": [
       "<matplotlib.figure.Figure at 0x7f146de31f28>"
      ]
     },
     "metadata": {},
     "output_type": "display_data"
    }
   ],
   "source": [
    "# 편미분 공식을 활용해서 Gradient Descent를 진행하되 서로 다른 w 지점으로 초기화 되었을 때 학습 양상을 확인해봅시다\n",
    "w1 = 1.4\n",
    "w2 = 1.1\n",
    "lr = 0.01\n",
    "\n",
    "list_w1 = []\n",
    "list_c1 = []\n",
    "list_w2 = []\n",
    "list_c2 = []\n",
    "\n",
    "for i in range(100): # 총 100번의 Iteration(반복)을 통해서 학습을 진행해봅시다.\n",
    "    grad, mean_cost = cal_grad2(w1, cost)\n",
    "    grad2, mean_cost2 = cal_grad2(w2, cost)\n",
    "\n",
    "    w1 -= lr * grad\n",
    "    w2 -= lr * grad2\n",
    "    list_w1.append(w1)\n",
    "    list_w2.append(w2)\n",
    "    list_c1.append(mean_cost)\n",
    "    list_c2.append(mean_cost2)\n",
    "    \n",
    "print(w1, mean_cost, w2, mean_cost2) # 100번의 학습이 끝난 뒤에 w1 과 w2 를 출력해보니 둘다 1.21 정도로 비슷한 값으로 수렴한 것을 확인할 수 있습니다.\n",
    "  \n",
    "# 서로 다른 지점으로부터 시작하였더라도 학습이 진행됨에 따라 둘 다 같은 파라미터(w=1.21)로 수렴하는 양상을 확인할 수 있습니다.\n",
    "plt.scatter(list_w1, list_c1, label='start from w=1.4', marker='*')\n",
    "plt.scatter(list_w2, list_c2, label='start from w=1.1')\n",
    "plt.legend()"
   ]
  },
  {
   "cell_type": "code",
   "execution_count": null,
   "metadata": {},
   "outputs": [],
   "source": []
  }
 ],
 "metadata": {
  "colab": {
   "collapsed_sections": [],
   "include_colab_link": true,
   "name": "linear regression.ipynb",
   "provenance": [],
   "version": "0.3.2"
  },
  "kernelspec": {
   "display_name": "Python 3",
   "language": "python",
   "name": "python3"
  },
  "language_info": {
   "codemirror_mode": {
    "name": "ipython",
    "version": 3
   },
   "file_extension": ".py",
   "mimetype": "text/x-python",
   "name": "python",
   "nbconvert_exporter": "python",
   "pygments_lexer": "ipython3",
   "version": "3.8.5"
  }
 },
 "nbformat": 4,
 "nbformat_minor": 1
}
