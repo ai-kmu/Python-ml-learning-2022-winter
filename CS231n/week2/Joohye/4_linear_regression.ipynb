{
  "cells": [
    {
      "cell_type": "markdown",
      "metadata": {
        "id": "23sQEXhSfY4I"
      },
      "source": [
        "# 1. Data Generation  (Preparation)\n",
        "\n",
        "Linear Regression 실습에 사용할 공부한 시간에 따른 성적 데이터"
      ]
    },
    {
      "cell_type": "code",
      "execution_count": 1,
      "metadata": {
        "id": "Jzbus9xZG11d"
      },
      "outputs": [],
      "source": [
        "X = [0, 1, 2, 3, 4, 5, 6, 7, 8, 9]  #공부한시간 X / 간단한식 ->  X=list(range(10))\n",
        "Y = [1, 1, 2, 4, 5, 7, 8, 9, 9, 10]  #성적데이터 Y  "
      ]
    },
    {
      "cell_type": "markdown",
      "metadata": {
        "id": "8vUTWMXilI0-"
      },
      "source": [
        "X, Y 데이터를 2D 평면 상에 시각화"
      ]
    },
    {
      "cell_type": "code",
      "source": [
        "import matplotlib.pyplot as plt\n",
        "plt.plot(X, Y)  #plt.plot X와 Y값을 가지고 line그래프 그리기"
      ],
      "metadata": {
        "colab": {
          "base_uri": "https://localhost:8080/",
          "height": 283
        },
        "id": "IFHVDOkOyGGw",
        "outputId": "1ea6179d-6a09-4125-ef30-56a19791ca0a"
      },
      "execution_count": 2,
      "outputs": [
        {
          "output_type": "execute_result",
          "data": {
            "text/plain": [
              "[<matplotlib.lines.Line2D at 0x7f2df6d1d5d0>]"
            ]
          },
          "metadata": {},
          "execution_count": 2
        },
        {
          "output_type": "display_data",
          "data": {
            "image/png": "[encoded data removed]",
            "text/plain": [
              "<Figure size 432x288 with 1 Axes>"
            ]
          },
          "metadata": {
            "needs_background": "light"
          }
        }
      ]
    },
    {
      "cell_type": "code",
      "execution_count": 3,
      "metadata": {
        "colab": {
          "base_uri": "https://localhost:8080/",
          "height": 265
        },
        "id": "rvmGZhJ-HHcB",
        "outputId": "d9515575-ad6c-49ed-d81a-2edc7bfd99db"
      },
      "outputs": [
        {
          "output_type": "display_data",
          "data": {
            "image/png": "[encoded data removed]",
            "text/plain": [
              "<Figure size 432x288 with 1 Axes>"
            ]
          },
          "metadata": {
            "needs_background": "light"
          }
        }
      ],
      "source": [
        "plt.scatter(X, Y)  #plt.scatter X와 Y값을 가지고 점 그리기\n",
        "plt.show()"
      ]
    },
    {
      "cell_type": "markdown",
      "metadata": {
        "id": "lEqtbTROlXuB"
      },
      "source": [
        "# 2. Hypothesis Define (Model Define)  \n",
        "\n",
        "Linear Regression 시에 활용하는 f(x) = Wx + b에서\n",
        "b가 없는 간단한 버전인 f(x) = Wx 라는 모델(가설) 구현"
      ]
    },
    {
      "cell_type": "code",
      "execution_count": 4,
      "metadata": {
        "colab": {
          "base_uri": "https://localhost:8080/"
        },
        "id": "40ht43Q1JpYI",
        "outputId": "0885d0e6-5cd9-4cbf-8adf-f74b82eb80cf"
      },
      "outputs": [
        {
          "output_type": "stream",
          "name": "stdout",
          "text": [
            "value of f(5) : 20\n",
            "value of w : 4\n"
          ]
        }
      ],
      "source": [
        "class H():\n",
        "    def __init__(self, w):  #처음에 모델의 파라미터(학습을 통해 최적화될 값) w를 input(인자)으로 받아 모델을 만듦.\n",
        "        self.w = w  #H의 내부에 w라는 변수에 input으로 받은 w를 넣겠다.라는 의미\n",
        "    \n",
        "    def forward(self, x):  #pytorch는 h(x)를 통과시킬때 forward라는 함수를 사용 // 인스턴스(샘플) x가 인풋으로 들어왔을 때 모델이 예측하는 y값을 리턴\n",
        "        return self.w * x  #y\n",
        "    \n",
        "h = H(4)  #f(x) = 4x 라는 모델이 만들어짐\n",
        "pred_y = h.forward(5)  #x=5 라는 인스턴스(샘플)이 input으로 들어왔을 때 f(5) = 4 x 5 를 통해서 20 이 정상적으로 출력되는 것을 확인\n",
        "\n",
        "print('value of f(5) :', pred_y)  #4*5=20  \n",
        "print('value of w :', h.w)  #모델 h의 내부 파라미터를 출력했을 때 4가 정상적으로 출력되는 것도 확인."
      ]
    },
    {
      "cell_type": "markdown",
      "metadata": {
        "id": "FgdSvskSotgI"
      },
      "source": [
        "# 3. Cost Function Define (Loss Function Define)  \n",
        "\n",
        "Regression Problem 에서의 Cost Function을 작성.(앞서 만든 hypothesis가 얼마나 좋고 혹은 나쁜지 판단하기 위한..cost function)"
      ]
    },
    {
      "cell_type": "code",
      "execution_count": 5,
      "metadata": {
        "colab": {
          "base_uri": "https://localhost:8080/"
        },
        "id": "yzNkZ_uwnufC",
        "outputId": "215dfa46-1859-45bf-b682-c7eb7245af6f"
      },
      "outputs": [
        {
          "output_type": "stream",
          "name": "stdout",
          "text": [
            "cost value when w = 4 : 222.2\n"
          ]
        }
      ],
      "source": [
        "def cost(h, X, Y):  #cost function\n",
        "    error = 0  #error 0으로 초기화\n",
        "    for i in range(len(X)):  #len(X):x의 길이만큼.\n",
        "        error += (h.forward(X[i]) - Y[i])**2  #h(x)-true_y 한것의 제곱을 error에 더함.\n",
        "    error = error / len(X)  #error를 x의 길이로 나눠주어 \"평균\"을 구함\n",
        "    return error\n",
        "\n",
        "h = H(4)  #위에서 이미 생성했지만 다시 생성.\n",
        "print('cost value when w = 4 :', cost(h, X, Y)) #f(x) = 4x 인 현재의 모델은 우리가 관측한 데이터셋에 대해서 222.2 라는 cost를 가짐. (상당히 큰 값)"
      ]
    },
    {
      "cell_type": "code",
      "source": [
        "  #아래코드가 위 코드보다 조금 더 나은 버전\n",
        "  #위에 있는 cost(h, X, Y)에서는 cost function 안에서 H(x)를 계산해야 하는 불편함이 있기 때문에\n",
        "  #일반적으로 코드를 짤 때 cost function(loss function)들은 모델이 예측한 y 값들의 리스트와 실제 y 값들의 리스트만 받아서 계산하는 구조를 취함.\n",
        "  \n",
        "def better_cost(pred_y, true_y):  #모델이 예측한 y값, 실제 y값\n",
        "    error = 0\n",
        "    for i in range(len(X)):  #len(X):x의 길이만큼.\n",
        "        error += (pred_y[i] - true_y[i])**2  #pred_y-true_y 한것의 제곱을 error에 더함.\n",
        "    error = error / len(X)\n",
        "    return error\n",
        "\n",
        "pred_y = [ h.forward(X[i]) for i in range(len(X)) ] #미리 모델 h를 통해서 각 x 인스턴스에 대한 y 값을 예측.\n",
        "print('cost value with better code structure :', better_cost(pred_y, Y)) #위와 똑같이 222.2 라는 값이 나오는 것을 확인."
      ],
      "metadata": {
        "colab": {
          "base_uri": "https://localhost:8080/"
        },
        "id": "Nmw5fITO-h7v",
        "outputId": "05520eb9-06d6-4795-9578-15ecd424334c"
      },
      "execution_count": 6,
      "outputs": [
        {
          "output_type": "stream",
          "name": "stdout",
          "text": [
            "cost value with better code structure : 222.2\n"
          ]
        }
      ]
    },
    {
      "cell_type": "markdown",
      "metadata": {
        "id": "AdPlElcCw9pq"
      },
      "source": [
        "### Cost Surface Visualization \n",
        "\n",
        "\n",
        "*   위에서 w=4 인 경우에 대해서 cost를 확인.\n",
        "\n",
        "*   이번엔 다양한 w에 따라서 cost 값이 어떻게 바뀌는지 확인\n",
        "\n"
      ]
    },
    {
      "cell_type": "code",
      "source": [
        "#강의내용\n",
        "list_w = []  #weight값 담을 리스트\n",
        "list_c = []  #cost값 담을 리스트\n",
        "for i in range(-100, 100):\n",
        "    w = i * 0.1\n",
        "    h = H(w)\n",
        "    c = cost(h, X, Y)\n",
        "    list_w.append(w)\n",
        "    list_c.append(c)\n",
        "    \n",
        "print(list_w)  #w값 print\n",
        "print(list_c)  #c값 print\n",
        "\n",
        "plt.figure(figsize=(1,1))\n",
        "plt.xlabel('w')\n",
        "plt.ylabel('cost')\n",
        "plt.scatter(list_w, list_c, s=0.1)"
      ],
      "metadata": {
        "colab": {
          "base_uri": "https://localhost:8080/",
          "height": 190
        },
        "id": "J2OfhHG8EBYs",
        "outputId": "8fca9030-9649-4be4-c737-6982deaa5a58"
      },
      "execution_count": 7,
      "outputs": [
        {
          "output_type": "stream",
          "name": "stdout",
          "text": [
            "[-10.0, -9.9, -9.8, -9.700000000000001, -9.600000000000001, -9.5, -9.4, -9.3, -9.200000000000001, -9.1, -9.0, -8.9, -8.8, -8.700000000000001, -8.6, -8.5, -8.4, -8.3, -8.200000000000001, -8.1, -8.0, -7.9, -7.800000000000001, -7.7, -7.6000000000000005, -7.5, -7.4, -7.300000000000001, -7.2, -7.1000000000000005, -7.0, -6.9, -6.800000000000001, -6.7, -6.6000000000000005, -6.5, -6.4, -6.300000000000001, -6.2, -6.1000000000000005, -6.0, -5.9, -5.800000000000001, -5.7, -5.6000000000000005, -5.5, -5.4, -5.300000000000001, -5.2, -5.1000000000000005, -5.0, -4.9, -4.800000000000001, -4.7, -4.6000000000000005, -4.5, -4.4, -4.3, -4.2, -4.1000000000000005, -4.0, -3.9000000000000004, -3.8000000000000003, -3.7, -3.6, -3.5, -3.4000000000000004, -3.3000000000000003, -3.2, -3.1, -3.0, -2.9000000000000004, -2.8000000000000003, -2.7, -2.6, -2.5, -2.4000000000000004, -2.3000000000000003, -2.2, -2.1, -2.0, -1.9000000000000001, -1.8, -1.7000000000000002, -1.6, -1.5, -1.4000000000000001, -1.3, -1.2000000000000002, -1.1, -1.0, -0.9, -0.8, -0.7000000000000001, -0.6000000000000001, -0.5, -0.4, -0.30000000000000004, -0.2, -0.1, 0.0, 0.1, 0.2, 0.30000000000000004, 0.4, 0.5, 0.6000000000000001, 0.7000000000000001, 0.8, 0.9, 1.0, 1.1, 1.2000000000000002, 1.3, 1.4000000000000001, 1.5, 1.6, 1.7000000000000002, 1.8, 1.9000000000000001, 2.0, 2.1, 2.2, 2.3000000000000003, 2.4000000000000004, 2.5, 2.6, 2.7, 2.8000000000000003, 2.9000000000000004, 3.0, 3.1, 3.2, 3.3000000000000003, 3.4000000000000004, 3.5, 3.6, 3.7, 3.8000000000000003, 3.9000000000000004, 4.0, 4.1000000000000005, 4.2, 4.3, 4.4, 4.5, 4.6000000000000005, 4.7, 4.800000000000001, 4.9, 5.0, 5.1000000000000005, 5.2, 5.300000000000001, 5.4, 5.5, 5.6000000000000005, 5.7, 5.800000000000001, 5.9, 6.0, 6.1000000000000005, 6.2, 6.300000000000001, 6.4, 6.5, 6.6000000000000005, 6.7, 6.800000000000001, 6.9, 7.0, 7.1000000000000005, 7.2, 7.300000000000001, 7.4, 7.5, 7.6000000000000005, 7.7, 7.800000000000001, 7.9, 8.0, 8.1, 8.200000000000001, 8.3, 8.4, 8.5, 8.6, 8.700000000000001, 8.8, 8.9, 9.0, 9.1, 9.200000000000001, 9.3, 9.4, 9.5, 9.600000000000001, 9.700000000000001, 9.8, 9.9]\n",
            "[3582.2, 3518.5850000000005, 3455.540000000001, 3393.065000000001, 3331.160000000001, 3269.825, 3209.0600000000004, 3148.8650000000002, 3089.2400000000007, 3030.185, 2971.7, 2913.7850000000008, 2856.44, 2799.6650000000004, 2743.4599999999996, 2687.825, 2632.7600000000007, 2578.2650000000003, 2524.340000000001, 2470.9849999999997, 2418.2, 2365.9850000000006, 2314.34, 2263.265, 2212.76, 2162.825, 2113.4600000000005, 2064.6650000000004, 2016.4399999999998, 1968.7850000000005, 1921.7, 1875.1850000000002, 1829.2400000000002, 1783.8650000000002, 1739.0600000000002, 1694.825, 1651.1600000000003, 1608.065, 1565.54, 1523.5850000000003, 1482.2, 1441.3850000000002, 1401.14, 1361.4650000000001, 1322.3600000000001, 1283.825, 1245.8600000000001, 1208.4650000000004, 1171.64, 1135.3850000000002, 1099.7, 1064.585, 1030.0400000000002, 996.0650000000002, 962.6600000000002, 929.825, 897.5600000000002, 865.8649999999998, 834.7400000000001, 804.1850000000002, 774.2, 744.7850000000001, 715.94, 687.6650000000001, 659.96, 632.825, 606.26, 580.2650000000001, 554.8399999999999, 529.985, 505.7, 481.985, 458.84000000000003, 436.265, 414.26000000000005, 392.825, 371.9600000000001, 351.6650000000001, 331.94, 312.785, 294.2, 276.18500000000006, 258.74, 241.86500000000007, 225.56000000000003, 209.825, 194.66000000000003, 180.065, 166.04000000000002, 152.585, 139.7, 127.38500000000002, 115.64000000000001, 104.465, 93.86000000000001, 83.825, 74.35999999999999, 65.465, 57.14000000000001, 49.385000000000005, 42.2, 35.585, 29.540000000000003, 24.064999999999998, 19.16, 14.825, 11.059999999999997, 7.864999999999999, 5.239999999999998, 3.185, 1.7, 0.7849999999999995, 0.4399999999999996, 0.6650000000000005, 1.4600000000000015, 2.825, 4.7600000000000025, 7.265000000000003, 10.34, 13.985000000000005, 18.2, 22.985000000000007, 28.34000000000001, 34.26500000000002, 40.760000000000026, 47.825, 55.460000000000015, 63.66500000000002, 72.44000000000003, 81.78500000000003, 91.7, 102.18500000000002, 113.24000000000004, 124.86500000000004, 137.06000000000003, 149.825, 163.16000000000003, 177.06500000000005, 191.54000000000002, 206.58500000000004, 222.2, 238.38500000000013, 255.14000000000004, 272.4649999999999, 290.36, 308.825, 327.8600000000001, 347.46500000000003, 367.6400000000001, 388.3850000000001, 409.7, 431.58500000000015, 454.03999999999996, 477.06500000000017, 500.66000000000014, 524.825, 549.5600000000002, 574.865, 600.7400000000001, 627.1850000000002, 654.2, 681.7850000000001, 709.94, 738.6650000000002, 767.9600000000002, 797.825, 828.2600000000002, 859.2650000000001, 890.8400000000001, 922.985, 955.7, 988.9850000000002, 1022.8399999999999, 1057.265, 1092.2600000000002, 1127.825, 1163.9600000000003, 1200.665, 1237.94, 1275.7850000000003, 1314.2, 1353.185, 1392.7400000000005, 1432.8650000000002, 1473.5600000000002, 1514.825, 1556.6599999999996, 1599.0650000000003, 1642.0400000000002, 1685.5850000000003, 1729.7, 1774.3849999999998, 1819.64, 1865.4650000000001, 1911.8600000000001, 1958.825, 2006.3600000000006, 2054.4650000000006, 2103.1400000000003, 2152.385]\n"
          ]
        },
        {
          "output_type": "execute_result",
          "data": {
            "text/plain": [
              "<matplotlib.collections.PathCollection at 0x7f2df6870810>"
            ]
          },
          "metadata": {},
          "execution_count": 7
        },
        {
          "output_type": "display_data",
          "data": {
            "image/png": "[encoded data removed]",
            "text/plain": [
              "<Figure size 72x72 with 1 Axes>"
            ]
          },
          "metadata": {
            "needs_background": "light"
          }
        }
      ]
    },
    {
      "cell_type": "markdown",
      "source": [
        "\n",
        "\n",
        "*   range(-100,100)->0.1을 곱했기 때문에 w의 범위 (-10~10)\n",
        "\n",
        "\n"
      ],
      "metadata": {
        "id": "UKnW7Z0VG0Wl"
      }
    },
    {
      "cell_type": "code",
      "execution_count": 8,
      "metadata": {
        "colab": {
          "base_uri": "https://localhost:8080/",
          "height": 409
        },
        "id": "jPV0KwqcMxg4",
        "outputId": "1cf8c3d8-1359-4c4f-f638-957bfb4fe0ca"
      },
      "outputs": [
        {
          "output_type": "stream",
          "name": "stdout",
          "text": [
            "[-10.0, -9.5, -9.0, -8.5, -8.0, -7.5, -7.0, -6.5, -6.0, -5.5, -5.0, -4.5, -4.0, -3.5, -3.0, -2.5, -2.0, -1.5, -1.0, -0.5, 0.0, 0.5, 1.0, 1.5, 2.0, 2.5, 3.0, 3.5, 4.0, 4.5, 5.0, 5.5, 6.0, 6.5, 7.0, 7.5, 8.0, 8.5, 9.0, 9.5]\n",
            "[3582.2, 3269.825, 2971.7, 2687.825, 2418.2, 2162.825, 1921.7, 1694.825, 1482.2, 1283.825, 1099.7, 929.825, 774.2, 632.825, 505.7, 392.825, 294.2, 209.825, 139.7, 83.825, 42.2, 14.825, 1.7, 2.825, 18.2, 47.825, 91.7, 149.825, 222.2, 308.825, 409.7, 524.825, 654.2, 797.825, 955.7, 1127.825, 1314.2, 1514.825, 1729.7, 1958.825]\n"
          ]
        },
        {
          "output_type": "execute_result",
          "data": {
            "text/plain": [
              "<matplotlib.collections.PathCollection at 0x7f2df67883d0>"
            ]
          },
          "metadata": {},
          "execution_count": 8
        },
        {
          "output_type": "display_data",
          "data": {
            "image/png": "[encoded data removed]",
            "text/plain": [
              "<Figure size 720x360 with 1 Axes>"
            ]
          },
          "metadata": {
            "needs_background": "light"
          }
        }
      ],
      "source": [
        "#수업자료\n",
        "list_w = []  #weight값 담을 리스트\n",
        "list_c = []  #cost값 담을 리스트\n",
        "for i in range(-20, 20):\n",
        "    w = i * 0.5\n",
        "    h = H(w)\n",
        "    c = cost(h, X, Y)\n",
        "    list_w.append(w)\n",
        "    list_c.append(c)\n",
        "    \n",
        "print(list_w) #w값 print\n",
        "print(list_c) #c값 print\n",
        "\n",
        "plt.figure(figsize=(10,5))\n",
        "plt.xlabel('w')\n",
        "plt.ylabel('cost')\n",
        "plt.scatter(list_w, list_c, s=3)"
      ]
    },
    {
      "cell_type": "markdown",
      "source": [
        "*   range(-20,20)->0.5를 곱했기 때문에 w의 범위 (-10~10)\n",
        "*   w = 1.25 정도 쯤에서 cost 값이 최소가 되는 듯한 양상"
      ],
      "metadata": {
        "id": "5PN7EqGSGt5y"
      }
    },
    {
      "cell_type": "markdown",
      "source": [
        "**여기까지는 시각화 연습->이제 \"학습\"을 시켜볼 것이다.**"
      ],
      "metadata": {
        "id": "SwcvVEyvHOrw"
      }
    },
    {
      "cell_type": "markdown",
      "metadata": {
        "id": "vmkiieK_yoKs"
      },
      "source": [
        "# Gradient Descent Algorithm  \n",
        "\n",
        "이제 특정 w 근방에서의 w에 대한 cost 의 편미분(지금은 변수가 하나라 그냥 미분과 다를바 없지만)을 구해보자 \n",
        "\n",
        "두가지 방식으로 gradient를 구하기. \n"
      ]
    },
    {
      "cell_type": "markdown",
      "source": [
        "1.수치해석적\n",
        "\n",
        "w=4 인 지점과 w=4 + eps 인 지점에서의 cost 값을 각각 구한 뒤 두 값의 차이를 통해 그라이디언트를 구하는 방식.\n",
        "\n",
        "2.편미분 공식에 바로대입\n",
        "\n",
        "cost function을 w로 편미분한 공식을 통해 바로 특정 w 에서의 그라디언트를 구하는 방식."
      ],
      "metadata": {
        "id": "yEp-ra2_Njo_"
      }
    },
    {
      "cell_type": "markdown",
      "metadata": {
        "id": "lorGQ6Y843bE"
      },
      "source": [
        "### Compare two approach in order to compute Gradient (Analytic, Formula)\n",
        "\n",
        "cost를 줄이기 위해서 gradient의 반대방향으로 파라미터들을 바꿔줌"
      ]
    },
    {
      "cell_type": "code",
      "source": [
        "#--------------- 1.수치해석적으로 Gradient를 근사 ---------------\n",
        "def cal_grad(w, cost): #cost는 값이 아니라 cost를 계산하는 함수를 넣어준것(위에서 만든)\n",
        "    h = H(w)  #가설을 만듦 **cost1의 h와 cost2의 h는 다름을 명심\n",
        "    cost1 = cost(h, X, Y)  #cost1=w에서의 cost\n",
        "  \n",
        "    eps = 0.00001  #eps = epsilon(임의의 매우작은양수),cost1과 차이를 두기 위함. \n",
        "    h = H(w+eps)  #w에서 eps만큼 떨어진 부분에서도 cost를 구해줌.\n",
        "    cost2 = cost(h, X, Y)  #cost2=w+eps 에서의 cost\n",
        "    dcost = cost2 - cost1  #cost2-cost1 한값 dcost를 \n",
        "    dw = eps\n",
        "    grad = dcost / dw  #eps(=dw) 값으로 나누어주면 미분값에 근사한게 나옴\n",
        "    return grad\n",
        "\n",
        "#--------------- 실험1.w=4일때 ---------------\n",
        "w = 4\n",
        "lr =0.001\n",
        "print(cal_grad(4,cost))  #w=4인 지점에서는,w가 증가하면 cost도 증가. 즉 cost를 낮추려면 -> w를 낮춰야함\n",
        "\n",
        "w = w + lr * (-cal_grad(4,cost))  #그래서 cal_grad ->부호 마이너스를 취함\n",
        "print(w)"
      ],
      "metadata": {
        "colab": {
          "base_uri": "https://localhost:8080/"
        },
        "id": "rs1HnwPnQSyl",
        "outputId": "8847e65e-4ce9-4312-a402-538569c2fd4e"
      },
      "execution_count": 9,
      "outputs": [
        {
          "output_type": "stream",
          "name": "stdout",
          "text": [
            "159.00028499515884\n",
            "3.840999715004841\n"
          ]
        }
      ]
    },
    {
      "cell_type": "code",
      "source": [
        "#--------------- 1.수치해석적으로 Gradient를 근사 ---------------\n",
        "def cal_grad(w, cost): #cost는 값이 아니라 cost를 계산하는 함수를 넣어준것(위에서 만든)\n",
        "    h = H(w)  #가설을 만듦 **cost1의 h와 cost2의 h는 다름을 명심\n",
        "    cost1 = cost(h, X, Y)  #cost1=w에서의 cost\n",
        "  \n",
        "    eps = 0.00001  #eps = epsilon(임의의 매우작은양수),cost1과 차이를 두기 위함. \n",
        "    h = H(w+eps)  #w에서 eps만큼 떨어진 부분에서도 cost를 구해줌.\n",
        "    cost2 = cost(h, X, Y)  #cost2=w+eps 에서의 cost\n",
        "    dcost = cost2 - cost1  #cost2-cost1 한값 dcost를 \n",
        "    dw = eps\n",
        "    grad = dcost / dw  #eps(=dw) 값으로 나누어주면 미분값에 근사한게 나옴\n",
        "    return grad, (cost1 +cost2)*0.5\n",
        "\n",
        "#--------------- 실험2 cost값 return ,lr=0.01,range 10 ---------------\n",
        "w = 4\n",
        "lr =0.01  #0.001 ->0.01로 변경\n",
        "\n",
        "for i in range(10):\n",
        "  grad,mean_cost = cal_grad(w,cost)\n",
        "  w -= lr * grad\n",
        "  print(w, mean_cost)  #cost가 처음에 222였는데 약 0.43까지 줄어드는 것을 확인"
      ],
      "metadata": {
        "colab": {
          "base_uri": "https://localhost:8080/"
        },
        "id": "Z8dpwLi_Ucu1",
        "outputId": "e266185e-a27c-405d-be1a-e1d59d76430d"
      },
      "execution_count": 10,
      "outputs": [
        {
          "output_type": "stream",
          "name": "stdout",
          "text": [
            "2.4099971500484116 222.20079500142498\n",
            "1.7262959245152274 41.44099699965416\n",
            "1.4323043975399372 8.018510345652484\n",
            "1.3058880409413351 1.8386925634715428\n",
            "1.251529007604498 0.6960442555620926\n",
            "1.2281546232699134 0.48476858343354434\n",
            "1.2181036380061148 0.44570371165760025\n",
            "1.2137817143426064 0.43848061686627154\n",
            "1.211923287167068 0.43714506663932806\n",
            "1.2111241634819545 0.4368981234023502\n"
          ]
        }
      ]
    },
    {
      "cell_type": "code",
      "execution_count": 11,
      "metadata": {
        "colab": {
          "base_uri": "https://localhost:8080/",
          "height": 302
        },
        "id": "etNOpxQbRC9H",
        "outputId": "6129f7ae-1a77-4764-8e3e-8e7ba6f2b353"
      },
      "outputs": [
        {
          "output_type": "stream",
          "name": "stdout",
          "text": [
            "1.2105213157896242 0.43684210597565787 1.2105263157894737 0.43684210526315803\n"
          ]
        },
        {
          "output_type": "execute_result",
          "data": {
            "text/plain": [
              "<matplotlib.legend.Legend at 0x7f2df66e8910>"
            ]
          },
          "metadata": {},
          "execution_count": 11
        },
        {
          "output_type": "display_data",
          "data": {
            "image/png": "[encoded data removed]",
            "text/plain": [
              "<Figure size 432x288 with 1 Axes>"
            ]
          },
          "metadata": {
            "needs_background": "light"
          }
        }
      ],
      "source": [
        "#--------------- 1.수치해석적으로 Gradient를 근사 ---------------\n",
        "def cal_grad(w, cost): #1.cost는 값이 아니라 cost를 계산하는 함수를 넣어준것(위에서 만든)\n",
        "    h = H(w)  #가설을 만듦 **cost1의 h와 cost2의 h는 다름을 명심\n",
        "    cost1 = cost(h, X, Y)  #cost1=w에서의 cost\n",
        "    \n",
        "    eps = 0.00001 \n",
        "    h = H(w+eps)  #w에서 epsilon(임의의 매우작은양수) 만큼 떨어진 부분에서도 cost를 구해줍니다.\n",
        "    cost2 = cost(h, X, Y)  #cost2=w+eps 에서의 cost\n",
        "    dcost = cost2 - cost1  #cost2-cost1 한값 dcost를 \n",
        "    dw = eps\n",
        "    grad = dcost / dw  #eps(=dw) 값으로 나누어주면 미분값에 근사한게 나옴\n",
        "    return grad, (cost1+cost2)*0.5\n",
        "\n",
        "#--------------- 2.편미분한 공식에 바로 대입하여 Gradient를 근사 ---------------\n",
        "def cal_grad2(w, cost): \n",
        "    h = H(w)\n",
        "    grad = 0\n",
        "    for i in range(len(X)):\n",
        "        grad += 2 * (h.forward(X[i]) - Y[i]) * X[i]\n",
        "    grad = grad / len(X)\n",
        "    c = cost(h, X, Y)\n",
        "    return grad, c\n",
        "\n",
        "#두 방식을 이용해서 w = 1.4 라는 지점에서 모델을 각각 초기화한 뒤에 Gradient Descent Algorithm 을 통해 내려갔을 때 거의 같은 결과가 나오는지 확인.\n",
        "w1 = 1.4  #w 1.4로 동일\n",
        "w2 = 1.4  #w 1.4로 동일\n",
        "lr = 0.01  #학습률 0.01로 동일\n",
        "\n",
        "list_w1 = []\n",
        "list_c1 = []\n",
        "list_w2 = []\n",
        "list_c2 = []\n",
        "\n",
        "for i in range(100):  #총 100번의 Iteration(반복)을 통해서 학습진행.\n",
        "    grad, mean_cost = cal_grad(w1, cost)\n",
        "    grad2, mean_cost2 = cal_grad2(w2, cost)\n",
        "\n",
        "    w1 -= lr * grad\n",
        "    w2 -= lr * grad2\n",
        "    list_w1.append(w1)\n",
        "    list_w2.append(w2)\n",
        "    list_c1.append(mean_cost)\n",
        "    list_c2.append(mean_cost2)\n",
        "    \n",
        "print(w1, mean_cost, w2, mean_cost2) #100번의 학습이 끝난 뒤 w1,w2 출력->둘다 1.21 정도로 비슷한 값으로 수렴한 것을 확인.\n",
        "  \n",
        "#매 Iteration에서의 w 값과 cost 값을 그래프 상에 찍어보면 둘이 거의 정확하게 같은 지점을 통과하므로 동그라미가 별표를 가림\n",
        "plt.scatter(list_w1, list_c1, label='analytic', marker='*')\n",
        "plt.scatter(list_w2, list_c2, label='formula')\n",
        "plt.legend()"
      ]
    },
    {
      "cell_type": "markdown",
      "metadata": {
        "id": "Hx6tZ8iA5F32"
      },
      "source": [
        "### Compare Training process of Two Models Initialized from Different w value"
      ]
    },
    {
      "cell_type": "code",
      "execution_count": 12,
      "metadata": {
        "colab": {
          "base_uri": "https://localhost:8080/",
          "height": 302
        },
        "id": "9ziMc84B34B2",
        "outputId": "745f007f-ed9b-4a53-b010-4e1cdb38fb16"
      },
      "outputs": [
        {
          "output_type": "stream",
          "name": "stdout",
          "text": [
            "1.2105263157894737 0.43684210526315803 1.2105263157894737 0.43684210526315803\n"
          ]
        },
        {
          "output_type": "execute_result",
          "data": {
            "text/plain": [
              "<matplotlib.legend.Legend at 0x7f2df6650e90>"
            ]
          },
          "metadata": {},
          "execution_count": 12
        },
        {
          "output_type": "display_data",
          "data": {
            "image/png": "[encoded data removed]",
            "text/plain": [
              "<Figure size 432x288 with 1 Axes>"
            ]
          },
          "metadata": {
            "needs_background": "light"
          }
        }
      ],
      "source": [
        "#편미분 공식 활용해 Gradient Descent 진행. 서로 다른 w 지점으로 초기화 되었을 때 학습 양상을 확인.\n",
        "w1 = 1.4  #w가 1.4일때\n",
        "w2 = 1.1  #w가 1.1일때\n",
        "lr = 0.01  #학습률 0.01로 동일\n",
        "\n",
        "list_w1 = []\n",
        "list_c1 = []\n",
        "list_w2 = []\n",
        "list_c2 = []\n",
        "\n",
        "for i in range(100):  #총 100번의 Iteration(반복)을 통해서 학습진행.\n",
        "    grad, mean_cost = cal_grad2(w1, cost)\n",
        "    grad2, mean_cost2 = cal_grad2(w2, cost)\n",
        "\n",
        "    w1 -= lr * grad\n",
        "    w2 -= lr * grad2\n",
        "    list_w1.append(w1)\n",
        "    list_w2.append(w2)\n",
        "    list_c1.append(mean_cost)\n",
        "    list_c2.append(mean_cost2)\n",
        "    \n",
        "print(w1, mean_cost, w2, mean_cost2) #100번의 학습이 끝난 뒤에 w1 과 w2 를 출력해보니 둘다 1.21 정도로 비슷한 값으로 수렴 확인.\n",
        "  \n",
        "#서로 다른 지점으로부터 시작하였더라도 학습이 진행됨에 따라 둘 다 같은 파라미터(w=1.21)로 수렴하는 양상 확인.\n",
        "plt.scatter(list_w1, list_c1, label='start from w=1.4', marker='*')\n",
        "plt.scatter(list_w2, list_c2, label='start from w=1.1')\n",
        "plt.legend()"
      ]
    }
  ],
  "metadata": {
    "colab": {
      "collapsed_sections": [],
      "name": "4.linear regression",
      "provenance": []
    },
    "kernelspec": {
      "display_name": "Python 3",
      "language": "python",
      "name": "python3"
    },
    "language_info": {
      "codemirror_mode": {
        "name": "ipython",
        "version": 3
      },
      "file_extension": ".py",
      "mimetype": "text/x-python",
      "name": "python",
      "nbconvert_exporter": "python",
      "pygments_lexer": "ipython3",
      "version": "3.6.4"
    }
  },
  "nbformat": 4,
  "nbformat_minor": 0
}