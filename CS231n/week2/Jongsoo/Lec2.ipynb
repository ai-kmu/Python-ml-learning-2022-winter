{
  "nbformat": 4,
  "nbformat_minor": 0,
  "metadata": {
    "colab": {
      "name": "Lec2.ipynb",
      "provenance": [],
      "collapsed_sections": []
    },
    "kernelspec": {
      "name": "python3",
      "display_name": "Python 3"
    },
    "language_info": {
      "name": "python"
    }
  },
  "cells": [
    {
      "cell_type": "code",
      "execution_count": null,
      "metadata": {
        "id": "2xD641OElQvv"
      },
      "outputs": [],
      "source": [
        "#데이터 생성\n",
        "x = list(range(10))\n",
        "y = [1,1,2,4,5,7,8,9,9,10]\n"
      ]
    },
    {
      "cell_type": "code",
      "source": [
        "#데이터 표현\n",
        "import matplotlib.pyplot as plt\n",
        "\n",
        "plt.scatter(x,y)"
      ],
      "metadata": {
        "colab": {
          "base_uri": "https://localhost:8080/",
          "height": 283
        },
        "id": "oD83FMfoD0Lg",
        "outputId": "b8336242-5224-4fad-f592-0d7247e8800f"
      },
      "execution_count": null,
      "outputs": [
        {
          "output_type": "execute_result",
          "data": {
            "text/plain": [
              "<matplotlib.collections.PathCollection at 0x7f65889c2510>"
            ]
          },
          "metadata": {},
          "execution_count": 4
        },
        {
          "output_type": "display_data",
          "data": {
            "image/png": "[encoded data removed]",
            "text/plain": [
              "<Figure size 432x288 with 1 Axes>"
            ]
          },
          "metadata": {
            "needs_background": "light"
          }
        }
      ]
    },
    {
      "cell_type": "code",
      "source": [
        "#가설 설정\n",
        "class H():\n",
        "\n",
        "  def __init__(self,w):\n",
        "    self.w = w\n",
        "  def forward(self,x):\n",
        "    return self.w * x  \n",
        "\n",
        "#평균제곱 오차를 사용한 비용함수 정의\n",
        "def cost(h,x,y):\n",
        "  error = 0 \n",
        "  for i in range(len(x)):\n",
        "    error += (h.forward(x[i]) - y[i])**2\n",
        "  error = error / len(x)  \n",
        "  return error\n",
        "\n",
        "h = H(4)\n",
        "cost(h,x,y)"
      ],
      "metadata": {
        "colab": {
          "base_uri": "https://localhost:8080/"
        },
        "id": "6M1jYR3JEos6",
        "outputId": "987ae68b-5773-4cbe-fcb1-34514f11f557"
      },
      "execution_count": null,
      "outputs": [
        {
          "output_type": "execute_result",
          "data": {
            "text/plain": [
              "222.2"
            ]
          },
          "metadata": {},
          "execution_count": 10
        }
      ]
    },
    {
      "cell_type": "code",
      "source": [
        "list_w = []\n",
        "list_c = []\n",
        "\n",
        "#가중치에 따른 오류값 구하기\n",
        "for i in range(-100,100):\n",
        "  w = i * 0.1\n",
        "  h = H(w)\n",
        "  c = cost(h,x,y)\n",
        "  list_w.append(w)\n",
        "  list_c.append(c)\n",
        "\n",
        "#가중치에 따른 오류값 그래프로 나타내기\n",
        "plt.figure(figsize=(1,1))\n",
        "plt.xlabel('w')\n",
        "plt.ylabel('cost')\n",
        "plt.plot(list_w,list_c)"
      ],
      "metadata": {
        "colab": {
          "base_uri": "https://localhost:8080/",
          "height": 134
        },
        "id": "IdFI6FmHH9_B",
        "outputId": "fc0fd739-d969-4abd-c18f-3390d2c7bd98"
      },
      "execution_count": null,
      "outputs": [
        {
          "output_type": "execute_result",
          "data": {
            "text/plain": [
              "[<matplotlib.lines.Line2D at 0x7f65843208d0>]"
            ]
          },
          "metadata": {},
          "execution_count": 15
        },
        {
          "output_type": "display_data",
          "data": {
            "image/png": "[encoded data removed]",
            "text/plain": [
              "<Figure size 72x72 with 1 Axes>"
            ]
          },
          "metadata": {
            "needs_background": "light"
          }
        }
      ]
    },
    {
      "cell_type": "code",
      "source": [
        "#수치해석적으로 구한 경사도\n",
        "def cal_grad(w,cost):\n",
        "  h = H(w)\n",
        "  cost1 = cost(h,x,y)\n",
        "  eps = 0.001\n",
        "  h = H(w+eps)\n",
        "  cost2 = cost(h,x,y)\n",
        "  dcost = cost2 - cost1\n",
        "  dw = eps\n",
        "  grad = dcost / dw\n",
        "  return grad, (cost1+cost2)*0.5\n",
        "\n",
        "#수학적 편미분으로 구한 경사도\n",
        "def cal_grad2(w,cost):\n",
        "  h = H(w)\n",
        "  grad = 0\n",
        "  for i in range(len(x)):\n",
        "    grad += 2 * (h.forward(x[i]) - y[i]) * x[i]\n",
        "  grad =  grad / len(x)\n",
        "  c = cost(h, x, y)\n",
        "\n",
        "  return grad, c\n",
        "\n",
        "w1 = 1.4\n",
        "w2 = 1.4\n",
        "lr = 0.01\n",
        "\n",
        "list_w1 = []\n",
        "list_c1 = []\n",
        "list_w2 = []\n",
        "list_c2 = []\n",
        "\n",
        "#수치해석적으로 구한 w 경사도,오류값과 수학적 방법으로 구한 w 경사도,오류값 비교\n",
        "for i in range(10):\n",
        "  grad, mean_cost = cal_grad(w1,cost)\n",
        "  grad2, mean_cost2 = cal_grad2(w2,cost)\n",
        "  w1 -= lr * grad\n",
        "  w2 -= lr * grad2\n",
        "\n",
        "  list_w1.append(w1)\n",
        "  list_w2.append(w2)\n",
        "  list_c1.append(mean_cost)\n",
        "  list_c2.append(mean_cost2)\n",
        "\n",
        "plt.scatter(list_w1,list_c1)\n",
        "plt.scatter(list_w2,list_c2)"
      ],
      "metadata": {
        "colab": {
          "base_uri": "https://localhost:8080/",
          "height": 283
        },
        "id": "_vgWeJVVLGkB",
        "outputId": "23504485-d195-4f37-f012-83de72343890"
      },
      "execution_count": null,
      "outputs": [
        {
          "output_type": "execute_result",
          "data": {
            "text/plain": [
              "<matplotlib.collections.PathCollection at 0x7f65840c4890>"
            ]
          },
          "metadata": {},
          "execution_count": 32
        },
        {
          "output_type": "display_data",
          "data": {
            "image/png": "[encoded data removed]",
            "text/plain": [
              "<Figure size 432x288 with 1 Axes>"
            ]
          },
          "metadata": {
            "needs_background": "light"
          }
        }
      ]
    },
    {
      "cell_type": "code",
      "source": [
        ""
      ],
      "metadata": {
        "id": "P4MAX35WMPvm"
      },
      "execution_count": null,
      "outputs": []
    }
  ]
}