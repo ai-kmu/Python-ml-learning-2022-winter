{
  "nbformat": 4,
  "nbformat_minor": 0,
  "metadata": {
    "colab": {
      "name": "linear_regression_practice.ipynb",
      "provenance": [],
      "collapsed_sections": []
    },
    "kernelspec": {
      "name": "python3",
      "display_name": "Python 3"
    },
    "language_info": {
      "name": "python"
    }
  },
  "cells": [
    {
      "cell_type": "code",
      "source": [
        "x = list(range(10))\n",
        "y = [1, 1, 2, 4, 5, 7, 8, 9, 9, 10]\n",
        "\n",
        "print(x)\n",
        "print(y)"
      ],
      "metadata": {
        "colab": {
          "base_uri": "https://localhost:8080/"
        },
        "id": "H-GO2UeULmjJ",
        "outputId": "fc71f8bb-d187-434e-9a74-ab9a6119113d"
      },
      "execution_count": null,
      "outputs": [
        {
          "output_type": "stream",
          "name": "stdout",
          "text": [
            "[0, 1, 2, 3, 4, 5, 6, 7, 8, 9]\n",
            "[1, 1, 2, 4, 5, 7, 8, 9, 9, 10]\n"
          ]
        }
      ]
    },
    {
      "cell_type": "code",
      "source": [
        "import matplotlib.pyplot as plt\n",
        "\n",
        "plt.plot(x, y)\n",
        "plt.scatter(x, y)\n",
        "plt.show()"
      ],
      "metadata": {
        "colab": {
          "base_uri": "https://localhost:8080/",
          "height": 265
        },
        "id": "XbZMevwjTGHw",
        "outputId": "c173a3f4-4cf3-48c3-b23a-7f9131a6a39b"
      },
      "execution_count": null,
      "outputs": [
        {
          "output_type": "display_data",
          "data": {
            "image/png": "[encoded data removed]",
            "text/plain": [
              "<Figure size 432x288 with 1 Axes>"
            ]
          },
          "metadata": {
            "needs_background": "light"
          }
        }
      ]
    },
    {
      "cell_type": "code",
      "source": [
        "class H():\n",
        "    def __init__(self, w):\n",
        "        self.w = w\n",
        "    \n",
        "    def forward(self, x):\n",
        "        return self.w * x\n",
        "\n",
        "def cost(h, x, y):\n",
        "    error = 0\n",
        "    for i in range(len(x)):\n",
        "        error += (h.forward(x[i]) - y[i]) ** 2\n",
        "    error /= len(x)\n",
        "    return error\n",
        "    \n",
        "h = H(4)\n",
        "cost(h, x, y)"
      ],
      "metadata": {
        "colab": {
          "base_uri": "https://localhost:8080/"
        },
        "id": "ZAmO7iHgTf8o",
        "outputId": "8406203b-2552-4c2c-950c-59aed362e0b4"
      },
      "execution_count": null,
      "outputs": [
        {
          "output_type": "execute_result",
          "data": {
            "text/plain": [
              "222.2"
            ]
          },
          "metadata": {},
          "execution_count": 25
        }
      ]
    },
    {
      "cell_type": "code",
      "source": [
        "list_w = list()\n",
        "list_c = list()\n",
        "\n",
        "for i in range(-100, 100):\n",
        "    w = i * 0.1\n",
        "    h = H(w)\n",
        "    c = cost(h, x, y)\n",
        "    list_w.append(w)\n",
        "    list_c.append(c)        "
      ],
      "metadata": {
        "id": "ptPFcFkYT6i5"
      },
      "execution_count": null,
      "outputs": []
    },
    {
      "cell_type": "code",
      "source": [
        "plt.figure(figsize=(1, 1)) # Graph의 size 조절\n",
        "plt.xlabel('w')\n",
        "plt.ylabel('cost')\n",
        "plt.scatter(list_w, list_c, s=0.1) # s: Marker의 size 조절"
      ],
      "metadata": {
        "colab": {
          "base_uri": "https://localhost:8080/",
          "height": 133
        },
        "id": "XZ57ECc1VvvA",
        "outputId": "7d8d149e-cb6b-44c9-93d2-9ad95566fcf7"
      },
      "execution_count": null,
      "outputs": [
        {
          "output_type": "execute_result",
          "data": {
            "text/plain": [
              "<matplotlib.collections.PathCollection at 0x7f47b3180810>"
            ]
          },
          "metadata": {},
          "execution_count": 41
        },
        {
          "output_type": "display_data",
          "data": {
            "image/png": "[encoded data removed]",
            "text/plain": [
              "<Figure size 72x72 with 1 Axes>"
            ]
          },
          "metadata": {
            "needs_background": "light"
          }
        }
      ]
    },
    {
      "cell_type": "code",
      "source": [
        "def cal_grad(w, cost):\n",
        "    h = H(w)\n",
        "    cost1 = cost(h, x, y)\n",
        "    eps = 0.00001\n",
        "    h = H(w + eps)\n",
        "    cost2 = cost(h, x, y)\n",
        "    dcost = cost2 - cost1\n",
        "    dw = eps\n",
        "    grad = dcost / dw\n",
        "    return grad, (cost1 + cost2) * 0.5\n",
        "\n",
        "def cal_grad2(w, cost):\n",
        "    h = H(w)\n",
        "    grad = 0\n",
        "    for i in range(len(x)):\n",
        "        grad += 2 * (h.forward(x[i]) - y[i]) * x[i]\n",
        "    grad /= len(x)\n",
        "    c = cost(h, x, y)\n",
        "    return grad, c\n",
        "\n",
        "w1 = 1.4\n",
        "w2 = 1.4\n",
        "lr = 0.01\n",
        "\n",
        "list_w1 = []\n",
        "list_w2 = []\n",
        "list_c1 = []\n",
        "list_c2 = []\n",
        "\n",
        "for i in range(100):\n",
        "    grad, mean_cost = cal_grad(w1, cost)\n",
        "    grad2, mean_cost2 = cal_grad2(w2, cost)\n",
        "    \n",
        "    w1 -= lr * grad\n",
        "    w2 -= lr * grad2\n",
        "    list_w1.append(w1)\n",
        "    list_w2.append(w2)\n",
        "    list_c1.append(mean_cost)\n",
        "    list_c2.append(mean_cost2)\n",
        "    # print(w1, mean_cost, w2, mean_cost2)\n",
        "\n",
        "plt.scatter(list_w1, list_c1)\n",
        "plt.scatter(list_w2, list_c2)"
      ],
      "metadata": {
        "colab": {
          "base_uri": "https://localhost:8080/",
          "height": 282
        },
        "id": "wNVAZWO8XLDf",
        "outputId": "4185cc43-886c-4879-b161-b7b48a3ef5cc"
      },
      "execution_count": null,
      "outputs": [
        {
          "output_type": "execute_result",
          "data": {
            "text/plain": [
              "<matplotlib.collections.PathCollection at 0x7f47b3699110>"
            ]
          },
          "metadata": {},
          "execution_count": 66
        },
        {
          "output_type": "display_data",
          "data": {
            "image/png": "[encoded data removed]",
            "text/plain": [
              "<Figure size 432x288 with 1 Axes>"
            ]
          },
          "metadata": {
            "needs_background": "light"
          }
        }
      ]
    }
  ]
}