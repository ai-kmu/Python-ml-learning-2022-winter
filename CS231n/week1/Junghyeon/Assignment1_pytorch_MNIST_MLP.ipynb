{
  "cells": [
    {
      "cell_type": "code",
      "execution_count": null,
      "metadata": {
        "id": "mKQCvxyVPjhY"
      },
      "outputs": [],
      "source": [
        "!pip install -q torch==1.0.0 torchvision\n",
        "import torch\n",
        "print(torch.__version__)"
      ]
    },
    {
      "cell_type": "markdown",
      "metadata": {
        "id": "23sQEXhSfY4I"
      },
      "source": [
        "### 1. Data Preparation"
      ]
    },
    {
      "cell_type": "markdown",
      "metadata": {
        "id": "3KHp9bIxPjhd"
      },
      "source": [
        "**Data Set**  \n",
        "$$X_{train} \\in \\mathcal{R}^{50000 \\times 784}, Y_{train} \\in \\mathcal{Z}^{50000}$$  \n",
        "$$X_{val} \\in \\mathcal{R}^{10000 \\times 784}, Y_{val} \\in \\mathcal{Z}^{10000}$$  \n",
        "$$X_{test} \\in \\mathcal{R}^{10000 \\times 784}, Y_{test} \\in \\mathcal{Z}^{10000}$$"
      ]
    },
    {
      "cell_type": "code",
      "execution_count": null,
      "metadata": {
        "colab": {
          "base_uri": "https://localhost:8080/"
        },
        "id": "gJNOAAmSPjhe",
        "outputId": "8a666772-3705-4ce8-aee4-322d8c7a52a4"
      },
      "outputs": [
        {
          "output_type": "stream",
          "name": "stdout",
          "text": [
            "50000 10000 10000\n"
          ]
        }
      ],
      "source": [
        "import torch\n",
        "from torchvision import datasets, transforms\n",
        "import torch.nn as nn\n",
        "\n",
        "\n",
        "batch_size = 128\n",
        "train_dataset = datasets.MNIST('./data', train=True, download=True,\n",
        "                   transform=transforms.Compose([\n",
        "                       transforms.ToTensor(),\n",
        "                       transforms.Normalize((0.1307,), (0.3081,))\n",
        "                   ]))\n",
        "test_dataset =  datasets.MNIST('./data', train=False, download=True,\n",
        "                   transform=transforms.Compose([\n",
        "                       transforms.ToTensor(),\n",
        "                       transforms.Normalize((0.1307,), (0.3081,))\n",
        "                   ]))\n",
        "train_dataset, val_dataset = torch.utils.data.random_split(train_dataset, [50000, 10000])\n",
        "print(len(train_dataset), len(val_dataset), len(test_dataset))\n",
        "\n",
        "train_loader = torch.utils.data.DataLoader(train_dataset, batch_size=128, shuffle=True)\n",
        "val_loader = torch.utils.data.DataLoader(val_dataset, batch_size=128, shuffle=False)\n",
        "test_loader = torch.utils.data.DataLoader(test_dataset, batch_size=128, shuffle=False)"
      ]
    },
    {
      "cell_type": "markdown",
      "metadata": {
        "id": "2MZL7CAHPjhf"
      },
      "source": [
        "### Inspecting Dataset"
      ]
    },
    {
      "cell_type": "code",
      "execution_count": null,
      "metadata": {
        "colab": {
          "base_uri": "https://localhost:8080/",
          "height": 644
        },
        "id": "J-zIn2clPjhg",
        "outputId": "377c5c1f-9f66-47a6-fe60-55f6c523ca0c"
      },
      "outputs": [
        {
          "output_type": "display_data",
          "data": {
            "image/png": "[encoded data removed]",
            "text/plain": [
              "<Figure size 1080x648 with 6 Axes>"
            ]
          },
          "metadata": {
            "needs_background": "light"
          }
        }
      ],
      "source": [
        "examples = enumerate(train_loader)\n",
        "batch_idx, (example_data, example_targets) = next(examples)  \n",
        "\n",
        "import matplotlib.pyplot as plt\n",
        "\n",
        "fig = plt.figure(figsize=(15, 9))\n",
        "for i in range(6):\n",
        "    plt.subplot(2,3,i+1)\n",
        "    plt.tight_layout()\n",
        "    plt.imshow(example_data[i][0], cmap='gray', interpolation='none')\n",
        "    plt.title(\"Ground Truth: {}\".format(example_targets[i]))\n",
        "plt.show()"
      ]
    },
    {
      "cell_type": "markdown",
      "metadata": {
        "id": "lEqtbTROlXuB"
      },
      "source": [
        "### 2. Model Architecture"
      ]
    },
    {
      "cell_type": "code",
      "execution_count": null,
      "metadata": {
        "id": "40ht43Q1JpYI"
      },
      "outputs": [],
      "source": [
        "# MNIST 이미지 하나의 크기는 [28*28]입니다. 그리고 MNIST 데이터셋의 클래스 갯수는 10개입니다.\n",
        "# 이를 참고하여 한 층으로 구성된 linear model을 생성하기 위해서 빈칸 채우세요.\n",
        "\n",
        "class LinearModel(nn.Module):\n",
        "    def __init__(self): \n",
        "        super(LinearModel, self).__init__()\n",
        "        # ------------------빈 칸------------------#\n",
        "        self.linear = nn.Linear(28*28, 10)\n",
        "        # -----------------------------------------#\n",
        "    \n",
        "    def forward(self, x):\n",
        "        # ------------------빈 칸------------------#\n",
        "        x = x.view(-1, 28*28)\n",
        "        x = self.linear(x)\n",
        "        # -----------------------------------------#\n",
        "        return x"
      ]
    },
    {
      "cell_type": "markdown",
      "metadata": {
        "id": "FgdSvskSotgI"
      },
      "source": [
        "### 3. Cost Function Define (Loss Function Define)  "
      ]
    },
    {
      "cell_type": "code",
      "execution_count": null,
      "metadata": {
        "id": "yzNkZ_uwnufC"
      },
      "outputs": [],
      "source": [
        "cls_loss = nn.CrossEntropyLoss()"
      ]
    },
    {
      "cell_type": "markdown",
      "metadata": {
        "id": "eMnSDqc5Pjhk"
      },
      "source": [
        "### 4. Train & Evaluation"
      ]
    },
    {
      "cell_type": "code",
      "execution_count": null,
      "metadata": {
        "scrolled": false,
        "colab": {
          "base_uri": "https://localhost:8080/"
        },
        "id": "tSVZuBB1Pjhk",
        "outputId": "23cc89b2-61d9-4171-fa8c-817d8c1c4688"
      },
      "outputs": [
        {
          "output_type": "stream",
          "name": "stdout",
          "text": [
            "Number of 7850 parameters\n",
            "Epoch: 0, Train Loss: 0.7576557856691463, Val Loss: 0.47686329069016853, Test Acc: 88.4%\n",
            "Epoch: 1, Train Loss: 0.44184561961752067, Val Loss: 0.39989031379735923, Test Acc: 89.58%\n",
            "Epoch: 2, Train Loss: 0.39289267121068655, Val Loss: 0.3691878911060623, Test Acc: 90.29%\n",
            "Epoch: 3, Train Loss: 0.36844045076223897, Val Loss: 0.35099675119677676, Test Acc: 90.53999999999999%\n",
            "Epoch: 4, Train Loss: 0.35302695460484157, Val Loss: 0.33946138129958625, Test Acc: 90.83%\n",
            "Epoch: 5, Train Loss: 0.34208364994324686, Val Loss: 0.3310303871012941, Test Acc: 90.93%\n",
            "Epoch: 6, Train Loss: 0.33390328543417896, Val Loss: 0.3243835168548777, Test Acc: 91.08000000000001%\n",
            "Epoch: 7, Train Loss: 0.3274740793211076, Val Loss: 0.3185719857110253, Test Acc: 91.27%\n",
            "Epoch: 8, Train Loss: 0.3218362577202375, Val Loss: 0.3144884154766421, Test Acc: 91.31%\n",
            "Epoch: 9, Train Loss: 0.31745905876921876, Val Loss: 0.3106193474576443, Test Acc: 91.36%\n",
            "Epoch: 10, Train Loss: 0.31367680365624634, Val Loss: 0.3075037785345995, Test Acc: 91.55%\n",
            "Epoch: 11, Train Loss: 0.3100881137887535, Val Loss: 0.3054714989435824, Test Acc: 91.57%\n",
            "Epoch: 12, Train Loss: 0.3070001784721604, Val Loss: 0.30340621063980877, Test Acc: 91.64999999999999%\n",
            "Epoch: 13, Train Loss: 0.304514430063155, Val Loss: 0.30037149296531196, Test Acc: 91.62%\n",
            "Epoch: 14, Train Loss: 0.3021657746237562, Val Loss: 0.2985515841577627, Test Acc: 91.64%\n",
            "Epoch: 15, Train Loss: 0.30004305291511213, Val Loss: 0.29719563356683226, Test Acc: 91.71000000000001%\n",
            "Epoch: 16, Train Loss: 0.2982390311444202, Val Loss: 0.29534546823441227, Test Acc: 91.64%\n",
            "Epoch: 17, Train Loss: 0.2961295773763486, Val Loss: 0.2941375742607479, Test Acc: 91.74%\n",
            "Epoch: 18, Train Loss: 0.2944437727675109, Val Loss: 0.2930365114272395, Test Acc: 91.99000000000001%\n",
            "Epoch: 19, Train Loss: 0.29304228917412134, Val Loss: 0.2921232026589068, Test Acc: 91.72%\n",
            "Epoch: 20, Train Loss: 0.29146174815914516, Val Loss: 0.291068496394761, Test Acc: 91.77%\n",
            "Epoch: 21, Train Loss: 0.2902885877415347, Val Loss: 0.2898066634241539, Test Acc: 91.78%\n",
            "Epoch: 22, Train Loss: 0.2890136948098307, Val Loss: 0.288693461614319, Test Acc: 91.8%\n",
            "Epoch: 23, Train Loss: 0.28782168507118666, Val Loss: 0.287987363300746, Test Acc: 91.81%\n",
            "Epoch: 24, Train Loss: 0.2867359884102326, Val Loss: 0.2876779755836801, Test Acc: 91.88%\n",
            "Epoch: 25, Train Loss: 0.28560174338500516, Val Loss: 0.2864982991278926, Test Acc: 91.9%\n",
            "Epoch: 26, Train Loss: 0.28472678123227774, Val Loss: 0.286172444684596, Test Acc: 91.86999999999999%\n",
            "Epoch: 27, Train Loss: 0.28361887966885285, Val Loss: 0.28503857835938656, Test Acc: 91.83%\n",
            "Epoch: 28, Train Loss: 0.2829382753623721, Val Loss: 0.28443253096900406, Test Acc: 92.02%\n",
            "Epoch: 29, Train Loss: 0.28201851237308034, Val Loss: 0.2838400289227691, Test Acc: 91.97999999999999%\n"
          ]
        }
      ],
      "source": [
        "import torch.optim as optim\n",
        "from sklearn.metrics import accuracy_score\n",
        "\n",
        "\n",
        "model = LinearModel()\n",
        "print('Number of {} parameters'.format(sum(p.numel() for p in model.parameters() if p.requires_grad)))\n",
        "\n",
        "\n",
        "lr = 0.005 \n",
        "optimizer = optim.SGD(model.parameters(), lr=lr) \n",
        "\n",
        "list_epoch = [] \n",
        "list_train_loss = []\n",
        "list_val_loss = []\n",
        "list_acc = []\n",
        "list_acc_epoch = []\n",
        "\n",
        "epoch = 30\n",
        "for i in range(epoch):\n",
        "    \n",
        "    train_loss = 0\n",
        "    model.train() \n",
        "    \n",
        "    for input_X, true_y in train_loader:\n",
        "        optimizer.zero_grad() \n",
        "        # ------------------빈 칸------------------#\n",
        "        # 입력 데이터 처리\n",
        "        input_X = input_X.squeeze()\n",
        "        # -----------------------------------------#\n",
        "        pred_y = model(input_X)\n",
        "\n",
        "        loss = cls_loss(pred_y.squeeze(), true_y)\n",
        "        loss.backward() \n",
        "        optimizer.step() \n",
        "        train_loss += loss.detach().numpy()\n",
        "    train_loss = train_loss / len(train_loader)\n",
        "    list_train_loss.append(train_loss)\n",
        "    list_epoch.append(i)\n",
        "    \n",
        "    \n",
        "    val_loss = 0\n",
        "    model.eval()\n",
        "\n",
        "    \n",
        "    with torch.no_grad(): # \n",
        "        for input_X, true_y in val_loader:\n",
        "        # ------------------빈 칸------------------#\n",
        "        # 입력 데이터 처리\n",
        "            input_X = input_X.squeeze()\n",
        "        # -----------------------------------------#\n",
        "            pred_y = model(input_X)\n",
        "\n",
        "            loss = cls_loss(pred_y.squeeze(), true_y)\n",
        "            val_loss += loss.detach().numpy()\n",
        "        val_loss = val_loss / len(val_loader)\n",
        "        list_val_loss.append(val_loss)\n",
        "\n",
        "\n",
        "\n",
        "    correct = 0\n",
        "    model.eval()\n",
        "\n",
        "    with torch.no_grad():\n",
        "        for input_X, true_y in test_loader:\n",
        "        # ------------------빈 칸------------------#\n",
        "        # 입력 데이터 처리\n",
        "            input_X = input_X.squeeze()\n",
        "            pred_y = model(input_X)\n",
        "        \n",
        "        # 모델 출력 결과를 이용하여 모델이 이미지를 제대로 맞춘 개수를 출력하는 correct를 구현하세요\n",
        "            correct += (pred_y.argmax(1) == true_y).sum()\n",
        "        # -----------------------------------------#\n",
        "        acc = correct.numpy() / len(test_loader.dataset)\n",
        "        list_acc.append(acc)\n",
        "        list_acc_epoch.append(i)\n",
        "    \n",
        "    print('Epoch: {}, Train Loss: {}, Val Loss: {}, Test Acc: {}%'.format(i, train_loss, val_loss, acc*100))"
      ]
    },
    {
      "cell_type": "markdown",
      "metadata": {
        "id": "xsh01UbAPjhl"
      },
      "source": [
        "### 5. Report Experiment  "
      ]
    },
    {
      "cell_type": "code",
      "execution_count": null,
      "metadata": {
        "scrolled": true,
        "colab": {
          "base_uri": "https://localhost:8080/",
          "height": 350
        },
        "id": "eG4J0Ed6Pjhl",
        "outputId": "26847319-6987-4c98-824d-15b93ab80df2"
      },
      "outputs": [
        {
          "output_type": "display_data",
          "data": {
            "image/png": "[encoded data removed]",
            "text/plain": [
              "<Figure size 1080x360 with 2 Axes>"
            ]
          },
          "metadata": {
            "needs_background": "light"
          }
        }
      ],
      "source": [
        "fig = plt.figure(figsize=(15,5))\n",
        "\n",
        "# ====== Loss Fluctuation ====== #\n",
        "ax1 = fig.add_subplot(1, 2, 1)\n",
        "ax1.plot(list_epoch, list_train_loss, label='train_loss')\n",
        "ax1.plot(list_epoch, list_val_loss, '--', label='val_loss')\n",
        "ax1.set_xlabel('epoch')\n",
        "ax1.set_ylabel('loss')\n",
        "ax1.grid()\n",
        "ax1.legend()\n",
        "ax1.set_title('epoch vs loss')\n",
        "\n",
        "# ====== Metric Fluctuation ====== #\n",
        "ax2 = fig.add_subplot(1, 2, 2)\n",
        "ax2.plot(list_acc_epoch, list_acc, marker='x', label='Accuracy metric')\n",
        "ax2.set_xlabel('epoch')\n",
        "ax2.set_ylabel('Acc')\n",
        "ax2.grid()\n",
        "ax2.legend()\n",
        "ax2.set_title('epoch vs Accuracy')\n",
        "\n",
        "plt.show()"
      ]
    }
  ],
  "metadata": {
    "colab": {
      "collapsed_sections": [],
      "name": "Assignment1_pytorch_MNIST_MLP.ipynb",
      "provenance": []
    },
    "kernelspec": {
      "display_name": "Python 3",
      "language": "python",
      "name": "python3"
    },
    "language_info": {
      "codemirror_mode": {
        "name": "ipython",
        "version": 3
      },
      "file_extension": ".py",
      "mimetype": "text/x-python",
      "name": "python",
      "nbconvert_exporter": "python",
      "pygments_lexer": "ipython3",
      "version": "3.8.10"
    },
    "toc": {
      "base_numbering": 1,
      "nav_menu": {},
      "number_sections": false,
      "sideBar": true,
      "skip_h1_title": false,
      "title_cell": "Table of Contents",
      "title_sidebar": "Contents",
      "toc_cell": false,
      "toc_position": {},
      "toc_section_display": true,
      "toc_window_display": false
    }
  },
  "nbformat": 4,
  "nbformat_minor": 0
}