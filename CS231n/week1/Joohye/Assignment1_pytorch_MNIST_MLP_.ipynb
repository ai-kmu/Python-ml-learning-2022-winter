{
  "cells": [
    {
      "cell_type": "code",
      "execution_count": null,
      "metadata": {
        "id": "zJBXgFjAIi_L",
        "colab": {
          "base_uri": "https://localhost:8080/"
        },
        "outputId": "1b12692c-40aa-46c7-fa97-3f4771f25023"
      },
      "outputs": [
        {
          "output_type": "stream",
          "name": "stdout",
          "text": [
            "\u001b[K     |████████████████████████████████| 591.8 MB 614 bytes/s \n",
            "\u001b[K     |████████████████████████████████| 23.3 MB 1.3 MB/s \n",
            "\u001b[K     |████████████████████████████████| 23.3 MB 1.2 MB/s \n",
            "\u001b[K     |████████████████████████████████| 22.1 MB 119.8 MB/s \n",
            "\u001b[K     |████████████████████████████████| 22.1 MB 1.1 MB/s \n",
            "\u001b[K     |████████████████████████████████| 17.4 MB 14.3 MB/s \n",
            "\u001b[K     |████████████████████████████████| 17.3 MB 19.5 MB/s \n",
            "\u001b[K     |████████████████████████████████| 12.8 MB 26.3 MB/s \n",
            "\u001b[K     |████████████████████████████████| 12.7 MB 57.0 MB/s \n",
            "\u001b[K     |████████████████████████████████| 11.8 MB 75.5 MB/s \n",
            "\u001b[K     |████████████████████████████████| 5.9 MB 56.5 MB/s \n",
            "\u001b[K     |████████████████████████████████| 6.6 MB 51.9 MB/s \n",
            "\u001b[K     |████████████████████████████████| 6.6 MB 20.4 MB/s \n",
            "\u001b[K     |████████████████████████████████| 4.0 MB 63.2 MB/s \n",
            "\u001b[K     |████████████████████████████████| 10.2 MB 26.4 MB/s \n",
            "\u001b[K     |████████████████████████████████| 10.1 MB 24.9 MB/s \n",
            "\u001b[K     |████████████████████████████████| 8.8 MB 28.2 MB/s \n",
            "\u001b[K     |████████████████████████████████| 2.6 MB 49.6 MB/s \n",
            "\u001b[K     |████████████████████████████████| 64 kB 2.8 MB/s \n",
            "\u001b[31mERROR: pip's dependency resolver does not currently take into account all the packages that are installed. This behaviour is the source of the following dependency conflicts.\n",
            "torchtext 0.11.0 requires torch==1.10.0, but you have torch 1.0.0 which is incompatible.\n",
            "torchaudio 0.10.0+cu111 requires torch==1.10.0, but you have torch 1.0.0 which is incompatible.\u001b[0m\n",
            "\u001b[?25h1.0.0\n"
          ]
        }
      ],
      "source": [
        "#구글 Colab에서 실행할 때는 이 주석을 해제하시고 실행해서 pytorch 1.0을 깔아주세요!\n",
        "!pip install -q torch==1.0.0 torchvision\n",
        "import torch\n",
        "print(torch.__version__)\n"
      ]
    },
    {
      "cell_type": "markdown",
      "metadata": {
        "id": "23sQEXhSfY4I"
      },
      "source": [
        "### 1. Data Preparation"
      ]
    },
    {
      "cell_type": "markdown",
      "metadata": {
        "id": "N3L21VPaIi_Q"
      },
      "source": [
        "**Data Set**  \n",
        "$$X_{train} \\in \\mathcal{R}^{50000 \\times 784}, Y_{train} \\in \\mathcal{Z}^{50000}$$  \n",
        "$$X_{val} \\in \\mathcal{R}^{10000 \\times 784}, Y_{val} \\in \\mathcal{Z}^{10000}$$  \n",
        "$$X_{test} \\in \\mathcal{R}^{10000 \\times 784}, Y_{test} \\in \\mathcal{Z}^{10000}$$"
      ]
    },
    {
      "cell_type": "code",
      "execution_count": null,
      "metadata": {
        "id": "VGUqdaj0Ii_R",
        "outputId": "5455e56e-fadb-411a-e12f-c044e10e8733",
        "colab": {
          "base_uri": "https://localhost:8080/"
        }
      },
      "outputs": [
        {
          "output_type": "stream",
          "name": "stdout",
          "text": [
            "Downloading http://yann.lecun.com/exdb/mnist/train-images-idx3-ubyte.gz to ./data/MNIST/raw/train-images-idx3-ubyte.gz\n"
          ]
        },
        {
          "output_type": "stream",
          "name": "stderr",
          "text": [
            "9920512it [00:00, 20670217.13it/s]                             \n"
          ]
        },
        {
          "output_type": "stream",
          "name": "stdout",
          "text": [
            "Extracting ./data/MNIST/raw/train-images-idx3-ubyte.gz\n",
            "Downloading http://yann.lecun.com/exdb/mnist/train-labels-idx1-ubyte.gz to ./data/MNIST/raw/train-labels-idx1-ubyte.gz\n"
          ]
        },
        {
          "output_type": "stream",
          "name": "stderr",
          "text": [
            "32768it [00:00, 399770.08it/s]\n"
          ]
        },
        {
          "output_type": "stream",
          "name": "stdout",
          "text": [
            "Extracting ./data/MNIST/raw/train-labels-idx1-ubyte.gz\n",
            "Downloading http://yann.lecun.com/exdb/mnist/t10k-images-idx3-ubyte.gz to ./data/MNIST/raw/t10k-images-idx3-ubyte.gz\n"
          ]
        },
        {
          "output_type": "stream",
          "name": "stderr",
          "text": [
            "1654784it [00:00, 5505512.24it/s]                            \n"
          ]
        },
        {
          "output_type": "stream",
          "name": "stdout",
          "text": [
            "Extracting ./data/MNIST/raw/t10k-images-idx3-ubyte.gz\n",
            "Downloading http://yann.lecun.com/exdb/mnist/t10k-labels-idx1-ubyte.gz to ./data/MNIST/raw/t10k-labels-idx1-ubyte.gz\n"
          ]
        },
        {
          "output_type": "stream",
          "name": "stderr",
          "text": [
            "8192it [00:00, 105047.70it/s]\n"
          ]
        },
        {
          "output_type": "stream",
          "name": "stdout",
          "text": [
            "Extracting ./data/MNIST/raw/t10k-labels-idx1-ubyte.gz\n",
            "Processing...\n",
            "Done!\n",
            "50000 10000 10000\n"
          ]
        }
      ],
      "source": [
        "import torch\n",
        "from torchvision import datasets, transforms\n",
        "import torch.nn as nn\n",
        "\n",
        "\n",
        "batch_size = 128\n",
        "train_dataset = datasets.MNIST('./data', train=True, download=True,\n",
        "                   transform=transforms.Compose([\n",
        "                       transforms.ToTensor(),\n",
        "                       transforms.Normalize((0.1307,), (0.3081,))\n",
        "                   ]))\n",
        "test_dataset =  datasets.MNIST('./data', train=False, download=True,\n",
        "                   transform=transforms.Compose([\n",
        "                       transforms.ToTensor(),\n",
        "                       transforms.Normalize((0.1307,), (0.3081,))\n",
        "                   ]))\n",
        "train_dataset, val_dataset = torch.utils.data.random_split(train_dataset, [50000, 10000])\n",
        "print(len(train_dataset), len(val_dataset), len(test_dataset))\n",
        "\n",
        "train_loader = torch.utils.data.DataLoader(train_dataset, batch_size=128, shuffle=True)\n",
        "val_loader = torch.utils.data.DataLoader(val_dataset, batch_size=128, shuffle=False)\n",
        "test_loader = torch.utils.data.DataLoader(test_dataset, batch_size=128, shuffle=False)"
      ]
    },
    {
      "cell_type": "markdown",
      "metadata": {
        "id": "SFs44UoTIi_S"
      },
      "source": [
        "### Inspecting Dataset"
      ]
    },
    {
      "cell_type": "code",
      "execution_count": null,
      "metadata": {
        "id": "-mFkcgfIIi_T",
        "outputId": "799ff2df-a418-434d-8dc9-b92f52c41c2e",
        "colab": {
          "base_uri": "https://localhost:8080/",
          "height": 547
        }
      },
      "outputs": [
        {
          "output_type": "display_data",
          "data": {
            "image/png": "[encoded data removed]",
            "text/plain": [
              "<Figure size 1080x648 with 6 Axes>"
            ]
          },
          "metadata": {
            "needs_background": "light"
          }
        }
      ],
      "source": [
        "examples = enumerate(train_loader)\n",
        "batch_idx, (example_data, example_targets) = next(examples)  \n",
        "\n",
        "import matplotlib.pyplot as plt\n",
        "\n",
        "fig = plt.figure(figsize=(15, 9))\n",
        "for i in range(6):\n",
        "    plt.subplot(2,3,i+1)\n",
        "    plt.tight_layout()\n",
        "    plt.imshow(example_data[i][0], cmap='gray', interpolation='none')\n",
        "    plt.title(\"Ground Truth: {}\".format(example_targets[i]))\n",
        "plt.show()"
      ]
    },
    {
      "cell_type": "markdown",
      "metadata": {
        "id": "lEqtbTROlXuB"
      },
      "source": [
        "### 2. Model Architecture"
      ]
    },
    {
      "cell_type": "code",
      "execution_count": null,
      "metadata": {
        "id": "40ht43Q1JpYI"
      },
      "outputs": [],
      "source": [
        "# MNIST 이미지 하나의 크기는 [28*28]입니다. 그리고 MNIST 데이터셋의 클래스 갯수는 10개입니다.\n",
        "# 이를 참고하여 한 층으로 구성된 linear model을 생성하기 위해서 빈칸 채우세요.\n",
        "\n",
        "class LinearModel(nn.Module):\n",
        "    def __init__(self): \n",
        "        super(LinearModel, self).__init__()\n",
        "        # ------------------빈 칸------------------#\n",
        "        self.linear = nn.Linear(784, 10)\n",
        "        # -----------------------------------------#\n",
        "    \n",
        "    def forward(self, x):\n",
        "        # ------------------빈 칸------------------#\n",
        "        x = self.linear(x)\n",
        "        # -----------------------------------------#\n",
        "        return x"
      ]
    },
    {
      "cell_type": "markdown",
      "metadata": {
        "id": "FgdSvskSotgI"
      },
      "source": [
        "### 3. Cost Function Define (Loss Function Define)  "
      ]
    },
    {
      "cell_type": "code",
      "execution_count": null,
      "metadata": {
        "id": "yzNkZ_uwnufC"
      },
      "outputs": [],
      "source": [
        "cls_loss = nn.CrossEntropyLoss()"
      ]
    },
    {
      "cell_type": "markdown",
      "metadata": {
        "id": "oUod9cl2Ii_Z"
      },
      "source": [
        "### 4. Train & Evaluation"
      ]
    },
    {
      "cell_type": "code",
      "execution_count": null,
      "metadata": {
        "scrolled": false,
        "id": "MOMyZAh4Ii_Z",
        "outputId": "b4bbf06e-d558-43f3-e11b-d15720502f13",
        "colab": {
          "base_uri": "https://localhost:8080/"
        }
      },
      "outputs": [
        {
          "output_type": "stream",
          "name": "stdout",
          "text": [
            "Number of 7850 parameters\n",
            "Epoch: 0, Train Loss: 0.7560675995581595, Val Loss: 0.4965855005798461, Test Acc: 88.22%\n",
            "Epoch: 1, Train Loss: 0.4365506371878602, Val Loss: 0.4226792705587194, Test Acc: 89.41%\n",
            "Epoch: 2, Train Loss: 0.3873287872280306, Val Loss: 0.39180303091489815, Test Acc: 90.28%\n",
            "Epoch: 3, Train Loss: 0.36275119534538836, Val Loss: 0.37489421948601925, Test Acc: 90.58%\n",
            "Epoch: 4, Train Loss: 0.34724989247596477, Val Loss: 0.36249464750289917, Test Acc: 90.83%\n",
            "Epoch: 5, Train Loss: 0.33638066282052825, Val Loss: 0.3542252956311914, Test Acc: 91.09%\n",
            "Epoch: 6, Train Loss: 0.3280679295434976, Val Loss: 0.34784998773019526, Test Acc: 91.25999999999999%\n",
            "Epoch: 7, Train Loss: 0.32141749419824545, Val Loss: 0.34259695173064364, Test Acc: 91.28%\n",
            "Epoch: 8, Train Loss: 0.3159524230929592, Val Loss: 0.33915409200553653, Test Acc: 91.46%\n",
            "Epoch: 9, Train Loss: 0.311423842940489, Val Loss: 0.3350643177952948, Test Acc: 91.47%\n",
            "Epoch: 10, Train Loss: 0.30738005537511137, Val Loss: 0.3320004123298428, Test Acc: 91.58%\n",
            "Epoch: 11, Train Loss: 0.304129263133649, Val Loss: 0.3300071394518961, Test Acc: 91.56%\n",
            "Epoch: 12, Train Loss: 0.30116118010505083, Val Loss: 0.32739615157435215, Test Acc: 91.75%\n",
            "Epoch: 13, Train Loss: 0.29863916939634194, Val Loss: 0.325470429432543, Test Acc: 91.67%\n",
            "Epoch: 14, Train Loss: 0.29614704801603353, Val Loss: 0.3236201066005079, Test Acc: 91.83%\n",
            "Epoch: 15, Train Loss: 0.2939970209775373, Val Loss: 0.32172920073889477, Test Acc: 91.82000000000001%\n",
            "Epoch: 16, Train Loss: 0.2920013363556484, Val Loss: 0.32087970855115333, Test Acc: 91.86%\n",
            "Epoch: 17, Train Loss: 0.290260342609547, Val Loss: 0.3195024657098553, Test Acc: 91.93%\n",
            "Epoch: 18, Train Loss: 0.2886741775114213, Val Loss: 0.31863934273206734, Test Acc: 91.89%\n",
            "Epoch: 19, Train Loss: 0.2870481948337287, Val Loss: 0.3170789231227923, Test Acc: 91.9%\n",
            "Epoch: 20, Train Loss: 0.28577352709629955, Val Loss: 0.31643210521227194, Test Acc: 91.94%\n",
            "Epoch: 21, Train Loss: 0.2843369101471913, Val Loss: 0.31504446343530584, Test Acc: 92.04%\n",
            "Epoch: 22, Train Loss: 0.283233349471141, Val Loss: 0.3145683507753324, Test Acc: 92.07%\n",
            "Epoch: 23, Train Loss: 0.28194433892779336, Val Loss: 0.3136619680289981, Test Acc: 92.07%\n",
            "Epoch: 24, Train Loss: 0.28110799420139065, Val Loss: 0.31327921604808373, Test Acc: 92.09%\n",
            "Epoch: 25, Train Loss: 0.27990110771125537, Val Loss: 0.3123448540138293, Test Acc: 92.08%\n",
            "Epoch: 26, Train Loss: 0.27868967402316724, Val Loss: 0.3117709757783745, Test Acc: 92.06%\n",
            "Epoch: 27, Train Loss: 0.2779138392728308, Val Loss: 0.31112440534030333, Test Acc: 92.08%\n",
            "Epoch: 28, Train Loss: 0.2771541948056282, Val Loss: 0.3105811167366897, Test Acc: 92.11%\n",
            "Epoch: 29, Train Loss: 0.2760400165567922, Val Loss: 0.3106460812725598, Test Acc: 92.17999999999999%\n"
          ]
        }
      ],
      "source": [
        "import torch.optim as optim\n",
        "from sklearn.metrics import accuracy_score\n",
        "\n",
        "\n",
        "model = LinearModel()\n",
        "print('Number of {} parameters'.format(sum(p.numel() for p in model.parameters() if p.requires_grad)))\n",
        "\n",
        "\n",
        "lr = 0.005 \n",
        "optimizer = optim.SGD(model.parameters(), lr=lr) \n",
        "\n",
        "list_epoch = [] \n",
        "list_train_loss = []\n",
        "list_val_loss = []\n",
        "list_acc = []\n",
        "list_acc_epoch = []\n",
        "\n",
        "epoch = 30\n",
        "for i in range(epoch):\n",
        "    \n",
        "    train_loss = 0\n",
        "    model.train() \n",
        "    \n",
        "    for input_X, true_y in train_loader:\n",
        "        optimizer.zero_grad() \n",
        "        # ------------------빈 칸------------------#\n",
        "        # 입력 데이터 처리\n",
        "        input_X =input_X.view(-1,28*28)\n",
        "\n",
        "        \n",
        "        # -----------------------------------------#\n",
        "        pred_y = model(input_X)\n",
        "\n",
        "        loss = cls_loss(pred_y.squeeze(), true_y)\n",
        "        loss.backward() \n",
        "        optimizer.step() \n",
        "        train_loss += loss.detach().numpy()\n",
        "    train_loss = train_loss / len(train_loader)\n",
        "    list_train_loss.append(train_loss)\n",
        "    list_epoch.append(i)\n",
        "    \n",
        "    \n",
        "    val_loss = 0\n",
        "    model.eval()\n",
        "\n",
        "    \n",
        "    with torch.no_grad(): # \n",
        "        for input_X, true_y in val_loader:\n",
        "        # ------------------빈 칸------------------#\n",
        "        # 입력 데이터 처리\n",
        "            input_X =input_X.view(-1,28*28)\n",
        "        # -----------------------------------------#\n",
        "            pred_y = model(input_X)\n",
        "\n",
        "            loss = cls_loss(pred_y.squeeze(), true_y)\n",
        "            val_loss += loss.detach().numpy()\n",
        "        val_loss = val_loss / len(val_loader)\n",
        "        list_val_loss.append(val_loss)\n",
        "\n",
        "\n",
        "\n",
        "    correct = 0\n",
        "    model.eval()\n",
        "\n",
        "    with torch.no_grad():\n",
        "        for input_X, true_y in test_loader:\n",
        "        # ------------------빈 칸------------------#\n",
        "        # 입력 데이터 처리\n",
        "          input_X =input_X.view(-1,28*28)\n",
        "          pred_y = model(input_X)\n",
        "        \n",
        "        # 모델 출력 결과를 이용하여 모델이 이미지를 제대로 맞춘 개수를 출력하는 correct를 구현하세요\n",
        "        \n",
        "          _,predicted = torch.max(pred_y.data, 1) ##확률이 가장 높은 레이블이 무엇인지 계산\n",
        "          correct += (predicted==true_y).sum() ##정답과 일치한 경우 정답 카운트를 증가\n",
        "        \n",
        "        \n",
        "        # -----------------------------------------#\n",
        "        acc = correct.numpy() / len(test_loader.dataset)\n",
        "        list_acc.append(acc)\n",
        "        list_acc_epoch.append(i)\n",
        "    \n",
        "    print('Epoch: {}, Train Loss: {}, Val Loss: {}, Test Acc: {}%'.format(i, train_loss, val_loss, acc*100))"
      ]
    },
    {
      "cell_type": "markdown",
      "metadata": {
        "id": "LCsO7xDZIi_a"
      },
      "source": [
        "### 5. Report Experiment  "
      ]
    },
    {
      "cell_type": "code",
      "execution_count": null,
      "metadata": {
        "scrolled": true,
        "id": "610WZoHfIi_b",
        "outputId": "7bab30c4-10b7-4374-8f77-03e4514597d1",
        "colab": {
          "base_uri": "https://localhost:8080/",
          "height": 330
        }
      },
      "outputs": [
        {
          "output_type": "display_data",
          "data": {
            "image/png": "[encoded data removed]",
            "text/plain": [
              "<Figure size 1080x360 with 2 Axes>"
            ]
          },
          "metadata": {
            "needs_background": "light"
          }
        }
      ],
      "source": [
        "fig = plt.figure(figsize=(15,5))\n",
        "\n",
        "# ====== Loss Fluctuation ====== #\n",
        "ax1 = fig.add_subplot(1, 2, 1)\n",
        "ax1.plot(list_epoch, list_train_loss, label='train_loss')\n",
        "ax1.plot(list_epoch, list_val_loss, '--', label='val_loss')\n",
        "ax1.set_xlabel('epoch')\n",
        "ax1.set_ylabel('loss')\n",
        "ax1.grid()\n",
        "ax1.legend()\n",
        "ax1.set_title('epoch vs loss')\n",
        "\n",
        "# ====== Metric Fluctuation ====== #\n",
        "ax2 = fig.add_subplot(1, 2, 2)\n",
        "ax2.plot(list_acc_epoch, list_acc, marker='x', label='Accuracy metric')\n",
        "ax2.set_xlabel('epoch')\n",
        "ax2.set_ylabel('Acc')\n",
        "ax2.grid()\n",
        "ax2.legend()\n",
        "ax2.set_title('epoch vs Accuracy')\n",
        "\n",
        "plt.show()"
      ]
    },
    {
      "cell_type": "code",
      "execution_count": null,
      "metadata": {
        "id": "txcv5IwsIi_b"
      },
      "outputs": [],
      "source": [
        ""
      ]
    }
  ],
  "metadata": {
    "colab": {
      "collapsed_sections": [],
      "name": "Assignment1_pytorch_MNIST_MLP.",
      "provenance": [],
      "machine_shape": "hm"
    },
    "kernelspec": {
      "display_name": "Python 3",
      "language": "python",
      "name": "python3"
    },
    "language_info": {
      "codemirror_mode": {
        "name": "ipython",
        "version": 3
      },
      "file_extension": ".py",
      "mimetype": "text/x-python",
      "name": "python",
      "nbconvert_exporter": "python",
      "pygments_lexer": "ipython3",
      "version": "3.8.10"
    },
    "toc": {
      "base_numbering": 1,
      "nav_menu": {},
      "number_sections": false,
      "sideBar": true,
      "skip_h1_title": false,
      "title_cell": "Table of Contents",
      "title_sidebar": "Contents",
      "toc_cell": false,
      "toc_position": {},
      "toc_section_display": true,
      "toc_window_display": false
    }
  },
  "nbformat": 4,
  "nbformat_minor": 0
}