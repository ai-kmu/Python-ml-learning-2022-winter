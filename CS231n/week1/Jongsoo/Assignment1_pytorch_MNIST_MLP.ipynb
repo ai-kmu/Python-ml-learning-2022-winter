{
  "cells": [
    {
      "cell_type": "code",
      "execution_count": null,
      "metadata": {
        "colab": {
          "base_uri": "https://localhost:8080/"
        },
        "id": "ZUd0_wvVIr4J",
        "outputId": "6c63930b-ae00-4c5f-9152-61b830f9ab7c"
      },
      "outputs": [
        {
          "output_type": "stream",
          "name": "stdout",
          "text": [
            "\u001b[K     |████████████████████████████████| 591.8 MB 590 bytes/s \n",
            "\u001b[K     |████████████████████████████████| 23.3 MB 76.3 MB/s \n",
            "\u001b[K     |████████████████████████████████| 23.3 MB 1.3 MB/s \n",
            "\u001b[K     |████████████████████████████████| 22.1 MB 1.5 MB/s \n",
            "\u001b[K     |████████████████████████████████| 22.1 MB 1.7 MB/s \n",
            "\u001b[K     |████████████████████████████████| 17.4 MB 212 kB/s \n",
            "\u001b[K     |████████████████████████████████| 17.3 MB 75 kB/s \n",
            "\u001b[K     |████████████████████████████████| 12.8 MB 24.4 MB/s \n",
            "\u001b[K     |████████████████████████████████| 12.7 MB 18.9 MB/s \n",
            "\u001b[K     |████████████████████████████████| 11.8 MB 33.5 MB/s \n",
            "\u001b[K     |████████████████████████████████| 5.9 MB 43.6 MB/s \n",
            "\u001b[K     |████████████████████████████████| 6.6 MB 26.7 MB/s \n",
            "\u001b[K     |████████████████████████████████| 6.6 MB 32.9 MB/s \n",
            "\u001b[K     |████████████████████████████████| 4.0 MB 35.1 MB/s \n",
            "\u001b[K     |████████████████████████████████| 10.2 MB 23.9 MB/s \n",
            "\u001b[K     |████████████████████████████████| 10.1 MB 25.6 MB/s \n",
            "\u001b[K     |████████████████████████████████| 8.8 MB 37.4 MB/s \n",
            "\u001b[K     |████████████████████████████████| 2.6 MB 32.1 MB/s \n",
            "\u001b[K     |████████████████████████████████| 64 kB 2.3 MB/s \n",
            "\u001b[31mERROR: pip's dependency resolver does not currently take into account all the packages that are installed. This behaviour is the source of the following dependency conflicts.\n",
            "torchtext 0.11.0 requires torch==1.10.0, but you have torch 1.0.0 which is incompatible.\n",
            "torchaudio 0.10.0+cu111 requires torch==1.10.0, but you have torch 1.0.0 which is incompatible.\u001b[0m\n",
            "\u001b[?25h1.0.0\n"
          ]
        }
      ],
      "source": [
        "\n",
        "!pip install -q torch==1.0.0 torchvision\n",
        "import torch\n",
        "print(torch.__version__)\n"
      ]
    },
    {
      "cell_type": "markdown",
      "metadata": {
        "id": "23sQEXhSfY4I"
      },
      "source": [
        "### 1. Data Preparation"
      ]
    },
    {
      "cell_type": "markdown",
      "metadata": {
        "id": "OxpTvPfcIr4S"
      },
      "source": [
        "**Data Set**  \n",
        "$$X_{train} \\in \\mathcal{R}^{50000 \\times 784}, Y_{train} \\in \\mathcal{Z}^{50000}$$  \n",
        "$$X_{val} \\in \\mathcal{R}^{10000 \\times 784}, Y_{val} \\in \\mathcal{Z}^{10000}$$  \n",
        "$$X_{test} \\in \\mathcal{R}^{10000 \\times 784}, Y_{test} \\in \\mathcal{Z}^{10000}$$"
      ]
    },
    {
      "cell_type": "code",
      "execution_count": null,
      "metadata": {
        "colab": {
          "base_uri": "https://localhost:8080/"
        },
        "id": "ZruyRjqfIr4U",
        "outputId": "84290573-a7a9-4a46-f3f3-ec87d2b6e9c7"
      },
      "outputs": [
        {
          "output_type": "stream",
          "name": "stdout",
          "text": [
            "50000 10000 10000\n"
          ]
        }
      ],
      "source": [
        "import torch\n",
        "from torchvision import datasets, transforms\n",
        "import torch.nn as nn\n",
        "\n",
        "\n",
        "batch_size = 128\n",
        "train_dataset = datasets.MNIST('./data', train=True, download=True,\n",
        "                   transform=transforms.Compose([\n",
        "                       transforms.ToTensor(),\n",
        "                       transforms.Normalize((0.1307,), (0.3081,))\n",
        "                   ]))\n",
        "test_dataset =  datasets.MNIST('./data', train=False, download=True,\n",
        "                   transform=transforms.Compose([\n",
        "                       transforms.ToTensor(),\n",
        "                       transforms.Normalize((0.1307,), (0.3081,))\n",
        "                   ]))\n",
        "train_dataset, val_dataset = torch.utils.data.random_split(train_dataset, [50000, 10000])\n",
        "print(len(train_dataset), len(val_dataset), len(test_dataset))\n",
        "\n",
        "train_loader = torch.utils.data.DataLoader(train_dataset, batch_size=128, shuffle=True)\n",
        "val_loader = torch.utils.data.DataLoader(val_dataset, batch_size=128, shuffle=False)\n",
        "test_loader = torch.utils.data.DataLoader(test_dataset, batch_size=128, shuffle=False)"
      ]
    },
    {
      "cell_type": "markdown",
      "metadata": {
        "id": "FUz6s1FMIr4Y"
      },
      "source": [
        "### Inspecting Dataset"
      ]
    },
    {
      "cell_type": "code",
      "execution_count": null,
      "metadata": {
        "colab": {
          "base_uri": "https://localhost:8080/",
          "height": 657
        },
        "id": "t3TdknaGIr4Z",
        "outputId": "41b1f152-db8e-4863-94b3-4b11dd3101f0"
      },
      "outputs": [
        {
          "output_type": "display_data",
          "data": {
            "image/png": "[encoded data removed]",
            "text/plain": [
              "<Figure size 1080x648 with 6 Axes>"
            ]
          },
          "metadata": {
            "needs_background": "light"
          }
        }
      ],
      "source": [
        "examples = enumerate(train_loader)\n",
        "batch_idx, (example_data, example_targets) = next(examples)  \n",
        "\n",
        "import matplotlib.pyplot as plt\n",
        "\n",
        "fig = plt.figure(figsize=(15, 9))\n",
        "for i in range(6):\n",
        "    plt.subplot(2,3,i+1)\n",
        "    plt.tight_layout()\n",
        "    plt.imshow(example_data[i][0], cmap='gray', interpolation='none')\n",
        "    plt.title(\"Ground Truth: {}\".format(example_targets[i]))\n",
        "plt.show()"
      ]
    },
    {
      "cell_type": "markdown",
      "metadata": {
        "id": "lEqtbTROlXuB"
      },
      "source": [
        "### 2. Model Architecture"
      ]
    },
    {
      "cell_type": "code",
      "execution_count": null,
      "metadata": {
        "id": "40ht43Q1JpYI"
      },
      "outputs": [],
      "source": [
        "# MNIST 이미지 하나의 크기는 [28*28]입니다. 그리고 MNIST 데이터셋의 클래스 갯수는 10개입니다.\n",
        "# 이를 참고하여 한 층으로 구성된 linear model을 생성하기 위해서 빈칸 채우세요.\n",
        "\n",
        "class LinearModel(nn.Module):\n",
        "    def __init__(self): \n",
        "        super(LinearModel, self).__init__()\n",
        "        # ------------------빈 칸------------------#\n",
        "        self.linear = nn.Linear(784,10)\n",
        "        # -----------------------------------------#\n",
        "    \n",
        "    def forward(self, x):\n",
        "        # ------------------빈 칸------------------#\n",
        "        x = self.linear(x)\n",
        "        # -----------------------------------------#\n",
        "        return x"
      ]
    },
    {
      "cell_type": "markdown",
      "metadata": {
        "id": "FgdSvskSotgI"
      },
      "source": [
        "### 3. Cost Function Define (Loss Function Define)  "
      ]
    },
    {
      "cell_type": "code",
      "execution_count": null,
      "metadata": {
        "id": "yzNkZ_uwnufC"
      },
      "outputs": [],
      "source": [
        "cls_loss = nn.CrossEntropyLoss()"
      ]
    },
    {
      "cell_type": "markdown",
      "metadata": {
        "id": "3E2qZCXdIr4e"
      },
      "source": [
        "### 4. Train & Evaluation"
      ]
    },
    {
      "cell_type": "code",
      "execution_count": null,
      "metadata": {
        "scrolled": false,
        "colab": {
          "base_uri": "https://localhost:8080/"
        },
        "id": "OrltniHBIr4f",
        "outputId": "778d4a33-4cfe-4bdf-90e1-fad7f8075ead"
      },
      "outputs": [
        {
          "output_type": "stream",
          "name": "stdout",
          "text": [
            "Number of 7850 parameters\n",
            "Epoch: 0, Train Loss: 0.7544454075491337, Val Loss: 0.48504350947428354, Test Acc: 87.92%\n",
            "Epoch: 1, Train Loss: 0.44174113541917726, Val Loss: 0.40798912961271744, Test Acc: 89.48%\n",
            "Epoch: 2, Train Loss: 0.3921063420031687, Val Loss: 0.3749084380231326, Test Acc: 90.41%\n",
            "Epoch: 3, Train Loss: 0.36732678614613956, Val Loss: 0.3568108387385743, Test Acc: 90.63%\n",
            "Epoch: 4, Train Loss: 0.35146263116003607, Val Loss: 0.3445723258619067, Test Acc: 90.86999999999999%\n",
            "Epoch: 5, Train Loss: 0.3406162676985002, Val Loss: 0.33584156858770153, Test Acc: 91.11%\n",
            "Epoch: 6, Train Loss: 0.33216371282439705, Val Loss: 0.3287719520209711, Test Acc: 91.24%\n",
            "Epoch: 7, Train Loss: 0.3255694047416872, Val Loss: 0.3237553846232499, Test Acc: 91.3%\n",
            "Epoch: 8, Train Loss: 0.32003060017552826, Val Loss: 0.3196427435437335, Test Acc: 91.49000000000001%\n",
            "Epoch: 9, Train Loss: 0.3155776904443341, Val Loss: 0.3155242729036114, Test Acc: 91.60000000000001%\n",
            "Epoch: 10, Train Loss: 0.31163046888225826, Val Loss: 0.3127552187895473, Test Acc: 91.56%\n",
            "Epoch: 11, Train Loss: 0.30832964090435094, Val Loss: 0.31023428183567675, Test Acc: 91.55%\n",
            "Epoch: 12, Train Loss: 0.30518665494363933, Val Loss: 0.3080969435881965, Test Acc: 91.67999999999999%\n",
            "Epoch: 13, Train Loss: 0.30252761567187736, Val Loss: 0.3052869605112679, Test Acc: 91.8%\n",
            "Epoch: 14, Train Loss: 0.30017505822431706, Val Loss: 0.3035131953185118, Test Acc: 91.77%\n",
            "Epoch: 15, Train Loss: 0.2979660706446909, Val Loss: 0.30213680580446994, Test Acc: 91.79%\n",
            "Epoch: 16, Train Loss: 0.296110413568404, Val Loss: 0.30063146088696735, Test Acc: 91.88%\n",
            "Epoch: 17, Train Loss: 0.2943157919151399, Val Loss: 0.299206850460813, Test Acc: 91.84%\n",
            "Epoch: 18, Train Loss: 0.29268382207664384, Val Loss: 0.29806534097164494, Test Acc: 91.85%\n",
            "Epoch: 19, Train Loss: 0.2912275788500486, Val Loss: 0.29677458711062804, Test Acc: 91.94%\n",
            "Epoch: 20, Train Loss: 0.2896333113312721, Val Loss: 0.2958718345889562, Test Acc: 91.89%\n",
            "Epoch: 21, Train Loss: 0.2885130940915069, Val Loss: 0.29521707171880746, Test Acc: 91.96%\n",
            "Epoch: 22, Train Loss: 0.28710683783911684, Val Loss: 0.2943973735540728, Test Acc: 91.97999999999999%\n",
            "Epoch: 23, Train Loss: 0.2858793899759917, Val Loss: 0.29350158044054536, Test Acc: 92.03%\n",
            "Epoch: 24, Train Loss: 0.2848998679376929, Val Loss: 0.29297230873681324, Test Acc: 92.03%\n",
            "Epoch: 25, Train Loss: 0.28383256830370335, Val Loss: 0.2924312926545928, Test Acc: 92.03%\n",
            "Epoch: 26, Train Loss: 0.28304357201699404, Val Loss: 0.29132886230945587, Test Acc: 92.07%\n",
            "Epoch: 27, Train Loss: 0.2818983177394818, Val Loss: 0.2906045063009745, Test Acc: 92.10000000000001%\n",
            "Epoch: 28, Train Loss: 0.2808921577223122, Val Loss: 0.290572988081582, Test Acc: 92.06%\n",
            "Epoch: 29, Train Loss: 0.28005701844649544, Val Loss: 0.2898109372280821, Test Acc: 92.19000000000001%\n"
          ]
        }
      ],
      "source": [
        "import torch.optim as optim\n",
        "from sklearn.metrics import accuracy_score\n",
        "\n",
        "\n",
        "model = LinearModel()\n",
        "print('Number of {} parameters'.format(sum(p.numel() for p in model.parameters() if p.requires_grad)))\n",
        "\n",
        "\n",
        "lr = 0.005 \n",
        "optimizer = optim.SGD(model.parameters(), lr=lr) \n",
        "\n",
        "list_epoch = [] \n",
        "list_train_loss = []\n",
        "list_val_loss = []\n",
        "list_acc = []\n",
        "list_acc_epoch = []\n",
        "\n",
        "epoch = 30\n",
        "for i in range(epoch):\n",
        "    \n",
        "    train_loss = 0\n",
        "    model.train() \n",
        "    \n",
        "    for input_X, true_y in train_loader:\n",
        "        optimizer.zero_grad() \n",
        "        # ------------------빈 칸------------------#\n",
        "        # 입력 데이터 처리\n",
        "        input_X = input_X.view(-1,28*28)\n",
        "        # -----------------------------------------#\n",
        "        pred_y = model(input_X)\n",
        "\n",
        "        loss = cls_loss(pred_y.squeeze(), true_y)\n",
        "        loss.backward() \n",
        "        optimizer.step() \n",
        "        train_loss += loss.detach().numpy()\n",
        "    train_loss = train_loss / len(train_loader)\n",
        "    list_train_loss.append(train_loss)\n",
        "    list_epoch.append(i)\n",
        "    \n",
        "    \n",
        "    val_loss = 0\n",
        "    model.eval()\n",
        "\n",
        "    \n",
        "    with torch.no_grad(): \n",
        "        for input_X, true_y in val_loader:\n",
        "        # ------------------빈 칸------------------#\n",
        "        # 입력 데이터 처리\n",
        "            input_X = input_X.view(-1,28*28)\n",
        "        # -----------------------------------------#\n",
        "            pred_y = model(input_X)\n",
        "\n",
        "            loss = cls_loss(pred_y.squeeze(), true_y)\n",
        "            val_loss += loss.detach().numpy()\n",
        "        val_loss = val_loss / len(val_loader)\n",
        "        list_val_loss.append(val_loss)\n",
        "\n",
        "\n",
        "\n",
        "    correct = 0\n",
        "    model.eval()\n",
        "\n",
        "    with torch.no_grad():\n",
        "        for input_X, true_y in test_loader:\n",
        "        # ------------------빈 칸------------------#\n",
        "        # 입력 데이터 처리\n",
        "          input_X = input_X.view(-1,28*28)\n",
        "        \n",
        "          pred_y = model(input_X)\n",
        "        \n",
        "        # 모델 출력 결과를 이용하여 모델이 이미지를 제대로 맞춘 개수를 출력하는 correct를 구현하세요\n",
        "          _,predicted = torch.max(pred_y.data , 1)\n",
        "          correct += (predicted == true_y).sum()\n",
        "        \n",
        "        # -----------------------------------------#\n",
        "        acc = correct.numpy() / len(test_loader.dataset)\n",
        "        list_acc.append(acc)\n",
        "        list_acc_epoch.append(i)\n",
        "    \n",
        "    print('Epoch: {}, Train Loss: {}, Val Loss: {}, Test Acc: {}%'.format(i, train_loss, val_loss, acc*100))"
      ]
    },
    {
      "cell_type": "markdown",
      "metadata": {
        "id": "HdcD6bYOIr4i"
      },
      "source": [
        "### 5. Report Experiment  "
      ]
    },
    {
      "cell_type": "code",
      "execution_count": null,
      "metadata": {
        "scrolled": true,
        "id": "cWHdUCYDIr4j",
        "outputId": "c00e9689-0716-47b2-bd13-f80003813a17",
        "colab": {
          "base_uri": "https://localhost:8080/",
          "height": 350
        }
      },
      "outputs": [
        {
          "output_type": "display_data",
          "data": {
            "image/png": "[encoded data removed]",
            "text/plain": [
              "<Figure size 1080x360 with 2 Axes>"
            ]
          },
          "metadata": {
            "needs_background": "light"
          }
        }
      ],
      "source": [
        "fig = plt.figure(figsize=(15,5))\n",
        "\n",
        "# ====== Loss Fluctuation ====== #\n",
        "ax1 = fig.add_subplot(1, 2, 1)\n",
        "ax1.plot(list_epoch, list_train_loss, label='train_loss')\n",
        "ax1.plot(list_epoch, list_val_loss, '--', label='val_loss')\n",
        "ax1.set_xlabel('epoch')\n",
        "ax1.set_ylabel('loss')\n",
        "ax1.grid()\n",
        "ax1.legend()\n",
        "ax1.set_title('epoch vs loss')\n",
        "\n",
        "# ====== Metric Fluctuation ====== #\n",
        "ax2 = fig.add_subplot(1, 2, 2)\n",
        "ax2.plot(list_acc_epoch, list_acc, marker='x', label='Accuracy metric')\n",
        "ax2.set_xlabel('epoch')\n",
        "ax2.set_ylabel('Acc')\n",
        "ax2.grid()\n",
        "ax2.legend()\n",
        "ax2.set_title('epoch vs Accuracy')\n",
        "\n",
        "plt.show()"
      ]
    },
    {
      "cell_type": "code",
      "execution_count": null,
      "metadata": {
        "id": "GiENhwD9Ir4k"
      },
      "outputs": [],
      "source": [
        ""
      ]
    }
  ],
  "metadata": {
    "colab": {
      "collapsed_sections": [],
      "name": "Assignment1_pytorch_MNIST_MLP.ipynb",
      "provenance": []
    },
    "kernelspec": {
      "display_name": "Python 3",
      "language": "python",
      "name": "python3"
    },
    "language_info": {
      "codemirror_mode": {
        "name": "ipython",
        "version": 3
      },
      "file_extension": ".py",
      "mimetype": "text/x-python",
      "name": "python",
      "nbconvert_exporter": "python",
      "pygments_lexer": "ipython3",
      "version": "3.8.10"
    },
    "toc": {
      "base_numbering": 1,
      "nav_menu": {},
      "number_sections": false,
      "sideBar": true,
      "skip_h1_title": false,
      "title_cell": "Table of Contents",
      "title_sidebar": "Contents",
      "toc_cell": false,
      "toc_position": {},
      "toc_section_display": true,
      "toc_window_display": false
    }
  },
  "nbformat": 4,
  "nbformat_minor": 0
}