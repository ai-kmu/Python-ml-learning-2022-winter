{
 "cells": [
  {
   "cell_type": "code",
   "execution_count": null,
   "metadata": {},
   "outputs": [],
   "source": [
    "\"\"\"#구글 Colab에서 실행할 때는 이 주석을 해제하시고 실행해서 pytorch 1.0을 깔아주세요!\n",
    "!pip install -q torch==1.0.0 torchvision\n",
    "import torch\n",
    "print(torch.__version__)\n",
    "\"\"\""
   ]
  },
  {
   "cell_type": "markdown",
   "metadata": {
    "colab_type": "text",
    "id": "23sQEXhSfY4I"
   },
   "source": [
    "### 1. Data Preparation"
   ]
  },
  {
   "cell_type": "markdown",
   "metadata": {},
   "source": [
    "**Data Set**  \n",
    "$$X_{train} \\in \\mathcal{R}^{50000 \\times 784}, Y_{train} \\in \\mathcal{Z}^{50000}$$  \n",
    "$$X_{val} \\in \\mathcal{R}^{10000 \\times 784}, Y_{val} \\in \\mathcal{Z}^{10000}$$  \n",
    "$$X_{test} \\in \\mathcal{R}^{10000 \\times 784}, Y_{test} \\in \\mathcal{Z}^{10000}$$"
   ]
  },
  {
   "cell_type": "code",
   "execution_count": 32,
   "metadata": {},
   "outputs": [
    {
     "name": "stdout",
     "output_type": "stream",
     "text": [
      "50000 10000 10000\n"
     ]
    }
   ],
   "source": [
    "import torch\n",
    "from torchvision import datasets, transforms\n",
    "import torch.nn as nn\n",
    "\n",
    "\n",
    "batch_size = 128\n",
    "train_dataset = datasets.MNIST('./data', train=True, download=True,\n",
    "                   transform=transforms.Compose([\n",
    "                       transforms.ToTensor(),\n",
    "                       transforms.Normalize((0.1307,), (0.3081,))\n",
    "                   ]))\n",
    "test_dataset =  datasets.MNIST('./data', train=False, download=True,\n",
    "                   transform=transforms.Compose([\n",
    "                       transforms.ToTensor(),\n",
    "                       transforms.Normalize((0.1307,), (0.3081,))\n",
    "                   ]))\n",
    "train_dataset, val_dataset = torch.utils.data.random_split(train_dataset, [50000, 10000])\n",
    "print(len(train_dataset), len(val_dataset), len(test_dataset))\n",
    "\n",
    "train_loader = torch.utils.data.DataLoader(train_dataset, batch_size=128, shuffle=True)\n",
    "val_loader = torch.utils.data.DataLoader(val_dataset, batch_size=128, shuffle=False)\n",
    "test_loader = torch.utils.data.DataLoader(test_dataset, batch_size=128, shuffle=False)"
   ]
  },
  {
   "cell_type": "markdown",
   "metadata": {},
   "source": [
    "### Inspecting Dataset"
   ]
  },
  {
   "cell_type": "code",
   "execution_count": 33,
   "metadata": {},
   "outputs": [
    {
     "data": {
      "image/png": "[encoded data removed]",
      "text/plain": [
       "<Figure size 1080x648 with 6 Axes>"
      ]
     },
     "metadata": {
      "needs_background": "light"
     },
     "output_type": "display_data"
    }
   ],
   "source": [
    "examples = enumerate(train_loader)\n",
    "batch_idx, (example_data, example_targets) = next(examples)  \n",
    "\n",
    "import matplotlib.pyplot as plt\n",
    "\n",
    "fig = plt.figure(figsize=(15, 9))\n",
    "for i in range(6):\n",
    "    plt.subplot(2,3,i+1)\n",
    "    plt.tight_layout()\n",
    "    plt.imshow(example_data[i][0], cmap='gray', interpolation='none')\n",
    "    plt.title(\"Ground Truth: {}\".format(example_targets[i]))\n",
    "plt.show()"
   ]
  },
  {
   "cell_type": "markdown",
   "metadata": {
    "colab_type": "text",
    "id": "lEqtbTROlXuB"
   },
   "source": [
    "### 2. Model Architecture"
   ]
  },
  {
   "cell_type": "code",
   "execution_count": 86,
   "metadata": {
    "colab": {
     "base_uri": "https://localhost:8080/",
     "height": 53
    },
    "colab_type": "code",
    "id": "40ht43Q1JpYI",
    "outputId": "2e740bff-a553-4f68-8091-23c77fc6d5be"
   },
   "outputs": [],
   "source": [
    "# MNIST 이미지 하나의 크기는 [28*28]입니다. 그리고 MNIST 데이터셋의 클래스 갯수는 10개입니다.\n",
    "# 이를 참고하여 한 층으로 구성된 linear model을 생성하기 위해서 빈칸 채우세요.\n",
    "\n",
    "class LinearModel(nn.Module):\n",
    "    def __init__(self): \n",
    "        super(LinearModel, self).__init__()\n",
    "        # ------------------빈 칸------------------#\n",
    "        \n",
    "        # -----------------------------------------#\n",
    "    \n",
    "    def forward(self, x):\n",
    "        # ------------------빈 칸------------------#\n",
    "        \n",
    "        # -----------------------------------------#\n",
    "        return x"
   ]
  },
  {
   "cell_type": "markdown",
   "metadata": {
    "colab_type": "text",
    "id": "FgdSvskSotgI"
   },
   "source": [
    "### 3. Cost Function Define (Loss Function Define)  "
   ]
  },
  {
   "cell_type": "code",
   "execution_count": 31,
   "metadata": {
    "colab": {
     "base_uri": "https://localhost:8080/",
     "height": 53
    },
    "colab_type": "code",
    "id": "yzNkZ_uwnufC",
    "outputId": "d6edd719-7915-4931-e16a-d6d618578da0"
   },
   "outputs": [],
   "source": [
    "cls_loss = nn.CrossEntropyLoss()"
   ]
  },
  {
   "cell_type": "markdown",
   "metadata": {},
   "source": [
    "### 4. Train & Evaluation"
   ]
  },
  {
   "cell_type": "code",
   "execution_count": 87,
   "metadata": {
    "scrolled": false
   },
   "outputs": [
    {
     "name": "stdout",
     "output_type": "stream",
     "text": [
      "7850 parameters\n",
      "Epoch: 0, Train Loss: 1.5889012440086325, Val Loss: 2.600133042546767, Test Acc: 88.66000000000001%\n",
      "Epoch: 1, Train Loss: 1.929841691499476, Val Loss: 1.7396251921412311, Test Acc: 88.59%\n",
      "Epoch: 2, Train Loss: 1.358178712599113, Val Loss: 1.6867289230038849, Test Acc: 88.71%\n",
      "Epoch: 3, Train Loss: 1.2606027406042495, Val Loss: 1.7786739159233962, Test Acc: 85.87%\n",
      "Epoch: 4, Train Loss: 1.3093327427916515, Val Loss: 1.9450337479386148, Test Acc: 86.21%\n",
      "Epoch: 5, Train Loss: 1.3942002726485356, Val Loss: 2.039667970017542, Test Acc: 84.94%\n"
     ]
    }
   ],
   "source": [
    "import torch.optim as optim\n",
    "from sklearn.metrics import accuracy_score\n",
    "\n",
    "\n",
    "model = LinearModel()\n",
    "print('Number of {} parameters'.format(sum(p.numel() for p in model.parameters() if p.requires_grad)))\n",
    "\n",
    "\n",
    "lr = 0.005 \n",
    "optimizer = optim.SGD(model.parameters(), lr=lr) \n",
    "\n",
    "list_epoch = [] \n",
    "list_train_loss = []\n",
    "list_val_loss = []\n",
    "list_acc = []\n",
    "list_acc_epoch = []\n",
    "\n",
    "epoch = 30\n",
    "for i in range(epoch):\n",
    "    \n",
    "    train_loss = 0\n",
    "    model.train() \n",
    "    \n",
    "    for input_X, true_y in train_loader:\n",
    "        optimizer.zero_grad() \n",
    "        # ------------------빈 칸------------------#\n",
    "        # 입력 데이터 처리\n",
    "        \n",
    "        \n",
    "        # -----------------------------------------#\n",
    "        pred_y = model(input_X)\n",
    "\n",
    "        loss = cls_loss(pred_y.squeeze(), true_y)\n",
    "        loss.backward() \n",
    "        optimizer.step() \n",
    "        train_loss += loss.detach().numpy()\n",
    "    train_loss = train_loss / len(train_loader)\n",
    "    list_train_loss.append(train_loss)\n",
    "    list_epoch.append(i)\n",
    "    \n",
    "    \n",
    "    val_loss = 0\n",
    "    model.eval()\n",
    "\n",
    "    \n",
    "    with torch.no_grad(): # \n",
    "        for input_X, true_y in val_loader:\n",
    "        # ------------------빈 칸------------------#\n",
    "        # 입력 데이터 처리\n",
    "        \n",
    "        \n",
    "        # -----------------------------------------#\n",
    "            pred_y = model(input_X)\n",
    "\n",
    "            loss = cls_loss(pred_y.squeeze(), true_y)\n",
    "            val_loss += loss.detach().numpy()\n",
    "        val_loss = val_loss / len(val_loader)\n",
    "        list_val_loss.append(val_loss)\n",
    "\n",
    "\n",
    "\n",
    "    correct = 0\n",
    "    model.eval()\n",
    "\n",
    "    with torch.no_grad():\n",
    "        for input_X, true_y in test_loader:\n",
    "        # ------------------빈 칸------------------#\n",
    "        # 입력 데이터 처리\n",
    "        \n",
    "        \n",
    "        \n",
    "        pred_y = model(input_X)\n",
    "        \n",
    "        # 모델 출력 결과를 이용하여 모델이 이미지를 제대로 맞춘 개수를 출력하는 correct를 구현하세요\n",
    "        \n",
    "        \n",
    "        \n",
    "        \n",
    "        # -----------------------------------------#\n",
    "        acc = correct.numpy() / len(test_loader.dataset)\n",
    "        list_acc.append(acc)\n",
    "        list_acc_epoch.append(i)\n",
    "    \n",
    "    print('Epoch: {}, Train Loss: {}, Val Loss: {}, Test Acc: {}%'.format(i, train_loss, val_loss, acc*100))"
   ]
  },
  {
   "cell_type": "markdown",
   "metadata": {},
   "source": [
    "### 5. Report Experiment  "
   ]
  },
  {
   "cell_type": "code",
   "execution_count": 85,
   "metadata": {
    "scrolled": true
   },
   "outputs": [
    {
     "data": {
      "image/png": "[encoded data removed]",
      "text/plain": [
       "<Figure size 1080x360 with 2 Axes>"
      ]
     },
     "metadata": {
      "needs_background": "light"
     },
     "output_type": "display_data"
    }
   ],
   "source": [
    "fig = plt.figure(figsize=(15,5))\n",
    "\n",
    "# ====== Loss Fluctuation ====== #\n",
    "ax1 = fig.add_subplot(1, 2, 1)\n",
    "ax1.plot(list_epoch, list_train_loss, label='train_loss')\n",
    "ax1.plot(list_epoch, list_val_loss, '--', label='val_loss')\n",
    "ax1.set_xlabel('epoch')\n",
    "ax1.set_ylabel('loss')\n",
    "ax1.grid()\n",
    "ax1.legend()\n",
    "ax1.set_title('epoch vs loss')\n",
    "\n",
    "# ====== Metric Fluctuation ====== #\n",
    "ax2 = fig.add_subplot(1, 2, 2)\n",
    "ax2.plot(list_acc_epoch, list_acc, marker='x', label='Accuracy metric')\n",
    "ax2.set_xlabel('epoch')\n",
    "ax2.set_ylabel('Acc')\n",
    "ax2.grid()\n",
    "ax2.legend()\n",
    "ax2.set_title('epoch vs Accuracy')\n",
    "\n",
    "plt.show()"
   ]
  },
  {
   "cell_type": "code",
   "execution_count": null,
   "metadata": {},
   "outputs": [],
   "source": []
  }
 ],
 "metadata": {
  "colab": {
   "collapsed_sections": [],
   "include_colab_link": true,
   "name": "linear regression.ipynb",
   "provenance": [],
   "version": "0.3.2"
  },
  "kernelspec": {
   "display_name": "Python 3",
   "language": "python",
   "name": "python3"
  },
  "language_info": {
   "codemirror_mode": {
    "name": "ipython",
    "version": 3
   },
   "file_extension": ".py",
   "mimetype": "text/x-python",
   "name": "python",
   "nbconvert_exporter": "python",
   "pygments_lexer": "ipython3",
   "version": "3.8.10"
  },
  "toc": {
   "base_numbering": 1,
   "nav_menu": {},
   "number_sections": false,
   "sideBar": true,
   "skip_h1_title": false,
   "title_cell": "Table of Contents",
   "title_sidebar": "Contents",
   "toc_cell": false,
   "toc_position": {},
   "toc_section_display": true,
   "toc_window_display": false
  }
 },
 "nbformat": 4,
 "nbformat_minor": 1
}
