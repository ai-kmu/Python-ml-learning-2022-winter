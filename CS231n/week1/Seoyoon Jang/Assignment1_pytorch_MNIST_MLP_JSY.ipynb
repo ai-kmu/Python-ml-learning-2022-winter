{
  "cells": [
    {
      "cell_type": "code",
      "execution_count": null,
      "metadata": {
        "id": "YGj3hMijDIT6"
      },
      "outputs": [],
      "source": [
        "\"\"\"#구글 Colab에서 실행할 때는 이 주석을 해제하시고 실행해서 pytorch 1.0을 깔아주세요!\n",
        "!pip install -q torch==1.0.0 torchvision\n",
        "import torch\n",
        "print(torch.__version__)\n",
        "\"\"\""
      ]
    },
    {
      "cell_type": "code",
      "source": [
        "!pip install -q torch==1.0.0 torchvision"
      ],
      "metadata": {
        "id": "uAGmi-j6DfCk"
      },
      "execution_count": null,
      "outputs": []
    },
    {
      "cell_type": "code",
      "source": [
        "import torch\n",
        "print(torch.__version__)"
      ],
      "metadata": {
        "colab": {
          "base_uri": "https://localhost:8080/"
        },
        "id": "XPeIQlMTJ6be",
        "outputId": "3872fd63-3fe2-47ba-e613-1ccb953c2783"
      },
      "execution_count": null,
      "outputs": [
        {
          "output_type": "stream",
          "name": "stdout",
          "text": [
            "1.0.0\n"
          ]
        }
      ]
    },
    {
      "cell_type": "markdown",
      "metadata": {
        "id": "23sQEXhSfY4I"
      },
      "source": [
        "### 1. Data Preparation"
      ]
    },
    {
      "cell_type": "markdown",
      "metadata": {
        "id": "e1Ej5sgTDIUH"
      },
      "source": [
        "**Data Set**  \n",
        "$$X_{train} \\in \\mathcal{R}^{50000 \\times 784}, Y_{train} \\in \\mathcal{Z}^{50000}$$  \n",
        "$$X_{val} \\in \\mathcal{R}^{10000 \\times 784}, Y_{val} \\in \\mathcal{Z}^{10000}$$  \n",
        "$$X_{test} \\in \\mathcal{R}^{10000 \\times 784}, Y_{test} \\in \\mathcal{Z}^{10000}$$"
      ]
    },
    {
      "cell_type": "code",
      "execution_count": null,
      "metadata": {
        "colab": {
          "base_uri": "https://localhost:8080/"
        },
        "id": "HNNI3CKaDIUI",
        "outputId": "db858f34-d949-4f43-b310-450d3bae91a1"
      },
      "outputs": [
        {
          "output_type": "stream",
          "name": "stdout",
          "text": [
            "Downloading http://yann.lecun.com/exdb/mnist/train-images-idx3-ubyte.gz to ./data/MNIST/raw/train-images-idx3-ubyte.gz\n"
          ]
        },
        {
          "output_type": "stream",
          "name": "stderr",
          "text": [
            "9920512it [00:00, 38591516.44it/s]                             \n"
          ]
        },
        {
          "output_type": "stream",
          "name": "stdout",
          "text": [
            "Extracting ./data/MNIST/raw/train-images-idx3-ubyte.gz\n",
            "Downloading http://yann.lecun.com/exdb/mnist/train-labels-idx1-ubyte.gz to ./data/MNIST/raw/train-labels-idx1-ubyte.gz\n"
          ]
        },
        {
          "output_type": "stream",
          "name": "stderr",
          "text": [
            "32768it [00:00, 787620.29it/s]\n"
          ]
        },
        {
          "output_type": "stream",
          "name": "stdout",
          "text": [
            "Extracting ./data/MNIST/raw/train-labels-idx1-ubyte.gz\n",
            "Downloading http://yann.lecun.com/exdb/mnist/t10k-images-idx3-ubyte.gz to ./data/MNIST/raw/t10k-images-idx3-ubyte.gz\n"
          ]
        },
        {
          "output_type": "stream",
          "name": "stderr",
          "text": [
            "1654784it [00:00, 14127606.74it/s]                           "
          ]
        },
        {
          "output_type": "stream",
          "name": "stdout",
          "text": [
            "Extracting ./data/MNIST/raw/t10k-images-idx3-ubyte.gz\n"
          ]
        },
        {
          "output_type": "stream",
          "name": "stderr",
          "text": [
            "\n"
          ]
        },
        {
          "output_type": "stream",
          "name": "stdout",
          "text": [
            "Downloading http://yann.lecun.com/exdb/mnist/t10k-labels-idx1-ubyte.gz to ./data/MNIST/raw/t10k-labels-idx1-ubyte.gz\n"
          ]
        },
        {
          "output_type": "stream",
          "name": "stderr",
          "text": [
            "8192it [00:00, 207633.04it/s]\n"
          ]
        },
        {
          "output_type": "stream",
          "name": "stdout",
          "text": [
            "Extracting ./data/MNIST/raw/t10k-labels-idx1-ubyte.gz\n",
            "Processing...\n",
            "Done!\n",
            "50000 10000 10000\n"
          ]
        }
      ],
      "source": [
        "import torch\n",
        "from torchvision import datasets, transforms\n",
        "import torch.nn as nn\n",
        "\n",
        "\n",
        "batch_size = 128\n",
        "train_dataset = datasets.MNIST('./data', train=True, download=True,\n",
        "                   transform=transforms.Compose([\n",
        "                       transforms.ToTensor(),\n",
        "                       transforms.Normalize((0.1307,), (0.3081,))\n",
        "                   ]))\n",
        "test_dataset =  datasets.MNIST('./data', train=False, download=True,\n",
        "                   transform=transforms.Compose([\n",
        "                       transforms.ToTensor(),\n",
        "                       transforms.Normalize((0.1307,), (0.3081,))\n",
        "                   ]))\n",
        "train_dataset, val_dataset = torch.utils.data.random_split(train_dataset, [50000, 10000])\n",
        "print(len(train_dataset), len(val_dataset), len(test_dataset))\n",
        "\n",
        "train_loader = torch.utils.data.DataLoader(train_dataset, batch_size=128, shuffle=True)\n",
        "val_loader = torch.utils.data.DataLoader(val_dataset, batch_size=128, shuffle=False)\n",
        "test_loader = torch.utils.data.DataLoader(test_dataset, batch_size=128, shuffle=False)"
      ]
    },
    {
      "cell_type": "markdown",
      "metadata": {
        "id": "w1g33C2WDIUL"
      },
      "source": [
        "### Inspecting Dataset"
      ]
    },
    {
      "cell_type": "code",
      "execution_count": null,
      "metadata": {
        "colab": {
          "base_uri": "https://localhost:8080/",
          "height": 657
        },
        "id": "C8WevTUpDIUL",
        "outputId": "493e13fc-a8a4-45f4-ddc8-299432061a99"
      },
      "outputs": [
        {
          "output_type": "display_data",
          "data": {
            "image/png": "[encoded data removed]",
            "text/plain": [
              "<Figure size 1080x648 with 6 Axes>"
            ]
          },
          "metadata": {
            "needs_background": "light"
          }
        }
      ],
      "source": [
        "examples = enumerate(train_loader)\n",
        "batch_idx, (example_data, example_targets) = next(examples)  \n",
        "\n",
        "import matplotlib.pyplot as plt\n",
        "\n",
        "fig = plt.figure(figsize=(15, 9))\n",
        "for i in range(6):\n",
        "    plt.subplot(2,3,i+1)\n",
        "    plt.tight_layout()\n",
        "    plt.imshow(example_data[i][0], cmap='gray', interpolation='none')\n",
        "    plt.title(\"Ground Truth: {}\".format(example_targets[i]))\n",
        "plt.show()"
      ]
    },
    {
      "cell_type": "markdown",
      "metadata": {
        "id": "lEqtbTROlXuB"
      },
      "source": [
        "### 2. Model Architecture"
      ]
    },
    {
      "cell_type": "code",
      "execution_count": null,
      "metadata": {
        "id": "40ht43Q1JpYI"
      },
      "outputs": [],
      "source": [
        "# MNIST 이미지 하나의 크기는 [28*28]입니다. 그리고 MNIST 데이터셋의 클래스 갯수는 10개입니다.\n",
        "# 이를 참고하여 한 층으로 구성된 linear model을 생성하기 위해서 빈칸 채우세요.\n",
        "\n",
        "class LinearModel(nn.Module):\n",
        "    def __init__(self): \n",
        "        super(LinearModel, self).__init__()\n",
        "        # ------------------빈 칸------------------#\n",
        "        self.fc1 = nn.Linear(28 * 28, 512) # 첫번째 레이어 : 이전 레이어(Input 레이어)의 노드 갯수 (28 * 28)와 현 레이어의 노드 개수(512) 정의\n",
        "        self.fc2 = nn.Linear(512, 256) # 두번째 레이어\n",
        "        self.fc3 = nn.Linear(256, 10) # 마지막 레이어 (클래스 개수)\n",
        "        self.ReLU = nn.ReLU()\n",
        "        # -----------------------------------------#\n",
        "    \n",
        "    def forward(self, x):\n",
        "        # ------------------빈 칸------------------#\n",
        "        x = x.view(-1, 28 * 28) #펼치기\n",
        "        x = self.fc1(x) # 생성자 함수에서 정의한 레이어 통과\n",
        "        x = self.ReLU(x) # 활성함수 통과\n",
        "        x = self.fc2(x) # 생성자 함수에서 정의한 레이어 통과\n",
        "        x = self.ReLU(x) # 활성함수 통과\n",
        "        x = self.fc3(x) # 생성자 함수에서 정의한 레이어 통과\n",
        "        # -----------------------------------------#\n",
        "        return x"
      ]
    },
    {
      "cell_type": "markdown",
      "metadata": {
        "id": "FgdSvskSotgI"
      },
      "source": [
        "### 3. Cost Function Define (Loss Function Define)  "
      ]
    },
    {
      "cell_type": "code",
      "execution_count": null,
      "metadata": {
        "id": "yzNkZ_uwnufC"
      },
      "outputs": [],
      "source": [
        "cls_loss = nn.CrossEntropyLoss()"
      ]
    },
    {
      "cell_type": "markdown",
      "metadata": {
        "id": "bHU_ELzKDIUS"
      },
      "source": [
        "### 4. Train & Evaluation"
      ]
    },
    {
      "cell_type": "code",
      "execution_count": null,
      "metadata": {
        "scrolled": false,
        "colab": {
          "base_uri": "https://localhost:8080/"
        },
        "id": "KDybFq8-DIUT",
        "outputId": "5a10a5af-a79c-409d-bac7-2ab7b253b2ae"
      },
      "outputs": [
        {
          "output_type": "stream",
          "name": "stdout",
          "text": [
            "Number of 535818 parameters\n",
            "Epoch: 0, Train Loss: 1.7557607643744524, Val Loss: 1.0459252211112011, Test Acc: 80.53%\n",
            "Epoch: 1, Train Loss: 0.7079734291566913, Val Loss: 0.5383559182474885, Test Acc: 87.38%\n",
            "Epoch: 2, Train Loss: 0.4590453051240243, Val Loss: 0.42117478726785396, Test Acc: 89.36%\n",
            "Epoch: 3, Train Loss: 0.382169614781809, Val Loss: 0.37126489474049096, Test Acc: 90.25999999999999%\n",
            "Epoch: 4, Train Loss: 0.3436439847168715, Val Loss: 0.34151034773905065, Test Acc: 91.22%\n",
            "Epoch: 5, Train Loss: 0.31842851067138145, Val Loss: 0.3215519859443737, Test Acc: 91.64%\n",
            "Epoch: 6, Train Loss: 0.29953421911467676, Val Loss: 0.30632933710194843, Test Acc: 91.97999999999999%\n",
            "Epoch: 7, Train Loss: 0.2840066341030628, Val Loss: 0.293504803429676, Test Acc: 92.24%\n",
            "Epoch: 8, Train Loss: 0.2709843372864187, Val Loss: 0.2811525980883007, Test Acc: 92.55%\n",
            "Epoch: 9, Train Loss: 0.2594812750397131, Val Loss: 0.27266353651692593, Test Acc: 92.65%\n",
            "Epoch: 10, Train Loss: 0.24907795408421465, Val Loss: 0.26231923737103424, Test Acc: 93.06%\n",
            "Epoch: 11, Train Loss: 0.2390442578993795, Val Loss: 0.2548734087355529, Test Acc: 93.19%\n",
            "Epoch: 12, Train Loss: 0.23019375991257254, Val Loss: 0.2455595011198068, Test Acc: 93.47999999999999%\n",
            "Epoch: 13, Train Loss: 0.22167772997904311, Val Loss: 0.23794253821237177, Test Acc: 93.64%\n",
            "Epoch: 14, Train Loss: 0.21370800542633248, Val Loss: 0.2304030912397783, Test Acc: 93.96%\n",
            "Epoch: 15, Train Loss: 0.20632870451492422, Val Loss: 0.2232185489014734, Test Acc: 94.08999999999999%\n",
            "Epoch: 16, Train Loss: 0.19915508673242902, Val Loss: 0.21736701568470726, Test Acc: 94.12%\n",
            "Epoch: 17, Train Loss: 0.19249735127591416, Val Loss: 0.2110340528284447, Test Acc: 94.34%\n",
            "Epoch: 18, Train Loss: 0.18592304447689628, Val Loss: 0.2052956003742882, Test Acc: 94.45%\n",
            "Epoch: 19, Train Loss: 0.17992782255496514, Val Loss: 0.20038395827706856, Test Acc: 94.67999999999999%\n",
            "Epoch: 20, Train Loss: 0.1742692448560844, Val Loss: 0.19407804036819482, Test Acc: 94.92%\n",
            "Epoch: 21, Train Loss: 0.16868861753236303, Val Loss: 0.18915973603725433, Test Acc: 95.02000000000001%\n",
            "Epoch: 22, Train Loss: 0.16342589774590624, Val Loss: 0.18497811512479298, Test Acc: 95.05%\n",
            "Epoch: 23, Train Loss: 0.15866721364314598, Val Loss: 0.1801825798576391, Test Acc: 95.19%\n",
            "Epoch: 24, Train Loss: 0.15387157163084925, Val Loss: 0.17600374272729777, Test Acc: 95.25%\n",
            "Epoch: 25, Train Loss: 0.14935318654989038, Val Loss: 0.17190191658991802, Test Acc: 95.39%\n",
            "Epoch: 26, Train Loss: 0.14503721795652225, Val Loss: 0.16846859492833102, Test Acc: 95.44%\n",
            "Epoch: 27, Train Loss: 0.14123486664593982, Val Loss: 0.1648388564398017, Test Acc: 95.6%\n",
            "Epoch: 28, Train Loss: 0.13711598674621422, Val Loss: 0.16169189029856573, Test Acc: 95.63000000000001%\n",
            "Epoch: 29, Train Loss: 0.13336463870904636, Val Loss: 0.15825383704674395, Test Acc: 95.73%\n"
          ]
        }
      ],
      "source": [
        "import torch.optim as optim\n",
        "from sklearn.metrics import accuracy_score\n",
        "\n",
        "\n",
        "model = LinearModel()\n",
        "print('Number of {} parameters'.format(sum(p.numel() for p in model.parameters() if p.requires_grad)))\n",
        "\n",
        "\n",
        "lr = 0.005 \n",
        "optimizer = optim.SGD(model.parameters(), lr=lr) \n",
        "\n",
        "list_epoch = [] \n",
        "list_train_loss = []\n",
        "list_val_loss = []\n",
        "list_acc = []\n",
        "list_acc_epoch = []\n",
        "\n",
        "epoch = 30\n",
        "for i in range(epoch):\n",
        "    \n",
        "    train_loss = 0\n",
        "    model.train() \n",
        "    \n",
        "    for input_X, true_y in train_loader:\n",
        "        optimizer.zero_grad() \n",
        "        # ------------------빈 칸------------------#\n",
        "        # 입력 데이터 처리\n",
        "        input_X = input_X.squeeze()\n",
        "        \n",
        "        # -----------------------------------------#\n",
        "        pred_y = model(input_X)\n",
        "\n",
        "        loss = cls_loss(pred_y.squeeze(), true_y)\n",
        "        loss.backward() \n",
        "        optimizer.step() \n",
        "        train_loss += loss.detach().numpy()\n",
        "    train_loss = train_loss / len(train_loader)\n",
        "    list_train_loss.append(train_loss)\n",
        "    list_epoch.append(i)\n",
        "    \n",
        "    \n",
        "    val_loss = 0\n",
        "    model.eval()\n",
        "\n",
        "    \n",
        "    with torch.no_grad(): # \n",
        "        for input_X, true_y in val_loader:\n",
        "        # ------------------빈 칸------------------#\n",
        "        # 입력 데이터 처리\n",
        "        \n",
        "            input_X = input_X.squeeze()\n",
        "        # -----------------------------------------#\n",
        "            pred_y = model(input_X)\n",
        "\n",
        "            loss = cls_loss(pred_y.squeeze(), true_y)\n",
        "            val_loss += loss.detach().numpy()\n",
        "        val_loss = val_loss / len(val_loader)\n",
        "        list_val_loss.append(val_loss)\n",
        "\n",
        "\n",
        "\n",
        "    correct = 0\n",
        "    model.eval()\n",
        "\n",
        "    with torch.no_grad():\n",
        "        for input_X, true_y in test_loader:\n",
        "        # ------------------빈 칸------------------#\n",
        "        # 입력 데이터 처리\n",
        "        \n",
        "            input_X = input_X.squeeze()\n",
        "        \n",
        "            pred_y = model(input_X)\n",
        "        \n",
        "        # 모델 출력 결과를 이용하여 모델이 이미지를 제대로 맞춘 개수를 출력하는 correct를 구현하세요\n",
        "            pred_y = model(input_X).max(1, keepdim=True)[1].squeeze()\n",
        "            correct += pred_y.eq(true_y).sum()        \n",
        "        \n",
        "        \n",
        "        \n",
        "        # -----------------------------------------#\n",
        "        acc = correct.numpy() / len(test_loader.dataset)\n",
        "        list_acc.append(acc)\n",
        "        list_acc_epoch.append(i)\n",
        "    \n",
        "    print('Epoch: {}, Train Loss: {}, Val Loss: {}, Test Acc: {}%'.format(i, train_loss, val_loss, acc*100))"
      ]
    },
    {
      "cell_type": "markdown",
      "metadata": {
        "id": "TFdj2Ws6DIUW"
      },
      "source": [
        "### 5. Report Experiment  "
      ]
    },
    {
      "cell_type": "code",
      "execution_count": null,
      "metadata": {
        "scrolled": true,
        "colab": {
          "base_uri": "https://localhost:8080/",
          "height": 350
        },
        "id": "7PV5TBK-DIUW",
        "outputId": "57eeb4f8-17c5-4781-c8e2-abc9fe53f5db"
      },
      "outputs": [
        {
          "output_type": "display_data",
          "data": {
            "image/png": "[encoded data removed]",
            "text/plain": [
              "<Figure size 1080x360 with 2 Axes>"
            ]
          },
          "metadata": {
            "needs_background": "light"
          }
        }
      ],
      "source": [
        "fig = plt.figure(figsize=(15,5))\n",
        "\n",
        "# ====== Loss Fluctuation ====== #\n",
        "ax1 = fig.add_subplot(1, 2, 1)\n",
        "ax1.plot(list_epoch, list_train_loss, label='train_loss')\n",
        "ax1.plot(list_epoch, list_val_loss, '--', label='val_loss')\n",
        "ax1.set_xlabel('epoch')\n",
        "ax1.set_ylabel('loss')\n",
        "ax1.grid()\n",
        "ax1.legend()\n",
        "ax1.set_title('epoch vs loss')\n",
        "\n",
        "# ====== Metric Fluctuation ====== #\n",
        "ax2 = fig.add_subplot(1, 2, 2)\n",
        "ax2.plot(list_acc_epoch, list_acc, marker='x', label='Accuracy metric')\n",
        "ax2.set_xlabel('epoch')\n",
        "ax2.set_ylabel('Acc')\n",
        "ax2.grid()\n",
        "ax2.legend()\n",
        "ax2.set_title('epoch vs Accuracy')\n",
        "\n",
        "plt.show()"
      ]
    },
    {
      "cell_type": "code",
      "execution_count": null,
      "metadata": {
        "id": "PHEWkmfgDIUY"
      },
      "outputs": [],
      "source": [
        ""
      ]
    }
  ],
  "metadata": {
    "colab": {
      "collapsed_sections": [],
      "name": "Assignment1_pytorch_MNIST_MLP.ipynb",
      "provenance": []
    },
    "kernelspec": {
      "display_name": "Python 3",
      "language": "python",
      "name": "python3"
    },
    "language_info": {
      "codemirror_mode": {
        "name": "ipython",
        "version": 3
      },
      "file_extension": ".py",
      "mimetype": "text/x-python",
      "name": "python",
      "nbconvert_exporter": "python",
      "pygments_lexer": "ipython3",
      "version": "3.7.11"
    },
    "toc": {
      "base_numbering": 1,
      "nav_menu": {},
      "number_sections": false,
      "sideBar": true,
      "skip_h1_title": false,
      "title_cell": "Table of Contents",
      "title_sidebar": "Contents",
      "toc_cell": false,
      "toc_position": {},
      "toc_section_display": true,
      "toc_window_display": false
    }
  },
  "nbformat": 4,
  "nbformat_minor": 0
}