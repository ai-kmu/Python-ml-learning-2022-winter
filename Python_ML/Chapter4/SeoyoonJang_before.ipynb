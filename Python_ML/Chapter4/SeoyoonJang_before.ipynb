{
 "cells": [
  {
   "cell_type": "markdown",
   "metadata": {},
   "source": [
    "## Chapter 4. 머신러닝에 필요한 수학의 기본"
   ]
  },
  {
   "cell_type": "markdown",
   "metadata": {},
   "source": [
    "### 4.1 벡터"
   ]
  },
  {
   "cell_type": "markdown",
   "metadata": {
    "id": "yCXVRYCZhKDM"
   },
   "source": [
    "- 넘파이 라이브러리 import"
   ]
  },
  {
   "cell_type": "code",
   "execution_count": 50,
   "metadata": {
    "id": "C97qtSkmiMO5"
   },
   "outputs": [],
   "source": [
    "import numpy as np"
   ]
  },
  {
   "cell_type": "markdown",
   "metadata": {},
   "source": [
    "- 요소가 2,1인 벡터 정의\n",
    "\n",
    " 1차원ndarray 형은 가로, 세로를 구분 않고 항상 가로 벡터로 표시함\n"
   ]
  },
  {
   "cell_type": "code",
   "execution_count": 51,
   "metadata": {
    "colab": {
     "base_uri": "https://localhost:8080/"
    },
    "executionInfo": {
     "elapsed": 1185,
     "status": "ok",
     "timestamp": 1604229607973,
     "user": {
      "displayName": "wooki park",
      "photoUrl": "",
      "userId": "01162254528265100624"
     },
     "user_tz": -540
    },
    "id": "Kht_IxKXiPPm",
    "outputId": "b21344da-fc10-4085-98df-7d4794887cd7"
   },
   "outputs": [
    {
     "name": "stdout",
     "output_type": "stream",
     "text": [
      "[2 1]\n"
     ]
    }
   ],
   "source": [
    "a = np.array([2,1])\n",
    "print(a)"
   ]
  },
  {
   "cell_type": "markdown",
   "metadata": {},
   "source": [
    "- type()을 사용하여 numpy.ndarray 형임을 확인"
   ]
  },
  {
   "cell_type": "code",
   "execution_count": 52,
   "metadata": {
    "colab": {
     "base_uri": "https://localhost:8080/"
    },
    "executionInfo": {
     "elapsed": 874,
     "status": "ok",
     "timestamp": 1604229616569,
     "user": {
      "displayName": "wooki park",
      "photoUrl": "",
      "userId": "01162254528265100624"
     },
     "user_tz": -540
    },
    "id": "7VJGS7GniSm6",
    "outputId": "63b1cdb2-75c6-4fb3-e8a6-a588c59dba2d"
   },
   "outputs": [
    {
     "data": {
      "text/plain": [
       "numpy.ndarray"
      ]
     },
     "execution_count": 52,
     "metadata": {},
     "output_type": "execute_result"
    }
   ],
   "source": [
    "type(a)"
   ]
  },
  {
   "cell_type": "markdown",
   "metadata": {
    "id": "rGbRMv-jiU_W"
   },
   "source": [
    "- 2x2 크기의 2차원 배열(행렬) "
   ]
  },
  {
   "cell_type": "code",
   "execution_count": 53,
   "metadata": {
    "colab": {
     "base_uri": "https://localhost:8080/"
    },
    "executionInfo": {
     "elapsed": 600,
     "status": "ok",
     "timestamp": 1604229643698,
     "user": {
      "displayName": "wooki park",
      "photoUrl": "",
      "userId": "01162254528265100624"
     },
     "user_tz": -540
    },
    "id": "-ICbPmWOiXQh",
    "outputId": "4b01fceb-0937-4144-fdb3-fcfee2d971af"
   },
   "outputs": [
    {
     "name": "stdout",
     "output_type": "stream",
     "text": [
      "[[1 2]\n",
      " [3 4]]\n"
     ]
    }
   ],
   "source": [
    "c = np.array([ [1,2], [3,4] ])\n",
    "print(c)"
   ]
  },
  {
   "cell_type": "markdown",
   "metadata": {},
   "source": [
    "- 세로 벡터를 2차원 형태로 나타내는 방법"
   ]
  },
  {
   "cell_type": "code",
   "execution_count": 54,
   "metadata": {
    "colab": {
     "base_uri": "https://localhost:8080/"
    },
    "executionInfo": {
     "elapsed": 584,
     "status": "ok",
     "timestamp": 1604229664474,
     "user": {
      "displayName": "wooki park",
      "photoUrl": "",
      "userId": "01162254528265100624"
     },
     "user_tz": -540
    },
    "id": "_BsS9Bh2ibkC",
    "outputId": "875382f1-af07-4d7d-9618-a2ca322bd0f4"
   },
   "outputs": [
    {
     "name": "stdout",
     "output_type": "stream",
     "text": [
      "[[1]\n",
      " [2]]\n"
     ]
    }
   ],
   "source": [
    "d = np.array([ [1], [2] ])\n",
    "print(d)"
   ]
  },
  {
   "cell_type": "markdown",
   "metadata": {
    "id": "2E-3NDU_igxf"
   },
   "source": [
    "- 전치 나타내기: `변수명.T`"
   ]
  },
  {
   "cell_type": "code",
   "execution_count": 55,
   "metadata": {
    "colab": {
     "base_uri": "https://localhost:8080/"
    },
    "executionInfo": {
     "elapsed": 577,
     "status": "ok",
     "timestamp": 1604229683663,
     "user": {
      "displayName": "wooki park",
      "photoUrl": "",
      "userId": "01162254528265100624"
     },
     "user_tz": -540
    },
    "id": "Kra3GpMBijO4",
    "outputId": "608f8aed-7e5c-439a-ddb6-12bd576584a3"
   },
   "outputs": [
    {
     "name": "stdout",
     "output_type": "stream",
     "text": [
      "[[1 2]]\n"
     ]
    }
   ],
   "source": [
    "print(d.T)"
   ]
  },
  {
   "cell_type": "markdown",
   "metadata": {
    "id": "MDPR74NRildi"
   },
   "source": [
    "- 벡터의 덧셈과 뺄셈 연산 \n",
    "\n",
    "    - 각 위치의 요소끼리 연산됨\n",
    "\n",
    "    - 따라서 리스트 형이 아닌 벡터로 다루어지고 있음알 알 수 있다. (리스트형이었으면 두 항목이 연결되었을 것)"
   ]
  },
  {
   "cell_type": "code",
   "execution_count": 56,
   "metadata": {
    "colab": {
     "base_uri": "https://localhost:8080/"
    },
    "executionInfo": {
     "elapsed": 569,
     "status": "ok",
     "timestamp": 1604229720565,
     "user": {
      "displayName": "wooki park",
      "photoUrl": "",
      "userId": "01162254528265100624"
     },
     "user_tz": -540
    },
    "id": "19JZEk1QinVK",
    "outputId": "8c248ba1-a753-417c-ddae-0d31bf88a012"
   },
   "outputs": [
    {
     "name": "stdout",
     "output_type": "stream",
     "text": [
      "[3 4]\n"
     ]
    }
   ],
   "source": [
    "a = np.array([2,1])\n",
    "b = np.array([1,3])\n",
    "print(a+b)"
   ]
  },
  {
   "cell_type": "code",
   "execution_count": 57,
   "metadata": {
    "colab": {
     "base_uri": "https://localhost:8080/"
    },
    "executionInfo": {
     "elapsed": 551,
     "status": "ok",
     "timestamp": 1604229745583,
     "user": {
      "displayName": "wooki park",
      "photoUrl": "",
      "userId": "01162254528265100624"
     },
     "user_tz": -540
    },
    "id": "3d9oxQRTiueD",
    "outputId": "3654e322-0eae-4c5a-d8e2-ba9a217debbb"
   },
   "outputs": [
    {
     "name": "stdout",
     "output_type": "stream",
     "text": [
      "[ 1 -2]\n"
     ]
    }
   ],
   "source": [
    "a = np.array([2,1])\n",
    "b = np.array([1,3])\n",
    "print(a-b)"
   ]
  },
  {
   "cell_type": "markdown",
   "metadata": {
    "id": "eUSWaMtSi0lU"
   },
   "source": [
    "- 스칼라의 곱셈"
   ]
  },
  {
   "cell_type": "code",
   "execution_count": 58,
   "metadata": {
    "colab": {
     "base_uri": "https://localhost:8080/"
    },
    "executionInfo": {
     "elapsed": 649,
     "status": "ok",
     "timestamp": 1604229765399,
     "user": {
      "displayName": "wooki park",
      "photoUrl": "",
      "userId": "01162254528265100624"
     },
     "user_tz": -540
    },
    "id": "AUNbwqE3i3Ir",
    "outputId": "09e9d0f3-5ce5-4131-a1e2-b8684ede93f8"
   },
   "outputs": [
    {
     "name": "stdout",
     "output_type": "stream",
     "text": [
      "[4 2]\n"
     ]
    }
   ],
   "source": [
    "print(2 * a)"
   ]
  },
  {
   "cell_type": "markdown",
   "metadata": {
    "id": "C75gV7uti5Tf"
   },
   "source": [
    "- 내적 계산: `변수명1.dot(변수명2)`\n",
    " \n",
    "     (기하학적 의미: b를 c로 투영한 벡터를 b'으로 하여 b'와 c의 길이를 곱해 합한 것)"
   ]
  },
  {
   "cell_type": "code",
   "execution_count": 59,
   "metadata": {
    "colab": {
     "base_uri": "https://localhost:8080/"
    },
    "executionInfo": {
     "elapsed": 556,
     "status": "ok",
     "timestamp": 1604229800837,
     "user": {
      "displayName": "wooki park",
      "photoUrl": "",
      "userId": "01162254528265100624"
     },
     "user_tz": -540
    },
    "id": "T2l8JXm2i89o",
    "outputId": "c2f2dbc4-b81e-4e48-9473-de7ce91edbdf"
   },
   "outputs": [
    {
     "name": "stdout",
     "output_type": "stream",
     "text": [
      "10\n"
     ]
    }
   ],
   "source": [
    "b = np.array([1,3])\n",
    "c = np.array([4,2])\n",
    "print(b.dot(c))"
   ]
  },
  {
   "cell_type": "markdown",
   "metadata": {},
   "source": [
    "#### <font color=blue> 내적은 두 벡터의 유사성과 관련  </font>\n",
    "\n",
    "- **내적이 큰 값**을 갖는 경우: 두 벡터가 비슷한 방향일 때\n",
    "- **내적이 작은 값**을 갖는 경우: 두 벡터가 수직에 가까울 때\n",
    "- **내적이 0값**일 경우: 두 벡터가 수직일 때"
   ]
  },
  {
   "cell_type": "markdown",
   "metadata": {
    "id": "pl-qLFyzjCEl"
   },
   "source": [
    "- 벡터의 크기 구하기: `np.linalg.norm()`\n",
    "\n",
    "    (각 요소값을 제곱하여 합하고 루트씌우는 연산과 같음)"
   ]
  },
  {
   "cell_type": "code",
   "execution_count": 60,
   "metadata": {
    "colab": {
     "base_uri": "https://localhost:8080/"
    },
    "executionInfo": {
     "elapsed": 763,
     "status": "ok",
     "timestamp": 1604229840271,
     "user": {
      "displayName": "wooki park",
      "photoUrl": "",
      "userId": "01162254528265100624"
     },
     "user_tz": -540
    },
    "id": "69AMU8TfjF8-",
    "outputId": "b1eb5ffb-eb3c-44b4-db4d-9156a2412be5"
   },
   "outputs": [
    {
     "name": "stdout",
     "output_type": "stream",
     "text": [
      "3.1622776601683795\n"
     ]
    }
   ],
   "source": [
    "a = np.array([1,3])\n",
    "print(np.linalg.norm(a))"
   ]
  },
  {
   "cell_type": "markdown",
   "metadata": {},
   "source": [
    "### 4.2 합의 기호"
   ]
  },
  {
   "cell_type": "markdown",
   "metadata": {
    "id": "FU-lSW-PjLpd"
   },
   "source": [
    "- 합을 내적으로 계산하기\n",
    "    - `np.ones()` : 1로 초기화된 shape 차원의 ndarray배열 객체를 반환\n",
    "    - `numpy.arange()` : 빈 열린 구간에서 (step의 크기만큼 일정하게 떨어진 숫자들을) array 형태로 반환해 주는 함수\n",
    "    - `a.dot(b)` : a와 b의 내적"
   ]
  },
  {
   "cell_type": "code",
   "execution_count": 61,
   "metadata": {
    "colab": {
     "base_uri": "https://localhost:8080/"
    },
    "executionInfo": {
     "elapsed": 547,
     "status": "ok",
     "timestamp": 1604230775797,
     "user": {
      "displayName": "wooki park",
      "photoUrl": "",
      "userId": "01162254528265100624"
     },
     "user_tz": -540
    },
    "id": "85A7cbYtmlh8",
    "outputId": "ad52840e-5525-431d-8f79-f9cebb3732d7"
   },
   "outputs": [
    {
     "name": "stdout",
     "output_type": "stream",
     "text": [
      "500500.0\n"
     ]
    }
   ],
   "source": [
    "import numpy as np\n",
    "a = np.ones(1000) \n",
    "b = np.arange(1, 1001) #1부터 1000까지 요소들의 array (만약 step 지정하고싶으면 가운데에 추가 (start, step, end))\n",
    "print(a.dot(b))"
   ]
  },
  {
   "cell_type": "markdown",
   "metadata": {
    "id": "pAyV3z2buzXP"
   },
   "source": [
    "### 4.3 곱의 기호\n",
    "### 4.4 미분\n",
    "### 4.5 편미분\n",
    "- 편미분: 하나의 변수만, 다른 변수는 모두 상수라고 간주하여 미분하는 것\n",
    "- 복수의 변수를 갖는 함수의 예:$f(w_{0}, w_{1}) = w_{0}^2 + 2w_{1}*w_{0} + 3$\n",
    "- 편미분에 의해 $(w_{0}, w_{1})$ 두 방향의 기울기를 세트로 하여 벡터 해석 가능\n",
    "- 이것을 **f의 w에 대한 경사(기울기벡터, gradient)**라고 부름\n",
    "- 경사는 기울기가 가장 큰 방향과 그 크기를 나타냄"
   ]
  },
  {
   "cell_type": "markdown",
   "metadata": {},
   "source": [
    "#### 실제 경사도를 그림으로 나타내기\n",
    "- (A): 함수 f 정의\n",
    "- (B): w0 방향의 편미분을 리턴하는 함수 dff_dw0 정의\n",
    "- (C): w1 방향의 편미분을 리턴하는 함수 dff_dw1 정의\n",
    "- (D): 격자 모양으로 나눈 w0과 w1을 2차원 배열 ww0과 ww1에 저장\n",
    "- (E): ww0과 ww1에 대한 f와 편미분값 계산하여 ff, dff_dw0, dff_dw1에 저장\n",
    "- (F): ff가 등고선을 표시\n",
    "- (G): 경사 벡터를 화살표로 표시"
   ]
  },
  {
   "cell_type": "code",
   "execution_count": 62,
   "metadata": {
    "colab": {
     "base_uri": "https://localhost:8080/",
     "height": 284
    },
    "executionInfo": {
     "elapsed": 1031,
     "status": "ok",
     "timestamp": 1604233360569,
     "user": {
      "displayName": "wooki park",
      "photoUrl": "",
      "userId": "01162254528265100624"
     },
     "user_tz": -540
    },
    "id": "HrQWAzsCu9pN",
    "outputId": "9f07534d-d421-42cd-c043-57ff8f65bd36"
   },
   "outputs": [
    {
     "data": {
      "image/png": "[encoded data removed]",
      "text/plain": [
       "<Figure size 648x288 with 2 Axes>"
      ]
     },
     "metadata": {
      "needs_background": "light"
     },
     "output_type": "display_data"
    }
   ],
   "source": [
    "import numpy as np\n",
    "import matplotlib.pyplot as plt\n",
    "\n",
    "def f(w0, w1): # (A) f 정의\n",
    "    return w0**2 + 2 * w0 * w1 + 3\n",
    "def df_dw0(w0,w1): # (B) f의 w0에 관한 편미분\n",
    "    return 2 * w0 + 2 * w1\n",
    "def df_dw1(w0,w1): # (C) f의 w1에 관한 편미분\n",
    "    return 2 * w0 + 0 * w1\n",
    "\n",
    "w_range = 2\n",
    "dw=0.25\n",
    "w0 = np.arange(-w_range, w_range + dw, dw)\n",
    "w1 = np.arange(-w_range, w_range + dw, dw)\n",
    "wn = w0.shape[0]\n",
    "ww0, ww1 = np.meshgrid(w0, w1) # (D) 격자 그리드 만들기\n",
    "ff = np.zeros( (len(w0), len(w1)) )\n",
    "dff_dw0 = np.zeros( (len(w0), len(w1)) )\n",
    "dff_dw1 = np.zeros( (len(w0), len(w1)) )\n",
    "\n",
    "for i0 in range(wn): # (E)\n",
    "    for i1 in range(wn):\n",
    "        ff[i1, i0] = f(w0[i0], w1[i1] )\n",
    "        dff_dw0[i1, i0] = df_dw0( w0[i0], w1[i1] )\n",
    "        dff_dw1[i1, i0] = df_dw1( w0[i0], w1[i1] )\n",
    "\n",
    "plt.figure(figsize=(9,4))\n",
    "plt.subplots_adjust(wspace=0.3)\n",
    "\n",
    "plt.subplot(1,2,1)\n",
    "cont = plt.contour(ww0, ww1, ff, 10, colors='k') # (F) f의 등고선 표시\n",
    "cont.clabel(fmt='%2.0f', fontsize=8) #등고선 플롯 고도각에 label 지정\n",
    "plt.xticks(range(-w_range, w_range + 1, 1))\n",
    "plt.yticks(range(-w_range, w_range + 1, 1))\n",
    "plt.xlim(-w_range - 0.5, w_range + .5)\n",
    "plt.ylim(-w_range - .5, w_range + .5)\n",
    "plt.xlabel('$w_0$', fontsize=14)\n",
    "plt.ylabel('$w_1$', fontsize=14)\n",
    "\n",
    "plt.subplot(1,2,2)\n",
    "plt.quiver(ww0, ww1, dff_dw0, dff_dw1) # (G) f의 경사 벡터 표시\n",
    "plt.xlabel('$w_0$', fontsize=14)\n",
    "plt.ylabel('$w_1$', fontsize=14)\n",
    "plt.xticks(range(-w_range, w_range + 1, 1))\n",
    "plt.yticks(range(-w_range, w_range + 1, 1))\n",
    "plt.xlim(-w_range - 0.5, w_range + .5)\n",
    "plt.ylim(-w_range - .5, w_range + .5)\n",
    "plt.show()"
   ]
  },
  {
   "cell_type": "markdown",
   "metadata": {},
   "source": [
    "#### 결과 해석\n",
    "- 왼쪽의 등고선 plot의 수치를 보면 f는 오른쪽 위와 왼쪽 아래가 높고, 왼쪽 위와 오른쪽 아래가 낮은 지형\n",
    "- 오른쪽 그래프가 지형의 경사이고 화살표는 각 점에서 경사가 높은 쪽을 향함\n",
    "- 경사가 가파른 정도, 즉 등고선의 간격이 좁을수록 화살표가 길다.\n",
    "- 어느 지점에서 시작하더라도 화살표를 따라가면 그래프의 보다 높은 부분으로 진행됨\n",
    "- 이렇게 경사는 함수의 최대점과 최소점을 찾는 데 중요한 개념임(머신러닝에서는 오차 함수의 최소점을 구하기 위해 오차 함수의 경사를 계산)"
   ]
  },
  {
   "cell_type": "markdown",
   "metadata": {
    "id": "WxBeDHQoyWUR"
   },
   "source": [
    "### 4.6 행렬"
   ]
  },
  {
   "cell_type": "markdown",
   "metadata": {},
   "source": [
    "- np.array를 사용하여 행렬 정의\n",
    "- 벡터를 정의할 때 : `np.array([1,2,3])` 처럼 한 쌍의 []만 정의\n",
    "- 행렬을 정의할 때 : 먼저 각 행을 [] 로 묶고 전체를 []로 묶는 이중 구조"
   ]
  },
  {
   "cell_type": "code",
   "execution_count": 63,
   "metadata": {
    "id": "WyJn2lnIyY83"
   },
   "outputs": [],
   "source": [
    "import numpy as np"
   ]
  },
  {
   "cell_type": "code",
   "execution_count": 64,
   "metadata": {
    "colab": {
     "base_uri": "https://localhost:8080/"
    },
    "executionInfo": {
     "elapsed": 654,
     "status": "ok",
     "timestamp": 1604233919354,
     "user": {
      "displayName": "wooki park",
      "photoUrl": "",
      "userId": "01162254528265100624"
     },
     "user_tz": -540
    },
    "id": "qxgxEdo8yqgX",
    "outputId": "41c4067f-b347-4365-f104-7b186d0ef5f4"
   },
   "outputs": [
    {
     "name": "stdout",
     "output_type": "stream",
     "text": [
      "[[1 2 3]\n",
      " [4 5 6]]\n"
     ]
    }
   ],
   "source": [
    "A = np.array([[1,2,3], [4,5,6]])\n",
    "print(A)"
   ]
  },
  {
   "cell_type": "code",
   "execution_count": 65,
   "metadata": {
    "colab": {
     "base_uri": "https://localhost:8080/"
    },
    "executionInfo": {
     "elapsed": 601,
     "status": "ok",
     "timestamp": 1604233939209,
     "user": {
      "displayName": "wooki park",
      "photoUrl": "",
      "userId": "01162254528265100624"
     },
     "user_tz": -540
    },
    "id": "-t4AYuvMyvfO",
    "outputId": "e0178ea8-aa67-4065-d8e9-d2affa68ecaa"
   },
   "outputs": [
    {
     "name": "stdout",
     "output_type": "stream",
     "text": [
      "[[ 7  8  9]\n",
      " [10 11 12]]\n"
     ]
    }
   ],
   "source": [
    "B = np.array([[7,8,9], [10,11,12]])\n",
    "print(B)"
   ]
  },
  {
   "cell_type": "markdown",
   "metadata": {},
   "source": [
    "\n",
    "- 덧셈, 뺄셈, 스칼라배 연산 : 동일하게 `A+B`, `A-B`, `n*A`"
   ]
  },
  {
   "cell_type": "code",
   "execution_count": 66,
   "metadata": {
    "colab": {
     "base_uri": "https://localhost:8080/"
    },
    "executionInfo": {
     "elapsed": 576,
     "status": "ok",
     "timestamp": 1604233955094,
     "user": {
      "displayName": "wooki park",
      "photoUrl": "",
      "userId": "01162254528265100624"
     },
     "user_tz": -540
    },
    "id": "Np7ugPbty0YD",
    "outputId": "907062fd-b34d-435c-a48d-ab7b911aaa0b"
   },
   "outputs": [
    {
     "name": "stdout",
     "output_type": "stream",
     "text": [
      "[[ 8 10 12]\n",
      " [14 16 18]]\n",
      "[[-6 -6 -6]\n",
      " [-6 -6 -6]]\n"
     ]
    }
   ],
   "source": [
    "print(A + B)\n",
    "print(A - B)"
   ]
  },
  {
   "cell_type": "code",
   "execution_count": 67,
   "metadata": {
    "colab": {
     "base_uri": "https://localhost:8080/"
    },
    "executionInfo": {
     "elapsed": 745,
     "status": "ok",
     "timestamp": 1604233978029,
     "user": {
      "displayName": "wooki park",
      "photoUrl": "",
      "userId": "01162254528265100624"
     },
     "user_tz": -540
    },
    "id": "Qtz3VKjmy4Se",
    "outputId": "a732901f-27ed-4e75-af7a-ddff2c5a88e1"
   },
   "outputs": [
    {
     "name": "stdout",
     "output_type": "stream",
     "text": [
      "[[ 2  4  6]\n",
      " [ 8 10 12]]\n"
     ]
    }
   ],
   "source": [
    "A = np.array([ [1,2,3], [4,5,6] ])\n",
    "print(2*A)"
   ]
  },
  {
   "cell_type": "markdown",
   "metadata": {},
   "source": [
    "- `A.dot(B)`와 `*`과의 차이\n",
    "    - `A.dot(B)` : 내적에 국한되지 않고 행렬의 곱을 계산하는 연산\n",
    "    - 파이썬에서 행렬을 곱할때는 방향이 자동으로 조절됨\n",
    "    - 아래의 경우, B는 세로 벡터로 해석되어 내적이 계산됨\n",
    "    - 보통의 곱셈 기호 `*`를 사용하면 대응되는 요소끼리의 곱셈 수행"
   ]
  },
  {
   "cell_type": "code",
   "execution_count": 68,
   "metadata": {
    "colab": {
     "base_uri": "https://localhost:8080/"
    },
    "executionInfo": {
     "elapsed": 661,
     "status": "ok",
     "timestamp": 1604234003425,
     "user": {
      "displayName": "wooki park",
      "photoUrl": "",
      "userId": "01162254528265100624"
     },
     "user_tz": -540
    },
    "id": "BNCrtM9hy92J",
    "outputId": "55455aec-3d71-4a4f-daad-d40e824b6e20"
   },
   "outputs": [
    {
     "name": "stdout",
     "output_type": "stream",
     "text": [
      "32\n"
     ]
    }
   ],
   "source": [
    "A = np.array([1,2,3])\n",
    "B = np.array([4,5,6])\n",
    "print(A.dot(B)) #내적"
   ]
  },
  {
   "cell_type": "code",
   "execution_count": 69,
   "metadata": {
    "colab": {
     "base_uri": "https://localhost:8080/"
    },
    "executionInfo": {
     "elapsed": 558,
     "status": "ok",
     "timestamp": 1604234029967,
     "user": {
      "displayName": "wooki park",
      "photoUrl": "",
      "userId": "01162254528265100624"
     },
     "user_tz": -540
    },
    "id": "kyIvVvq2zECT",
    "outputId": "6db65be3-11b6-49e0-9a82-080e6079adc3"
   },
   "outputs": [
    {
     "name": "stdout",
     "output_type": "stream",
     "text": [
      "[ 4 10 18]\n"
     ]
    }
   ],
   "source": [
    "A = np.array([1,2,3])\n",
    "B = np.array([4,5,6])\n",
    "print(A * B) #요소끼리의 곱"
   ]
  },
  {
   "cell_type": "markdown",
   "metadata": {},
   "source": [
    "- `/`:  해당 요소끼리 나눗셈"
   ]
  },
  {
   "cell_type": "code",
   "execution_count": 70,
   "metadata": {
    "colab": {
     "base_uri": "https://localhost:8080/"
    },
    "executionInfo": {
     "elapsed": 546,
     "status": "ok",
     "timestamp": 1604234043171,
     "user": {
      "displayName": "wooki park",
      "photoUrl": "",
      "userId": "01162254528265100624"
     },
     "user_tz": -540
    },
    "id": "OhPwKRFEzKkT",
    "outputId": "25c85d7f-991e-4f80-f60e-28881bd98f7f"
   },
   "outputs": [
    {
     "name": "stdout",
     "output_type": "stream",
     "text": [
      "[0.25 0.4  0.5 ]\n"
     ]
    }
   ],
   "source": [
    "A = np.array([1,2,3])\n",
    "B = np.array([4,5,6])\n",
    "print(A / B)"
   ]
  },
  {
   "cell_type": "markdown",
   "metadata": {},
   "source": [
    "- L x M 행렬과 M x N 행렬의 곱\n",
    "    - 일반적으로 A가 L x M 행렬이고 B는 M x N 행렬일 때 AB의 크기는 L x N\n",
    "    - A의 열의 수= B의 행의 수\n",
    "    - AB != BA (스칼라배와 다르게 행렬곱은 교환법칙 성립 안함)"
   ]
  },
  {
   "cell_type": "code",
   "execution_count": 71,
   "metadata": {
    "colab": {
     "base_uri": "https://localhost:8080/"
    },
    "executionInfo": {
     "elapsed": 689,
     "status": "ok",
     "timestamp": 1604234098535,
     "user": {
      "displayName": "wooki park",
      "photoUrl": "",
      "userId": "01162254528265100624"
     },
     "user_tz": -540
    },
    "id": "H6b45SaZzNy3",
    "outputId": "80df6b88-ae66-40f8-9f2f-b270ee562539"
   },
   "outputs": [
    {
     "name": "stdout",
     "output_type": "stream",
     "text": [
      "[[ 32 -32]\n",
      " [-32  32]]\n"
     ]
    }
   ],
   "source": [
    "A = np.array([ [1,2,3], [-1,-2,-3] ])\n",
    "B = np.array([ [4, -4], [5 ,-5], [6, -6] ])\n",
    "print(A.dot(B))"
   ]
  },
  {
   "cell_type": "markdown",
   "metadata": {},
   "source": [
    "- `np.identity(n)`: n x n 단위 행렬 생성\n",
    "    - 각 요소에 붙은 `.`: 소수도 나타낼 수 있는 float 형임을 의미\n",
    "    - 단위 행렬은 스칼라의 1과 비슷하다.\n",
    "    - 어떤 행렬에 단위 행렬을 곱해도 행렬은 변경되지 않는다."
   ]
  },
  {
   "cell_type": "code",
   "execution_count": 72,
   "metadata": {
    "colab": {
     "base_uri": "https://localhost:8080/"
    },
    "executionInfo": {
     "elapsed": 579,
     "status": "ok",
     "timestamp": 1604234116106,
     "user": {
      "displayName": "wooki park",
      "photoUrl": "",
      "userId": "01162254528265100624"
     },
     "user_tz": -540
    },
    "id": "swaaekE9zbKD",
    "outputId": "57442eb8-a9b8-4712-9844-e658de42d34e"
   },
   "outputs": [
    {
     "name": "stdout",
     "output_type": "stream",
     "text": [
      "[[1. 0. 0.]\n",
      " [0. 1. 0.]\n",
      " [0. 0. 1.]]\n"
     ]
    }
   ],
   "source": [
    "print(np.identity(3))"
   ]
  },
  {
   "cell_type": "code",
   "execution_count": 73,
   "metadata": {
    "colab": {
     "base_uri": "https://localhost:8080/"
    },
    "executionInfo": {
     "elapsed": 613,
     "status": "ok",
     "timestamp": 1604234149453,
     "user": {
      "displayName": "wooki park",
      "photoUrl": "",
      "userId": "01162254528265100624"
     },
     "user_tz": -540
    },
    "id": "S07YGQXwzfmC",
    "outputId": "578ac8ae-d960-4d09-9f57-411f4bbdbea0"
   },
   "outputs": [
    {
     "name": "stdout",
     "output_type": "stream",
     "text": [
      "[[1. 2. 3.]\n",
      " [4. 5. 6.]\n",
      " [7. 8. 9.]]\n"
     ]
    }
   ],
   "source": [
    "A = np.array([ [1,2,3], [4,5,6], [7,8,9] ])\n",
    "I = np.identity(3)\n",
    "print(A.dot(I))"
   ]
  },
  {
   "cell_type": "markdown",
   "metadata": {},
   "source": [
    "### 4.6 역행렬"
   ]
  },
  {
   "cell_type": "markdown",
   "metadata": {},
   "source": [
    "- `np.linalg.inv(A)` : A의 역행렬을 구할 수 있다.\n",
    "- 역행렬이 존재하지 않는 행렬도 있음을 주의 (분수의 분모가 0이 되어 버림)"
   ]
  },
  {
   "cell_type": "code",
   "execution_count": 74,
   "metadata": {
    "colab": {
     "base_uri": "https://localhost:8080/"
    },
    "executionInfo": {
     "elapsed": 613,
     "status": "ok",
     "timestamp": 1604234184436,
     "user": {
      "displayName": "wooki park",
      "photoUrl": "",
      "userId": "01162254528265100624"
     },
     "user_tz": -540
    },
    "id": "4jlDpEEZznse",
    "outputId": "bc660456-f5b8-479c-fe53-a857bc3f8ff8"
   },
   "outputs": [
    {
     "name": "stdout",
     "output_type": "stream",
     "text": [
      "[[-2.   1. ]\n",
      " [ 1.5 -0.5]]\n"
     ]
    }
   ],
   "source": [
    "A = np.array([ [1,2], [3,4]])\n",
    "invA = np.linalg.inv(A)\n",
    "print(invA)"
   ]
  },
  {
   "cell_type": "markdown",
   "metadata": {},
   "source": [
    "- `A.T`: 전치하여 가로벡터를 세로벡터로, 세로벡터를 가로벡터로 만듦"
   ]
  },
  {
   "cell_type": "code",
   "execution_count": 75,
   "metadata": {
    "colab": {
     "base_uri": "https://localhost:8080/"
    },
    "executionInfo": {
     "elapsed": 595,
     "status": "ok",
     "timestamp": 1604234214335,
     "user": {
      "displayName": "wooki park",
      "photoUrl": "",
      "userId": "01162254528265100624"
     },
     "user_tz": -540
    },
    "id": "4t8x6nqXzwRa",
    "outputId": "fa99dcd5-8d7d-407b-bc1a-441fe96de291"
   },
   "outputs": [
    {
     "name": "stdout",
     "output_type": "stream",
     "text": [
      "[[1 2 3]\n",
      " [4 5 6]]\n",
      "[[1 4]\n",
      " [2 5]\n",
      " [3 6]]\n"
     ]
    }
   ],
   "source": [
    "A = np.array([ [1,2,3], [4,5,6] ])\n",
    "print(A)\n",
    "print(A.T)"
   ]
  },
  {
   "cell_type": "markdown",
   "metadata": {
    "id": "HE7JjzYIz3ks"
   },
   "source": [
    "### 4.7 지수 함수와 로그 함수"
   ]
  },
  {
   "cell_type": "markdown",
   "metadata": {},
   "source": [
    "#### 지수함수\n",
    "- `a>1` 인 경우: 단조 증가 그래프\n",
    "- `0<a<1` 인 경우는 단조 감소 함수\n",
    "- 밑 a가 클수록 그래프는 급격히 증가함\n",
    "- 지수 함수의 y값은 항상 0보다 크다 (그래서 모두 양수로 옮기는 역할을 하는 함수)"
   ]
  },
  {
   "cell_type": "code",
   "execution_count": 76,
   "metadata": {
    "colab": {
     "base_uri": "https://localhost:8080/",
     "height": 324
    },
    "executionInfo": {
     "elapsed": 679,
     "status": "ok",
     "timestamp": 1604234632512,
     "user": {
      "displayName": "wooki park",
      "photoUrl": "",
      "userId": "01162254528265100624"
     },
     "user_tz": -540
    },
    "id": "o5ivqIi002uU",
    "outputId": "917971fe-c0f0-467e-8519-8fc286692bbf",
    "scrolled": true
   },
   "outputs": [
    {
     "data": {
      "image/png": "[encoded data removed]",
      "text/plain": [
       "<Figure size 360x360 with 1 Axes>"
      ]
     },
     "metadata": {
      "needs_background": "light"
     },
     "output_type": "display_data"
    }
   ],
   "source": [
    "import numpy as np\n",
    "import matplotlib.pyplot as plt\n",
    "\n",
    "%matplotlib inline\n",
    "\n",
    "x = np.linspace(-4, 4, 100)\n",
    "y = 2**x\n",
    "y2 = 3**x\n",
    "y3 = 0.5**x\n",
    "\n",
    "plt.figure(figsize=(5,5))\n",
    "plt.plot(x,y, 'black', linewidth=3, label='$y=2^x$')\n",
    "plt.plot(x, y2, 'cornflowerblue', linewidth=3, label='$y=3^x$')\n",
    "plt.plot(x, y3, 'gray', linewidth=3, label='$y=0.5^x$')\n",
    "plt.ylim(-2, 6)\n",
    "plt.xlim(-4, 4)\n",
    "plt.grid(True)\n",
    "plt.legend(loc='lower right')\n",
    "plt.show()"
   ]
  },
  {
   "cell_type": "markdown",
   "metadata": {},
   "source": [
    "#### 로그함수\n",
    "\n",
    "- 밑이 2인log 그래프를 그림(y2)\n",
    "- $y= a^x$ 그래프와 y=x 선에서 대칭 (지수함수, 로그함수는 서로 역함수 관계니까)\n"
   ]
  },
  {
   "cell_type": "code",
   "execution_count": 89,
   "metadata": {},
   "outputs": [
    {
     "data": {
      "image/png": "[encoded data removed]",
      "text/plain": [
       "<Figure size 360x360 with 1 Axes>"
      ]
     },
     "metadata": {
      "needs_background": "light"
     },
     "output_type": "display_data"
    }
   ],
   "source": [
    "x = np.linspace(-8,8,100)\n",
    "y = 2**x #지수함수\n",
    "\n",
    "x2 = np.linspace(0.001, 8, 100) \n",
    "y2 = np.log(x2) / np.log(2) #로그함수\n",
    "plt.figure(figsize=(5,5))  \n",
    "plt.plot(x,y,'black',linewidth=3)#지수함수가 블랙\n",
    "plt.plot(x2,y2, 'cornflowerblue', linewidth=3) #로그함수가 블루\n",
    "plt.plot(x,x,'black', linestyle='--', linewidth=1)\n",
    "plt.ylim(-8, 8)\n",
    "plt.xlim(-8,8)\n",
    "plt.grid(True)\n",
    "plt.show()"
   ]
  },
  {
   "cell_type": "markdown",
   "metadata": {},
   "source": [
    "#### $y = (x-1)^2 + 2$ 라는 함수에 log를 취해서 비교해 봄\n",
    "- 로그를 취해도 최솟값일 때의 x값은 변하지 않는다. \n",
    "- $min f(x)$ 는 $f(x)$의 최솟값을 의미한다. \n",
    "- $argmin f(x)$는 $f(x)$가 최솟값을 취하는 a 라는 뜻.\n",
    "- 아래 그래프에서는 log를 취하기 전 후 모두 최솟값일때의 x가 1로 동일함"
   ]
  },
  {
   "cell_type": "code",
   "execution_count": 88,
   "metadata": {
    "colab": {
     "base_uri": "https://localhost:8080/",
     "height": 269
    },
    "executionInfo": {
     "elapsed": 919,
     "status": "ok",
     "timestamp": 1604234894959,
     "user": {
      "displayName": "wooki park",
      "photoUrl": "",
      "userId": "01162254528265100624"
     },
     "user_tz": -540
    },
    "id": "_E3qH9fe2Ec0",
    "outputId": "d9b2d629-fe9b-4cc7-df13-cef0591bd3cb"
   },
   "outputs": [
    {
     "data": {
      "image/png": "[encoded data removed]",
      "text/plain": [
       "<Figure size 288x288 with 1 Axes>"
      ]
     },
     "metadata": {
      "needs_background": "light"
     },
     "output_type": "display_data"
    }
   ],
   "source": [
    "x = np.linspace(-4, 4, 100)\n",
    "y = (x - 1)**2 + 2\n",
    "logy = np.log(y)\n",
    "\n",
    "plt.figure(figsize=(4,4))\n",
    "plt.plot(x,y,'black', linewidth=3) #로그안취한게 블랙\n",
    "\n",
    "plt.plot(x, logy, 'cornflowerblue', linewidth=3) #로그취한게 블루\n",
    "plt.yticks(range(-4,9,1))\n",
    "plt.xticks(range(-4,5,1))\n",
    "plt.ylim(-4, 8)\n",
    "plt.xlim(-4, 4)\n",
    "plt.grid(True)\n",
    "plt.show()"
   ]
  },
  {
   "cell_type": "markdown",
   "metadata": {
    "id": "Za33w5vj2dqS"
   },
   "source": [
    "#### 지수 함수의 미분\n",
    "- $a=e$의 경우 미분해도 함수의 형태가 변하지 않는다.\n",
    "\n",
    "- 이러한 성질 때문에 시그모이드, 소프트맥스, 가우스 함수에서 $e\\$를 사용한다.\n",
    "\n",
    "- 코드에서 a=2로 두었는데 실제 $e\\$값 (2.71xxxx)에 가깝게 설정할수록 회색, 검정 그래프가 겹침"
   ]
  },
  {
   "cell_type": "code",
   "execution_count": 98,
   "metadata": {
    "colab": {
     "base_uri": "https://localhost:8080/",
     "height": 269
    },
    "executionInfo": {
     "elapsed": 631,
     "status": "ok",
     "timestamp": 1604234990752,
     "user": {
      "displayName": "wooki park",
      "photoUrl": "",
      "userId": "01162254528265100624"
     },
     "user_tz": -540
    },
    "id": "qkvT7mS_2gs0",
    "outputId": "b22d93da-6800-4523-ed73-ee175203e10e"
   },
   "outputs": [
    {
     "data": {
      "image/png": "[encoded data removed]",
      "text/plain": [
       "<Figure size 288x288 with 1 Axes>"
      ]
     },
     "metadata": {
      "needs_background": "light"
     },
     "output_type": "display_data"
    }
   ],
   "source": [
    "x = np.linspace(-4, 4, 100)\n",
    "a = 2\n",
    "y = a**x\n",
    "dy = np.log(a) * y\n",
    "\n",
    "plt.figure(figsize=(4,4))\n",
    "plt.plot(x,y,'gray', linestyle='--', linewidth=3) #미분전\n",
    "plt.plot(x, dy, color='black', linewidth=3) #미분 후\n",
    "plt.ylim(-1, 8)\n",
    "plt.xlim(-4, 4)\n",
    "plt.grid(True)\n",
    "plt.show()"
   ]
  },
  {
   "cell_type": "code",
   "execution_count": 107,
   "metadata": {},
   "outputs": [
    {
     "data": {
      "image/png": "[encoded data removed]",
      "text/plain": [
       "<Figure size 288x288 with 1 Axes>"
      ]
     },
     "metadata": {
      "needs_background": "light"
     },
     "output_type": "display_data"
    }
   ],
   "source": [
    "x = np.linspace(-4, 4, 100)\n",
    "a = 2.71\n",
    "y = a**x\n",
    "dy = np.log(a) * y\n",
    "\n",
    "plt.figure(figsize=(4,4))\n",
    "plt.plot(x,y,'r', linestyle='--', linewidth=3) #미분전\n",
    "plt.plot(x, dy, color='black', linewidth=2) #미분 후\n",
    "plt.ylim(-1, 8)\n",
    "plt.xlim(-4, 4)\n",
    "plt.grid(True)\n",
    "plt.show()"
   ]
  },
  {
   "cell_type": "markdown",
   "metadata": {
    "id": "uuyOIjEJ21Hj"
   },
   "source": [
    "#### 로그 함수의 미분\n",
    "- 로그함수의 미분은 반비례가 된다.\n",
    "- np.log(x)를 미분하면 $1/x$가 된다. "
   ]
  },
  {
   "cell_type": "code",
   "execution_count": 80,
   "metadata": {
    "colab": {
     "base_uri": "https://localhost:8080/",
     "height": 269
    },
    "executionInfo": {
     "elapsed": 709,
     "status": "ok",
     "timestamp": 1604235082949,
     "user": {
      "displayName": "wooki park",
      "photoUrl": "",
      "userId": "01162254528265100624"
     },
     "user_tz": -540
    },
    "id": "ArHBX9Vm24dh",
    "outputId": "1e18f8ea-5b0e-441f-de84-8328ec2e340b"
   },
   "outputs": [
    {
     "data": {
      "image/png": "[encoded data removed]",
      "text/plain": [
       "<Figure size 288x288 with 1 Axes>"
      ]
     },
     "metadata": {
      "needs_background": "light"
     },
     "output_type": "display_data"
    }
   ],
   "source": [
    "x = np.linspace(0.0001, 4, 100) # 0 이하로 정의할 수 없는.\n",
    "y = np.log(x)\n",
    "dy = 1 / x\n",
    "\n",
    "plt.figure(figsize=(4,4))\n",
    "plt.plot(x,y, 'gray', linestyle='--', linewidth=3) #로그함수 시각화\n",
    "plt.plot(x, dy, color='black', linewidth=3) #미분한 로그함수 (1/x 시각화)\n",
    "plt.ylim(-8, 8)\n",
    "plt.xlim(-1, 4)\n",
    "plt.grid(True)\n",
    "plt.show()"
   ]
  },
  {
   "cell_type": "markdown",
   "metadata": {
    "id": "z8SSyBSA3Lm-"
   },
   "source": [
    "#### 시그모이드 함수\n",
    "- 음에서 양의 실수를 0~1 사이로 반환해서 확률로 표현해야 할 때 자주 사용됨\n",
    "- 분류 문제로 등장, 신경망 뉴런의 특성을 나타내는 중요한 함수로도 쓰임"
   ]
  },
  {
   "cell_type": "code",
   "execution_count": 81,
   "metadata": {
    "colab": {
     "base_uri": "https://localhost:8080/",
     "height": 269
    },
    "executionInfo": {
     "elapsed": 651,
     "status": "ok",
     "timestamp": 1604235153547,
     "user": {
      "displayName": "wooki park",
      "photoUrl": "",
      "userId": "01162254528265100624"
     },
     "user_tz": -540
    },
    "id": "Fcv1LakE3OR8",
    "outputId": "5f0443ed-c5db-47b7-c1e8-7cdd2cfa98e4"
   },
   "outputs": [
    {
     "data": {
      "image/png": "[encoded data removed]",
      "text/plain": [
       "<Figure size 288x288 with 1 Axes>"
      ]
     },
     "metadata": {
      "needs_background": "light"
     },
     "output_type": "display_data"
    }
   ],
   "source": [
    "x = np.linspace(-10, 10, 100)\n",
    "y = 1 / (1 + np.exp(-x))\n",
    "\n",
    "plt.figure(figsize=(4,4))\n",
    "plt.plot(x,y, 'black', linewidth=3)\n",
    "\n",
    "plt.ylim(-1,2 )\n",
    "plt.xlim(-10,10)\n",
    "plt.grid(True)\n",
    "plt.show()"
   ]
  },
  {
   "cell_type": "markdown",
   "metadata": {
    "id": "lPMRQpwc3c2Q"
   },
   "source": [
    "#### 소프트맥스 함수\n",
    "- 복수 값의 대소 관계를 유지하면서, 확률로서의 값(각각의 값은 0~1로, 합은 1)로 변환하는 함수\n",
    "- 다변수일 때도 사용 가능\n",
    "- 다 합하면 1임\n",
    "- 시그모이드 함수를 다변수로 확장한 것이 소프트맥스 함수"
   ]
  },
  {
   "cell_type": "code",
   "execution_count": 90,
   "metadata": {
    "colab": {
     "base_uri": "https://localhost:8080/"
    },
    "executionInfo": {
     "elapsed": 644,
     "status": "ok",
     "timestamp": 1604235256406,
     "user": {
      "displayName": "wooki park",
      "photoUrl": "",
      "userId": "01162254528265100624"
     },
     "user_tz": -540
    },
    "id": "83BEhq9b3fxA",
    "outputId": "7f038b21-e874-4cc6-aa06-1d94cda218fa"
   },
   "outputs": [
    {
     "name": "stdout",
     "output_type": "stream",
     "text": [
      "[0.71 0.26 0.04]\n",
      "1.0\n"
     ]
    }
   ],
   "source": [
    "def softmax(x0,x1,x2):\n",
    "    u = np.exp(x0) + np.exp(x1) + np.exp(x2)\n",
    "    return np.exp(x0) / u, np.exp(x1) / u, np.exp(x2) / u\n",
    "\n",
    "#test\n",
    "y = softmax(2, 1, -1)\n",
    "print(np.round(y,2)) # (A) 소수점 2자리로 표시\n",
    "print(np.sum(y)) # (B) 합계는 1"
   ]
  },
  {
   "cell_type": "markdown",
   "metadata": {},
   "source": [
    "- $softmax$ 함수를 3차원 그림으로 시각화\n",
    "- $x_{2} = 1$로 고정하면 $y_{0}, y_{1}$ 은 0과 1사이의 값으로 변화함\n",
    "- $x_{0}$이 커지면 $y_{0}$은 1에 가까워지고  $x_{1}$이 커지면 $y_{1}$이 1에 가까워진다."
   ]
  },
  {
   "cell_type": "code",
   "execution_count": 83,
   "metadata": {
    "colab": {
     "base_uri": "https://localhost:8080/",
     "height": 194
    },
    "executionInfo": {
     "elapsed": 1177,
     "status": "ok",
     "timestamp": 1604235452771,
     "user": {
      "displayName": "wooki park",
      "photoUrl": "",
      "userId": "01162254528265100624"
     },
     "user_tz": -540
    },
    "id": "q55-z-wY31-W",
    "outputId": "92fa8c64-fe86-486f-ca64-fa1eb060b005"
   },
   "outputs": [
    {
     "data": {
      "image/png": "[encoded data removed]",
      "text/plain": [
       "<Figure size 576x216 with 2 Axes>"
      ]
     },
     "metadata": {
      "needs_background": "light"
     },
     "output_type": "display_data"
    }
   ],
   "source": [
    "from mpl_toolkits.mplot3d import Axes3D\n",
    "\n",
    "xn = 20\n",
    "x0 = np.linspace(-4, 4, xn)\n",
    "x1 = np.linspace(-4, 4, xn)\n",
    "\n",
    "y = np.zeros( (xn, xn, 3) )\n",
    "for i0 in range(xn):\n",
    "    for i1 in range(xn):\n",
    "        y[i1, i0, :] = softmax( x0[i0], x1[i1], 1)\n",
    "\n",
    "xx0, xx1 = np.meshgrid(x0, x1)\n",
    "plt.figure(figsize=(8,3))\n",
    "for i in range(2):\n",
    "    ax = plt.subplot(1, 2, i + 1, projection='3d')\n",
    "    ax.plot_surface(xx0, xx1, y[:, :, i], rstride=1, cstride=1, alpha=0.3, color='blue', edgecolor='black')\n",
    "    ax.set_xlabel('$x_0$', fontsize=14)\n",
    "    ax.set_ylabel('$x_1$', fontsize=14)\n",
    "    ax.view_init(40, -125)\n",
    "\n",
    "plt.show()"
   ]
  },
  {
   "cell_type": "markdown",
   "metadata": {
    "id": "EX3FLBVW4jj1"
   },
   "source": [
    "#### 가우스 함수\n",
    "$$ f(x) = \\frac{1} {\\sqrt{2\\pi}\\sigma} \\exp\\left(-\\frac{(x-\\mu)^2}{2\\sigma^2}\\right) , ~~ -\\infty<x<\\infty$$\n",
    "<img src=\"https://upload.wikimedia.org/wikipedia/commons/thumb/7/74/Normal_Distribution_PDF.svg/440px-Normal_Distribution_PDF.svg.png\" width=400>\n",
    "\n",
    "- 확률론과 통계학에서 정규 분포 또는 가우스 분포는 연속 확률 분포의 하나이다. \n",
    "\n",
    "- 정규분포는 수집된 자료의 분포를 근사하는 데에 자주 사용되며, 이것은 중심극한정리에 의하여 독립적인 확률변수들의 평균은 정규분포에 가까워지는 성질이 있기 때문이다.\n",
    "\n",
    "- 정규분포는 2개의 매개 변수 평균 $\\mu$ 과 표준편차 $\\sigma$ 에 대해 모양이 결정되고, 이때의 분포를 $N(\\mu, \\sigma^2)$ 로 표기한다. 특히, 평균이 0이고 표준편차가 1인 정규분포 $N(0, 1)$을 표준 정규 분포(standard normal distribution)라고 한다."
   ]
  },
  {
   "cell_type": "markdown",
   "metadata": {},
   "source": [
    "- 검정 선의 가우스 함수(표준 정규 분포)는 $x=0$ 을 중심으로 종 모양을 하고 있다.\n",
    "- 평균을 $\\mu$로 , 표준편차를 $\\sigma$, 높이를 $\\alpha$로 하여 조절 (여기서는 2, 3, 0.5)"
   ]
  },
  {
   "cell_type": "code",
   "execution_count": 108,
   "metadata": {
    "colab": {
     "base_uri": "https://localhost:8080/",
     "height": 269
    },
    "executionInfo": {
     "elapsed": 947,
     "status": "ok",
     "timestamp": 1604235571201,
     "user": {
      "displayName": "wooki park",
      "photoUrl": "",
      "userId": "01162254528265100624"
     },
     "user_tz": -540
    },
    "id": "KydrRjvn4qQZ",
    "outputId": "4d3c081d-9e29-498c-f892-76603adb7766"
   },
   "outputs": [
    {
     "data": {
      "image/png": "[encoded data removed]",
      "text/plain": [
       "<Figure size 288x288 with 1 Axes>"
      ]
     },
     "metadata": {
      "needs_background": "light"
     },
     "output_type": "display_data"
    }
   ],
   "source": [
    "def gauss(mu, sigma, a):\n",
    "    return a * np.exp( -(x - mu)**2 / sigma**2 )\n",
    "\n",
    "x = np.linspace(-4, 4, 100)\n",
    "plt.figure(figsize=(4,4))\n",
    "plt.plot(x, gauss(0,1,1), 'black', linewidth=3) #평균 0, 분산 1 a= 1인 가우스 분포 (표준정규분포)\n",
    "plt.plot(x, gauss(2, 3, 0.5), 'gray', linewidth=3)#평균 2, 분산 3, a= 0.5인 가우스 분포\n",
    "plt.ylim(-.5, 1.5)\n",
    "plt.xlim(-4, 4)\n",
    "plt.grid(True)\n",
    "plt.show()"
   ]
  },
  {
   "cell_type": "markdown",
   "metadata": {
    "id": "534gkplD5Cv5"
   },
   "source": [
    "#### 2차원 가우스 함수\n",
    "- 혼합 가우시안 모델에서 사용되는 개념\n",
    "- input x는 N x 2의 행렬, mu는 크기가 2인 벡터, sigma는 2 x 2 행렬이다.\n",
    "- $gauss(x, mu, simga)$를 테스트하여 3개의 데이터에 대한 함수값 리턴"
   ]
  },
  {
   "cell_type": "code",
   "execution_count": 91,
   "metadata": {
    "id": "Xdj18qhA5Ite"
   },
   "outputs": [],
   "source": [
    "import numpy as np\n",
    "import matplotlib.pyplot as plt\n",
    "from mpl_toolkits.mplot3d import axes3d\n",
    "%matplotlib inline\n",
    "\n",
    "# 가우스 함수\n",
    "def gauss(x, mu, sigma):\n",
    "    N, D = x.shape\n",
    "    c1 = 1 / (2 * np.pi)**(D / 2)\n",
    "    c2 = 1 / ( np.linalg.det(sigma)**(1/2) )\n",
    "    inv_sigma = np.linalg.inv(sigma)\n",
    "    c3 = x - mu\n",
    "    c4 = np.dot(c3, inv_sigma)\n",
    "    c5 = np.zeros(N)\n",
    "    \n",
    "    for d in range(D):\n",
    "        c5 = c5 + c4[:, d] * c3[:, d]\n",
    "    p = c1 * c2 * np.exp(-c5 / 2)\n",
    "    return p"
   ]
  },
  {
   "cell_type": "code",
   "execution_count": 92,
   "metadata": {
    "colab": {
     "base_uri": "https://localhost:8080/"
    },
    "executionInfo": {
     "elapsed": 570,
     "status": "ok",
     "timestamp": 1604235786625,
     "user": {
      "displayName": "wooki park",
      "photoUrl": "",
      "userId": "01162254528265100624"
     },
     "user_tz": -540
    },
    "id": "ul8EUsa_5tC7",
    "outputId": "a415d925-3dfd-4c74-a658-58381dcc666a"
   },
   "outputs": [
    {
     "name": "stdout",
     "output_type": "stream",
     "text": [
      "[0.15915494 0.05854983 0.00291502]\n"
     ]
    }
   ],
   "source": [
    "x = np.array([ [1,2], [2,1], [3,4] ])\n",
    "mu = np.array([1,2])\n",
    "sigma = np.array([ [1,0], [0,1] ])\n",
    "print(gauss(x, mu, sigma))"
   ]
  },
  {
   "cell_type": "markdown",
   "metadata": {},
   "source": [
    " #### 위 함수를 등고선과 3D로 시각화함\n",
    " - (A): 분포의 중심은 $\\mu$ (1, 0.5)\n",
    " - (B): $\\sigma_{2}=1$로 상향 확산 분포가 됨"
   ]
  },
  {
   "cell_type": "code",
   "execution_count": 87,
   "metadata": {
    "colab": {
     "base_uri": "https://localhost:8080/",
     "height": 233
    },
    "executionInfo": {
     "elapsed": 1140,
     "status": "ok",
     "timestamp": 1604236296804,
     "user": {
      "displayName": "wooki park",
      "photoUrl": "",
      "userId": "01162254528265100624"
     },
     "user_tz": -540
    },
    "id": "PAqqnmZP53cJ",
    "outputId": "2e82e060-8623-43c0-8eba-815bace3dcef",
    "scrolled": true
   },
   "outputs": [
    {
     "data": {
      "image/png": "[encoded data removed]",
      "text/plain": [
       "<Figure size 504x216 with 2 Axes>"
      ]
     },
     "metadata": {
      "needs_background": "light"
     },
     "output_type": "display_data"
    }
   ],
   "source": [
    "X_range0 = [-3,3]\n",
    "X_range1= [-3,3]\n",
    "\n",
    "# 등고선 표시 -------------------\n",
    "def show_contour_gauss(mu, sig):\n",
    "    xn = 40 # 등고선 표시 해상도\n",
    "    x0 = np.linspace(X_range0[0], X_range0[1], xn)\n",
    "    x1 = np.linspace(X_range1[0], X_range1[1], xn)\n",
    "    xx0, xx1 = np.meshgrid(x0,x1)\n",
    "    x = np.c_[np.reshape(xx0, xn * xn, 'F'), np.reshape(xx1, xn * xn, 'F')]\n",
    "    f = gauss(x ,mu, sig)\n",
    "    f = f.reshape(xn, xn)\n",
    "    f = f.T\n",
    "    cont = plt.contour(xx0, xx1, f, 15, colors='k')\n",
    "    plt.grid(True)\n",
    "\n",
    "#3D 표시 -----------------------\n",
    "def show3d_gauss(ax, mu, sig):\n",
    "    xn = 40 #등고선 표시 해상도\n",
    "    x0 = np.linspace(X_range0[0], X_range0[1], xn)\n",
    "    x1 = np.linspace(X_range1[0], X_range1[1], xn)\n",
    "    xx0, xx1 = np.meshgrid(x0,x1)\n",
    "    x = np.c_[np.reshape(xx0, xn * xn, 'F'), np.reshape(xx1, xn * xn, 'F')]\n",
    "    f = gauss(x, mu, sig)\n",
    "    f = f.reshape(xn, xn)\n",
    "    f = f.T\n",
    "    ax.plot_surface(xx0, xx1, f,\n",
    "                    rstride=2, cstride=2, alpha=0.3,\n",
    "                    color='blue', edgecolor='black')\n",
    "\n",
    "#메인 ----------------------\n",
    "mu = np.array([1, 0.5]) # (A)\n",
    "sigma = np.array([ [2,1], [1,1] ]) # (B)\n",
    "Fig = plt.figure(1, figsize=(7,3))\n",
    "Fig.add_subplot(1,2,1)\n",
    "show_contour_gauss(mu, sigma)\n",
    "plt.xlim(X_range0)\n",
    "plt.ylim(X_range1)\n",
    "plt.xlabel('$x_0$', fontsize=14)\n",
    "plt.ylabel('$x_1$', fontsize=14)\n",
    "Ax = Fig.add_subplot(1,2,2,projection='3d')\n",
    "show3d_gauss(Ax, mu, sigma)\n",
    "Ax.set_zticks([0.05, 0.10])\n",
    "Ax.set_xlabel('$x_0$', fontsize=14)\n",
    "Ax.set_ylabel('$x_1$', fontsize=14)\n",
    "Ax.view_init(40, -100)\n",
    "plt.show()"
   ]
  }
 ],
 "metadata": {
  "colab": {
   "authorship_tag": "ABX9TyNkFjFnQy/jBR5in0t4ca0x",
   "collapsed_sections": [],
   "name": "머신러닝에 필요한 수학의 기본 - 벡터.ipynb",
   "provenance": []
  },
  "kernelspec": {
   "display_name": "Python 3",
   "language": "python",
   "name": "python3"
  },
  "language_info": {
   "codemirror_mode": {
    "name": "ipython",
    "version": 3
   },
   "file_extension": ".py",
   "mimetype": "text/x-python",
   "name": "python",
   "nbconvert_exporter": "python",
   "pygments_lexer": "ipython3",
   "version": "3.7.11"
  }
 },
 "nbformat": 4,
 "nbformat_minor": 1
}
